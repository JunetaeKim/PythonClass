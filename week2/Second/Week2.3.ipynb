{
 "cells": [
  {
   "cell_type": "markdown",
   "id": "22158ec7-625e-404b-92f6-76f23363c47f",
   "metadata": {
    "tags": []
   },
   "source": [
    "## Objective: To learn and understand the usage of integers, real numbers, and other numerical types in Python\n",
    "\n",
    "### Outline:\n",
    "\n",
    "#### ① Introduction to Python Numbers\n",
    "#### ② Integers\n",
    "#### ③ Floating-Point Numbers (Real Numbers)\n",
    "#### ④ Complex Numbers\n",
    "#### ⑤ Math Module\n",
    "#### ⑥ Example: Using Numbers in a Python Script"
   ]
  },
  {
   "cell_type": "code",
   "execution_count": null,
   "id": "b9836f23-fadb-42e7-9946-f52309aa5906",
   "metadata": {},
   "outputs": [],
   "source": []
  },
  {
   "cell_type": "markdown",
   "id": "06359f15-1445-48c5-b175-ee43991f45cf",
   "metadata": {
    "tags": []
   },
   "source": [
    "### 1. Introduction to Python Numbers\n",
    "#### Python has several numerical types to represent and work with numbers, including:\n",
    "\n",
    "#### Integers (int): Whole numbers, e.g., 42, -7\n",
    "#### Floating-Point Numbers (float): Real numbers, e.g., 3.14, -0.5\n",
    "#### Complex Numbers (complex): Numbers with real and imaginary parts, e.g., 3 + 4j"
   ]
  },
  {
   "cell_type": "code",
   "execution_count": null,
   "id": "806af2c2-361e-48b9-ba0b-e9ac67f6eed8",
   "metadata": {},
   "outputs": [],
   "source": []
  },
  {
   "cell_type": "markdown",
   "id": "9e652069-6483-4eb7-82e4-8310f7829246",
   "metadata": {
    "tags": []
   },
   "source": [
    "### 2. Integers\n",
    "#### Integers are whole numbers and can be positive, negative, or zero. \n",
    "#### In Python, integers can be of any length, limited only by available memory."
   ]
  },
  {
   "cell_type": "code",
   "execution_count": 3,
   "id": "0ade2941-b753-4844-bac3-d22e52d5cf18",
   "metadata": {},
   "outputs": [],
   "source": [
    "positive_integer = 42\n",
    "negative_integer = -7\n",
    "zero = 0"
   ]
  },
  {
   "cell_type": "code",
   "execution_count": null,
   "id": "e86fb006-4f36-443d-a7ef-a9cfef706fc2",
   "metadata": {},
   "outputs": [],
   "source": []
  },
  {
   "cell_type": "markdown",
   "id": "ec3a0cff-562b-4715-ae2c-770543520fb3",
   "metadata": {
    "tags": []
   },
   "source": [
    "### 3. Floating-Point Numbers (Real Numbers)\n",
    "#### Floating-point numbers, also known as real numbers, are numbers with a decimal point. \n",
    "#### They can be written in decimal or scientific notation."
   ]
  },
  {
   "cell_type": "code",
   "execution_count": 4,
   "id": "28b26a92-2e99-440c-8a7f-8d72d2d5b71c",
   "metadata": {},
   "outputs": [],
   "source": [
    "pi = 3.14\n",
    "negative_float = -0.5\n",
    "scientific_notation = 2.5e3"
   ]
  },
  {
   "cell_type": "code",
   "execution_count": null,
   "id": "cecfeaeb-2457-415f-8483-b96078401376",
   "metadata": {},
   "outputs": [],
   "source": []
  },
  {
   "cell_type": "markdown",
   "id": "00d61ec2-f81c-4cd0-b23a-5820f7478f77",
   "metadata": {
    "tags": []
   },
   "source": [
    "### 4. Complex Numbers\n",
    "#### Complex numbers have a real part and an imaginary part, separated by the \"+\" or \"-\" symbol and followed by a \"j\" or \"J\". \n",
    "#### Python has built-in support for complex numbers."
   ]
  },
  {
   "cell_type": "code",
   "execution_count": null,
   "id": "f37875db-eadc-47c2-98ac-17c1a49ac1aa",
   "metadata": {},
   "outputs": [],
   "source": [
    "complex_number = 3 + 4j"
   ]
  },
  {
   "cell_type": "code",
   "execution_count": null,
   "id": "782fb6f7-89af-4987-8973-f7eafcf5c489",
   "metadata": {},
   "outputs": [],
   "source": []
  },
  {
   "cell_type": "markdown",
   "id": "4ef1e87f-297b-43f0-aece-1f083e1f9ad6",
   "metadata": {
    "tags": []
   },
   "source": [
    "### 5. Math Module <br>\n",
    "#### Python's built-in math module provides additional functions for working with numbers:\n",
    "\n",
    "#### º math.sqrt(x): Square root of x\n",
    "#### º math.sin(x): Sine of x (x in radians)\n",
    "#### º math.cos(x): Cosine of x (x in radians)\n",
    "#### º math.tan(x): Tangent of x (x in radians)\n",
    "#### º math.log(x[, base]): Logarithm of x (natural logarithm if base not specified)\n",
    "#### º math.ceil(x): Smallest integer greater than or equal to x\n",
    "#### º math.floor(x): Largest integer less than or equal to x"
   ]
  },
  {
   "cell_type": "code",
   "execution_count": 7,
   "id": "9f9750e1-4b80-4a19-b33f-74a7e2e44a44",
   "metadata": {},
   "outputs": [],
   "source": [
    "import math\n",
    "\n",
    "square_root = math.sqrt(25)\n",
    "sine = math.sin(math.radians(30))\n",
    "cosine = math.cos(math.radians(45))\n",
    "tangent = math.tan(math.radians(60))\n",
    "logarithm = math.log(100, 10)\n",
    "ceil = math.ceil(3.2)\n",
    "floor = math.floor(3.8)"
   ]
  }
 ],
 "metadata": {
  "kernelspec": {
   "display_name": "Python 3 (ipykernel)",
   "language": "python",
   "name": "python3"
  },
  "language_info": {
   "codemirror_mode": {
    "name": "ipython",
    "version": 3
   },
   "file_extension": ".py",
   "mimetype": "text/x-python",
   "name": "python",
   "nbconvert_exporter": "python",
   "pygments_lexer": "ipython3",
   "version": "3.8.13"
  }
 },
 "nbformat": 4,
 "nbformat_minor": 5
}
