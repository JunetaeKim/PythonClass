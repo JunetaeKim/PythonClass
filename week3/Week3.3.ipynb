{
 "cells": [
  {
   "cell_type": "markdown",
   "id": "34aae654",
   "metadata": {},
   "source": [
    "## Objective: To learn and understand Python comparison and logical operators and their usage <br>\n",
    "https://colab.research.google.com/github/JunetaeKim/PythonClass/blob/main/week3/Week3.3.ipynb\n",
    "### Outline:\n",
    "\n",
    "#### ① Python Comparison Operators\n",
    "#### ② Python Logical Operators\n",
    "#### ③ Example: Using Comparison and Logical Operators in a Python Script"
   ]
  },
  {
   "cell_type": "code",
   "execution_count": null,
   "id": "58a8e1ef",
   "metadata": {},
   "outputs": [],
   "source": []
  },
  {
   "cell_type": "markdown",
   "id": "4b0ad79c",
   "metadata": {
    "tags": []
   },
   "source": [
    "### 1. Python Comparison Operators <br>\n",
    "#### Comparison operators are used to compare two values and evaluate to a boolean value, either True or False. Python provides the following comparison operators:\n",
    "\n",
    "#### ==: Equal to\n",
    "#### !=: Not equal to\n",
    "#### <: Less than\n",
    "#### >: Greater than\n",
    "#### <=: Less than or equal to\n",
    "#### >=: Greater than or equal to"
   ]
  },
  {
   "cell_type": "code",
   "execution_count": 1,
   "id": "236d95f8",
   "metadata": {},
   "outputs": [],
   "source": [
    "a = 10\n",
    "b = 5\n",
    "\n",
    "equal = a == b\n",
    "not_equal = a != b\n",
    "less_than = a < b\n",
    "greater_than = a > b\n",
    "less_than_or_equal = a <= b\n",
    "greater_than_or_equal = a >= b"
   ]
  },
  {
   "cell_type": "code",
   "execution_count": null,
   "id": "c0dd55bd",
   "metadata": {},
   "outputs": [],
   "source": []
  },
  {
   "cell_type": "markdown",
   "id": "6554ef9e",
   "metadata": {
    "tags": []
   },
   "source": [
    "### 2. Python Logical Operators <br>\n",
    "#### Logical operators are used to combine boolean values and evaluate to a boolean result. Python provides three logical operators:\n",
    "\n",
    "#### and: Returns True if both operands are True\n",
    "#### or: Returns True if at least one operand is True\n",
    "#### not: Returns True if the operand is False and vice versa"
   ]
  },
  {
   "cell_type": "code",
   "execution_count": 1,
   "id": "40dd3466",
   "metadata": {},
   "outputs": [],
   "source": [
    "a = True\n",
    "b = False\n",
    "\n",
    "and_result = a and b\n",
    "or_result = a or b\n",
    "not_result = not a"
   ]
  },
  {
   "cell_type": "code",
   "execution_count": null,
   "id": "aa57394c",
   "metadata": {},
   "outputs": [],
   "source": []
  },
  {
   "cell_type": "markdown",
   "id": "a4e0da22",
   "metadata": {
    "tags": []
   },
   "source": [
    "### 3. Example: Using Comparison and Logical Operators in a Python Script\n",
    "#### In this example, we'll demonstrate the use of comparison and logical operators in a simple Python script."
   ]
  },
  {
   "cell_type": "code",
   "execution_count": 6,
   "id": "6b9d6b33",
   "metadata": {},
   "outputs": [
    {
     "data": {
      "text/plain": [
       "True"
      ]
     },
     "execution_count": 6,
     "metadata": {},
     "output_type": "execute_result"
    }
   ],
   "source": [
    "# Check if a number is within a given range\n",
    "\n",
    "# Variables\n",
    "number = 35\n",
    "lower_limit = 20\n",
    "upper_limit = 50\n",
    "\n",
    "# Check if the number is within the range using comparison and logical operators\n",
    "lower_limit <= number <= upper_limit"
   ]
  }
 ],
 "metadata": {
  "kernelspec": {
   "display_name": "Python 3 (ipykernel)",
   "language": "python",
   "name": "python3"
  },
  "language_info": {
   "codemirror_mode": {
    "name": "ipython",
    "version": 3
   },
   "file_extension": ".py",
   "mimetype": "text/x-python",
   "name": "python",
   "nbconvert_exporter": "python",
   "pygments_lexer": "ipython3",
   "version": "3.8.13"
  }
 },
 "nbformat": 4,
 "nbformat_minor": 5
}
