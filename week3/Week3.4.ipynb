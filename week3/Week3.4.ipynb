{
 "cells": [
  {
   "cell_type": "markdown",
   "id": "f8d84f62-07d4-454b-9f62-13981e9be6aa",
   "metadata": {
    "tags": []
   },
   "source": [
    "## Objective: Learn to create and manipulate Python lists <br>\n",
    "https://colab.research.google.com/github/JunetaeKim/PythonClass/blob/main/week3/Week3.4.ipynb\n",
    "### Outline:\n",
    "\n",
    "#### ① Creating a List\n",
    "#### ② Accessing List Elements\n",
    "#### ③ Negative Indexing\n",
    "#### ④ Slicing Lists\n",
    "#### ⑤ Modifying List Elements\n",
    "#### ⑥ Adding Elements to a List\n",
    "#### ⑦ Removing Elements from a List\n",
    "#### ⑧ Concatenating Lists\n",
    "#### ⑨ Finding the Length of a List\n",
    "#### ⑩ Example: Working with Lists"
   ]
  },
  {
   "cell_type": "code",
   "execution_count": null,
   "id": "9fef5219-9ada-4c00-a922-c83cdd7da2e3",
   "metadata": {},
   "outputs": [],
   "source": []
  },
  {
   "cell_type": "markdown",
   "id": "c198c130-6db7-48d6-9fdc-2f64ebd2f7e2",
   "metadata": {},
   "source": [
    "### Definition: A Python list is a mutable, ordered collection of elements enclosed in square brackets [ ].\n",
    "#### Key Features:\n",
    "#### Lists can store elements of different data types (e.g., integers, strings, objects).\n",
    "#### Lists support indexing and slicing.\n",
    "#### Lists are dynamic, meaning their size can be changed during runtime. <br>\n",
    "\n",
    "### Syntax: \n",
    "#### list_name = [element1, element2, element3, ...]<br>\n",
    "\n",
    "### Examples:\n",
    "#### Empty list: my_list = [ ]\n",
    "#### Mixed data types: my_list = [1, 'apple', 3.14, True]"
   ]
  },
  {
   "cell_type": "code",
   "execution_count": null,
   "id": "3e7d99d6-4ab7-4665-b028-13c55e1bb0b0",
   "metadata": {},
   "outputs": [],
   "source": []
  },
  {
   "cell_type": "markdown",
   "id": "d03b6f13-6262-4755-9dd9-b9f13c286328",
   "metadata": {
    "tags": []
   },
   "source": [
    "### 1. Creating a List\n",
    "#### To create a list, use square brackets [] and separate the elements with commas. \n",
    "#### Lists can contain different data types, including strings, integers, and floats."
   ]
  },
  {
   "cell_type": "code",
   "execution_count": 1,
   "id": "a7fcabd4-b6a6-450d-9b2b-03d16d0c0c82",
   "metadata": {},
   "outputs": [],
   "source": [
    "fruits = [\"apple\", \"banana\", \"cherry\"]\n",
    "numbers = [1, 2, 3, 4, 5]\n",
    "mixed_list = [\"apple\", 1, 2.5]"
   ]
  },
  {
   "cell_type": "code",
   "execution_count": null,
   "id": "b8d3b423-7351-4e91-af61-03c19c1450d1",
   "metadata": {},
   "outputs": [],
   "source": []
  },
  {
   "cell_type": "markdown",
   "id": "c5544afd-4b44-41e3-add9-6d031ed2f827",
   "metadata": {},
   "source": [
    "### 2. Accessing List Elements\n",
    "#### You can access list elements using their index. Indexing starts at 0."
   ]
  },
  {
   "cell_type": "code",
   "execution_count": 2,
   "id": "f50ed430-e4e8-47ac-8aa8-1d6263136f02",
   "metadata": {},
   "outputs": [
    {
     "name": "stdout",
     "output_type": "stream",
     "text": [
      "apple\n",
      "banana\n"
     ]
    }
   ],
   "source": [
    "fruits = [\"apple\", \"banana\", \"cherry\"]\n",
    "print(fruits[0])  # Output: apple\n",
    "print(fruits[1])  # Output: banana\n"
   ]
  },
  {
   "cell_type": "code",
   "execution_count": null,
   "id": "a8f8ee7a-56dc-4ada-93b6-ac8a9c198c23",
   "metadata": {},
   "outputs": [],
   "source": []
  },
  {
   "cell_type": "markdown",
   "id": "f11bee34-3c13-4199-82dc-a27d96103006",
   "metadata": {},
   "source": [
    "### 3. Negative Indexing\n",
    "#### Negative indexing allows you to access elements from the end of the list."
   ]
  },
  {
   "cell_type": "code",
   "execution_count": 3,
   "id": "35648fa0-a43f-48e4-8242-83bd1ccb50da",
   "metadata": {},
   "outputs": [
    {
     "name": "stdout",
     "output_type": "stream",
     "text": [
      "cherry\n",
      "banana\n"
     ]
    }
   ],
   "source": [
    "fruits = [\"apple\", \"banana\", \"cherry\"]\n",
    "print(fruits[-1])  # Output: cherry\n",
    "print(fruits[-2])  # Output: banana"
   ]
  },
  {
   "cell_type": "code",
   "execution_count": null,
   "id": "9c399107-29ec-4dd1-b8b5-8d308c21d6c3",
   "metadata": {},
   "outputs": [],
   "source": []
  },
  {
   "cell_type": "markdown",
   "id": "504fc855-d298-426b-b363-8450f849f574",
   "metadata": {},
   "source": [
    "### 4. Slicing Lists\n",
    "#### Slicing allows you to get a portion of a list. \n",
    "#### Use the colon : to indicate the start and end index."
   ]
  },
  {
   "cell_type": "code",
   "execution_count": 4,
   "id": "ec459670-d480-4bca-925d-fedb7c60073f",
   "metadata": {},
   "outputs": [],
   "source": [
    "fruits = [\"apple\", \"banana\", \"cherry\", \"orange\", \"grape\"]\n",
    "sublist = fruits[1:4]  # Output: ['banana', 'cherry', 'orange']"
   ]
  },
  {
   "cell_type": "code",
   "execution_count": null,
   "id": "48be1c37-5de9-4000-ae80-fff93e3f27e2",
   "metadata": {},
   "outputs": [],
   "source": []
  },
  {
   "cell_type": "markdown",
   "id": "607fe72d-0c9d-498b-a664-b08343de76f5",
   "metadata": {},
   "source": [
    "### 5. Modifying List Elements\n",
    "#### You can modify the elements in a list by assigning a new value to the specified index."
   ]
  },
  {
   "cell_type": "code",
   "execution_count": 5,
   "id": "4ad850fb-8165-412a-99d3-57d4a2ad05a7",
   "metadata": {},
   "outputs": [
    {
     "name": "stdout",
     "output_type": "stream",
     "text": [
      "['apple', 'blueberry', 'cherry']\n"
     ]
    }
   ],
   "source": [
    "fruits = [\"apple\", \"banana\", \"cherry\"]\n",
    "fruits[1] = \"blueberry\"\n",
    "print(fruits)  # Output: ['apple', 'blueberry', 'cherry']"
   ]
  },
  {
   "cell_type": "code",
   "execution_count": null,
   "id": "a0fa5675-284b-4793-818c-925d579b2b26",
   "metadata": {},
   "outputs": [],
   "source": []
  },
  {
   "cell_type": "markdown",
   "id": "48f76faf-2021-4878-8b0f-429dfa2be3b3",
   "metadata": {
    "tags": []
   },
   "source": [
    "### 6. Adding Elements to a List\n",
    "#### You can use the append() method to add an element to the end of the list."
   ]
  },
  {
   "cell_type": "code",
   "execution_count": 6,
   "id": "4cbcc825-450b-4d5e-8922-13beaae69c58",
   "metadata": {},
   "outputs": [
    {
     "name": "stdout",
     "output_type": "stream",
     "text": [
      "['apple', 'banana', 'cherry', 'orange']\n"
     ]
    }
   ],
   "source": [
    "fruits = [\"apple\", \"banana\", \"cherry\"]\n",
    "fruits.append(\"orange\")\n",
    "print(fruits)  # Output: ['apple', 'banana', 'cherry', 'orange']"
   ]
  },
  {
   "cell_type": "code",
   "execution_count": null,
   "id": "05a6dabe-7b8e-4fcd-bf8a-528ea4c75431",
   "metadata": {},
   "outputs": [],
   "source": []
  },
  {
   "cell_type": "markdown",
   "id": "a15bc6b8-012f-4d5e-b958-524fadf3e962",
   "metadata": {
    "tags": []
   },
   "source": [
    "### 7. Removing Elements from a List\n",
    "#### The pop() method removes the last element from the list. \n",
    "#### If you want to remove a specific element, provide its index as an argument."
   ]
  },
  {
   "cell_type": "code",
   "execution_count": 13,
   "id": "05e1747e-8fb7-4ca0-a1eb-1eb66695564f",
   "metadata": {},
   "outputs": [
    {
     "name": "stdout",
     "output_type": "stream",
     "text": [
      "['apple', 'banana', 'cherry']\n"
     ]
    }
   ],
   "source": [
    "fruits = [\"apple\", \"banana\", \"cherry\", \"orange\"]\n",
    "fruits.pop()\n",
    "print(fruits)  # Output: ['apple', 'banana', 'cherry']"
   ]
  },
  {
   "cell_type": "code",
   "execution_count": null,
   "id": "3882d684-3c35-4a80-a785-f337e926f490",
   "metadata": {},
   "outputs": [],
   "source": []
  },
  {
   "cell_type": "markdown",
   "id": "188aa9c0-84ea-4c72-a9c6-2fada997c437",
   "metadata": {},
   "source": [
    "### 8. Concatenating Lists\n",
    "#### Use the + operator to combine two lists."
   ]
  },
  {
   "cell_type": "code",
   "execution_count": 8,
   "id": "708745f1-0da5-4b13-9ed3-341133288f69",
   "metadata": {},
   "outputs": [
    {
     "name": "stdout",
     "output_type": "stream",
     "text": [
      "[1, 2, 3, 4, 5, 6]\n"
     ]
    }
   ],
   "source": [
    "list1 = [1, 2, 3]\n",
    "list2 = [4, 5, 6]\n",
    "combined_list = list1 + list2\n",
    "print(combined_list)  # Output: [1, 2, 3, 4, 5, 6]"
   ]
  },
  {
   "cell_type": "code",
   "execution_count": null,
   "id": "3f4bba8c-dd85-4725-9cb1-5ab4ca860277",
   "metadata": {},
   "outputs": [],
   "source": []
  },
  {
   "cell_type": "markdown",
   "id": "accf7c37-a386-49e9-b0b4-8cf4dc86dc33",
   "metadata": {},
   "source": [
    "### 9. Finding the Length of a List\n",
    "#### Use the len() function to find the length of a list."
   ]
  },
  {
   "cell_type": "code",
   "execution_count": 9,
   "id": "cccc7cf9-c7f6-4056-a61d-38885b179cc7",
   "metadata": {},
   "outputs": [
    {
     "name": "stdout",
     "output_type": "stream",
     "text": [
      "4\n"
     ]
    }
   ],
   "source": [
    "fruits = [\"apple\", \"banana\", \"cherry\", \"orange\"]\n",
    "list_length = len(fruits)\n",
    "print(list_length)  # Output: 4"
   ]
  },
  {
   "cell_type": "code",
   "execution_count": null,
   "id": "f9dad9c8-d2b8-4735-8cc5-32f9d62dccfd",
   "metadata": {},
   "outputs": [],
   "source": []
  },
  {
   "cell_type": "markdown",
   "id": "6ba0f403-27bc-4e95-a2a2-ddb7c8b037ae",
   "metadata": {},
   "source": [
    "### 10. Example: Working with Lists\n",
    "#### In this example, we'll demonstrate a simple use case of lists without using functions, for loops, or if statements."
   ]
  },
  {
   "cell_type": "code",
   "execution_count": 10,
   "id": "0098b16e-e046-438a-9cec-994e4a5b8db1",
   "metadata": {},
   "outputs": [
    {
     "name": "stdout",
     "output_type": "stream",
     "text": [
      "The first number is 5 and the last number is 7\n",
      "The middle three numbers are [2, 9, 4]\n",
      "Modified list: [5, 3, 9, 4, 7]\n",
      "List after adding a new number: [5, 3, 9, 4, 7, 10]\n",
      "List after removing the last element: [5, 3, 9, 4, 7]\n",
      "Concatenated list: [2, 4, 6, 8, 1, 3, 5, 7]\n",
      "The length of the concatenated list is 8\n"
     ]
    }
   ],
   "source": [
    "# Create a list of numbers\n",
    "numbers = [5, 2, 9, 4, 7]\n",
    "\n",
    "# Access and print the first and last elements of the list\n",
    "first_number = numbers[0]\n",
    "last_number = numbers[-1]\n",
    "\n",
    "print(f\"The first number is {first_number} and the last number is {last_number}\")\n",
    "\n",
    "# Slice the list to get a sublist of the middle three elements\n",
    "middle_three = numbers[1:4]\n",
    "print(f\"The middle three numbers are {middle_three}\")\n",
    "\n",
    "# Modify the second element of the list\n",
    "numbers[1] = 3\n",
    "print(f\"Modified list: {numbers}\")\n",
    "\n",
    "# Add a new number to the list\n",
    "numbers.append(10)\n",
    "print(f\"List after adding a new number: {numbers}\")\n",
    "\n",
    "# Remove the last element from the list\n",
    "numbers.pop()\n",
    "print(f\"List after removing the last element: {numbers}\")\n",
    "\n",
    "# Concatenate two lists\n",
    "even_numbers = [2, 4, 6, 8]\n",
    "odd_numbers = [1, 3, 5, 7]\n",
    "all_numbers = even_numbers + odd_numbers\n",
    "print(f\"Concatenated list: {all_numbers}\")\n",
    "\n",
    "# Find the length of the list\n",
    "list_length = len(all_numbers)\n",
    "print(f\"The length of the concatenated list is {list_length}\")"
   ]
  }
 ],
 "metadata": {
  "kernelspec": {
   "display_name": "Python 3 (ipykernel)",
   "language": "python",
   "name": "python3"
  },
  "language_info": {
   "codemirror_mode": {
    "name": "ipython",
    "version": 3
   },
   "file_extension": ".py",
   "mimetype": "text/x-python",
   "name": "python",
   "nbconvert_exporter": "python",
   "pygments_lexer": "ipython3",
   "version": "3.8.13"
  }
 },
 "nbformat": 4,
 "nbformat_minor": 5
}
