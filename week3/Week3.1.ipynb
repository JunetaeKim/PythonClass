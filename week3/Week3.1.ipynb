{
 "cells": [
  {
   "cell_type": "markdown",
   "id": "1360ca20-de0b-4126-82a7-83af81fe1d39",
   "metadata": {},
   "source": [
    "## Objective: To learn and understand the usage, manipulation, and operations of strings in Python<br>\n",
    "\n",
    "### Outline:\n",
    "\n",
    "#### ① Introduction to Python Strings\n",
    "#### ② String Creation and Formatting\n",
    "#### ③ String Concatenation and Repetition\n",
    "#### ④ String Indexing and Slicing\n",
    "#### ⑤ String Length and Membership\n",
    "#### ⑥ String Methods\n",
    "#### ⑦ Example: Using Strings in a Python Script"
   ]
  },
  {
   "cell_type": "code",
   "execution_count": null,
   "id": "68cdfb60-7f7b-4806-8707-2588079788e9",
   "metadata": {},
   "outputs": [],
   "source": []
  },
  {
   "cell_type": "markdown",
   "id": "d91a7478-156b-4660-ad95-ecb400a58bf3",
   "metadata": {
    "tags": []
   },
   "source": [
    "### 1. Introduction to Python Strings\n",
    "#### In Python, strings are sequences of characters enclosed in single or double quotes. They are used to represent text and can include letters, numbers, symbols, and whitespace."
   ]
  },
  {
   "cell_type": "code",
   "execution_count": null,
   "id": "2aeaa6aa-6979-4b5d-b44c-c13477970955",
   "metadata": {},
   "outputs": [],
   "source": []
  },
  {
   "cell_type": "markdown",
   "id": "baa763ca-3d11-44ac-bd6c-d2b5a7a05a80",
   "metadata": {},
   "source": [
    "### 2. String Creation and Formatting\n",
    "#### You can create a string by enclosing text in single or double quotes:"
   ]
  },
  {
   "cell_type": "code",
   "execution_count": 1,
   "id": "f48be179-e82a-4243-943d-1a9e720c831f",
   "metadata": {},
   "outputs": [],
   "source": [
    "single_quotes = 'Hello, World!'\n",
    "double_quotes = \"Hello, World!\""
   ]
  },
  {
   "cell_type": "markdown",
   "id": "d4a2b966-5a15-4d20-8ffb-8d4980008374",
   "metadata": {},
   "source": [
    "#### To create multiline strings, use triple quotes:"
   ]
  },
  {
   "cell_type": "code",
   "execution_count": 2,
   "id": "67063901-c605-4bb7-9614-9574f76259db",
   "metadata": {},
   "outputs": [],
   "source": [
    "multiline_string = '''Line 1\n",
    "Line 2\n",
    "Line 3'''"
   ]
  },
  {
   "cell_type": "markdown",
   "id": "7bfc08c6-15a2-4ce9-a974-5b67162eedd3",
   "metadata": {},
   "source": [
    "#### You can format strings using f-strings, the str.format() method, or the % operator:"
   ]
  },
  {
   "cell_type": "code",
   "execution_count": 3,
   "id": "50fa222e-d115-47ed-9e7f-6410bdef1bcf",
   "metadata": {},
   "outputs": [],
   "source": [
    "name = \"Alice\"\n",
    "age = 30\n",
    "\n",
    "f_string = f\"My name is {name} and I am {age} years old.\"\n",
    "str_format = \"My name is {} and I am {} years old.\".format(name, age)\n",
    "percent_operator = \"My name is %s and I am %d years old.\" % (name, age)"
   ]
  },
  {
   "cell_type": "code",
   "execution_count": null,
   "id": "d378c58f-290e-4ff8-979e-f8d64e679fb5",
   "metadata": {},
   "outputs": [],
   "source": []
  },
  {
   "cell_type": "markdown",
   "id": "a1c9aeab-825e-4122-9eb9-c6498b5909e9",
   "metadata": {},
   "source": [
    "### 3. String Concatenation and Repetition\n",
    "#### To concatenate (join) strings, use the + operator:"
   ]
  },
  {
   "cell_type": "code",
   "execution_count": 4,
   "id": "a2a6d617-13e4-4e36-a2f0-a02f88db84c7",
   "metadata": {},
   "outputs": [],
   "source": [
    "first_name = \"John\"\n",
    "last_name = \"Doe\"\n",
    "full_name = first_name + \" \" + last_name"
   ]
  },
  {
   "cell_type": "markdown",
   "id": "93bbc9f1-de6a-4080-a485-b4171e3d19d7",
   "metadata": {},
   "source": [
    "#### To repeat a string a certain number of times, use the * operator:"
   ]
  },
  {
   "cell_type": "code",
   "execution_count": 5,
   "id": "b15bfb39-2f99-448d-bd3e-fee7295b7884",
   "metadata": {},
   "outputs": [],
   "source": [
    "repeat_string = \"Hello! \" * 3"
   ]
  },
  {
   "cell_type": "code",
   "execution_count": null,
   "id": "7bc9e777-8d4f-45f2-86c3-27a621fcd5a2",
   "metadata": {},
   "outputs": [],
   "source": []
  },
  {
   "cell_type": "markdown",
   "id": "518ad3cf-86ac-45d3-832d-17225f9086af",
   "metadata": {
    "tags": []
   },
   "source": [
    "### 4. String Indexing and Slicing\n",
    "#### Strings are indexed from 0, and you can access individual characters using square brackets:"
   ]
  },
  {
   "cell_type": "code",
   "execution_count": 6,
   "id": "8f857991-f287-4b6e-8282-ec9e80efef91",
   "metadata": {},
   "outputs": [],
   "source": [
    "greeting = \"Hello, World!\"\n",
    "first_char = greeting[0]\n",
    "last_char = greeting[-1]"
   ]
  },
  {
   "cell_type": "markdown",
   "id": "a235495e-e041-4855-85a6-3e6f2dc04825",
   "metadata": {
    "tags": []
   },
   "source": [
    "#### To extract a substring, use slicing:"
   ]
  },
  {
   "cell_type": "code",
   "execution_count": 7,
   "id": "761408e6-4dfa-44fb-8b4c-19061ff80663",
   "metadata": {},
   "outputs": [],
   "source": [
    "greeting = \"Hello, World!\"\n",
    "hello = greeting[:5]\n",
    "world = greeting[-6:-1]"
   ]
  },
  {
   "cell_type": "code",
   "execution_count": null,
   "id": "7ef3eba6-db45-4e85-b5db-27d400325d0f",
   "metadata": {},
   "outputs": [],
   "source": []
  },
  {
   "cell_type": "markdown",
   "id": "06f98873-8e16-4a23-a2a1-c5c55da5833f",
   "metadata": {},
   "source": [
    "### 5. String Length and Membership\n",
    "#### To find the length of a string, use the len() function:"
   ]
  },
  {
   "cell_type": "code",
   "execution_count": 8,
   "id": "8051dcd6-35d4-4e0e-ac5a-440ce5132f1b",
   "metadata": {},
   "outputs": [],
   "source": [
    "greeting = \"Hello, World!\"\n",
    "length = len(greeting)"
   ]
  },
  {
   "cell_type": "markdown",
   "id": "f0229b77-cd90-4f41-acef-e6a1a1749042",
   "metadata": {},
   "source": [
    "#### To check if a character or substring is in a string, use the in or not in keywords:"
   ]
  },
  {
   "cell_type": "code",
   "execution_count": 9,
   "id": "00e86c09-e5f8-46ff-952f-5c98bf2a4dce",
   "metadata": {},
   "outputs": [],
   "source": [
    "greeting = \"Hello, World!\"\n",
    "is_hello = \"Hello\" in greeting\n",
    "is_goodbye = \"Goodbye\" not in greeting"
   ]
  },
  {
   "cell_type": "code",
   "execution_count": null,
   "id": "8f623333-009b-4611-8a44-85a7ed36eb23",
   "metadata": {},
   "outputs": [],
   "source": []
  },
  {
   "cell_type": "markdown",
   "id": "b7e4b066-d507-4356-b9c5-abb5820da2d5",
   "metadata": {
    "tags": []
   },
   "source": [
    "### 6. String Methods<br>\n",
    "\n",
    "#### Python provides many built-in string methods for common operations:\n",
    "\n",
    "#### s.upper(): Convert s to uppercase\n",
    "#### s.lower(): Convert s to lowercase\n",
    "#### s.capitalize(): Capitalize the first character of s\n",
    "#### s.strip(): Remove leading and trailing whitespace from s\n",
    "#### s.startswith(prefix): Check if s starts with prefix\n",
    "#### s.endswith(suffix): Check if s ends with suffix\n",
    "#### s.split(sep): Split s into a list of substrings using sep as the delimiter\n",
    "#### s.join(iterable): Join the elements of iterable using s as the delimiter\n",
    "#### s.replace(old, new): Replace all occurrences of old with new in s\n",
    "#### s.find(sub): Find the first occurrence of sub in s, or -1 if not found"
   ]
  },
  {
   "cell_type": "code",
   "execution_count": 10,
   "id": "aaccc9d2-96ee-48c5-b3cf-138027a8af4c",
   "metadata": {},
   "outputs": [],
   "source": [
    "text = \"Hello, World!\"\n",
    "\n",
    "uppercase_text = text.upper()\n",
    "lowercase_text = text.lower()\n",
    "capitalized_text = text.capitalize()\n",
    "stripped_text = text.strip()\n",
    "starts_with_hello = text.startswith(\"Hello\")\n",
    "ends_with_world = text.endswith(\"World\")\n",
    "split_text = text.split(\", \")\n",
    "joined_text = \", \".join([\"Hello\", \"World\"])\n",
    "replaced_text = text.replace(\"World\", \"Universe\")\n",
    "find_hello = text.find(\"Hello\")"
   ]
  },
  {
   "cell_type": "code",
   "execution_count": null,
   "id": "67982f18-d5e1-4e38-a79e-8ebce6c6160a",
   "metadata": {},
   "outputs": [],
   "source": []
  },
  {
   "cell_type": "markdown",
   "id": "f1825d1a-1a31-458c-806a-6976fcb6de63",
   "metadata": {
    "tags": []
   },
   "source": [
    "### 7. Example: Using Strings in a Python Script\n",
    "#### In this example, we'll demonstrate the use of strings and their manipulation in a simple Python script."
   ]
  },
  {
   "cell_type": "code",
   "execution_count": 11,
   "id": "b0df2771-8c97-4dfe-8b4f-d5aaca27ec4c",
   "metadata": {},
   "outputs": [
    {
     "name": "stdout",
     "output_type": "stream",
     "text": [
      "Full name: John Doe\n",
      "Uppercase name: JOHN DOE\n",
      "True\n",
      "New full name: John Smith\n"
     ]
    }
   ],
   "source": [
    "# Variables\n",
    "first_name = \"John\"\n",
    "last_name = \"Doe\"\n",
    "\n",
    "# Concatenating strings\n",
    "full_name = first_name + \" \" + last_name\n",
    "print(\"Full name:\", full_name)\n",
    "\n",
    "# Changing case\n",
    "uppercase_name = full_name.upper()\n",
    "print(\"Uppercase name:\", uppercase_name)\n",
    "\n",
    "# Checking if a substring is in the string\n",
    "print(\"Doe\" in full_name)\n",
    "\n",
    "# Replacing part of the string\n",
    "new_full_name = full_name.replace(\"Doe\", \"Smith\")\n",
    "print(\"New full name:\", new_full_name)"
   ]
  }
 ],
 "metadata": {
  "kernelspec": {
   "display_name": "Python 3 (ipykernel)",
   "language": "python",
   "name": "python3"
  },
  "language_info": {
   "codemirror_mode": {
    "name": "ipython",
    "version": 3
   },
   "file_extension": ".py",
   "mimetype": "text/x-python",
   "name": "python",
   "nbconvert_exporter": "python",
   "pygments_lexer": "ipython3",
   "version": "3.8.13"
  }
 },
 "nbformat": 4,
 "nbformat_minor": 5
}
