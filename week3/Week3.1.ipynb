{
 "cells": [
  {
   "cell_type": "markdown",
   "id": "6cd80b81",
   "metadata": {},
   "source": [
    "## Objective: To learn and understand the usage, manipulation, and operations of strings in Python<br>\n",
    "https://colab.research.google.com/github/JunetaeKim/PythonClass/blob/main/week3/Week3.1.ipynb\n",
    "\n",
    "### Outline:\n",
    "\n",
    "#### ① Introduction to Python Strings\n",
    "#### ② String Creation and Formatting\n",
    "#### ③ String Concatenation and Repetition\n",
    "#### ④ String Indexing and Slicing\n",
    "#### ⑤ String Length and Membership\n",
    "#### ⑥ String Methods\n",
    "#### ⑦ Example: Using Strings in a Python Script"
   ]
  },
  {
   "cell_type": "code",
   "execution_count": null,
   "id": "3375f01c",
   "metadata": {},
   "outputs": [],
   "source": []
  },
  {
   "cell_type": "markdown",
   "id": "12017ec8",
   "metadata": {
    "tags": []
   },
   "source": [
    "### 1. Introduction to Python Strings\n",
    "#### In Python, strings are sequences of characters enclosed in single or double quotes. They are used to represent text and can include letters, numbers, symbols, and whitespace."
   ]
  },
  {
   "cell_type": "code",
   "execution_count": null,
   "id": "52c108e5",
   "metadata": {},
   "outputs": [],
   "source": []
  },
  {
   "cell_type": "markdown",
   "id": "4d4f3bd9",
   "metadata": {},
   "source": [
    "### 2. String Creation and Formatting\n",
    "#### You can create a string by enclosing text in single or double quotes:"
   ]
  },
  {
   "cell_type": "code",
   "execution_count": 2,
   "id": "b06ce703",
   "metadata": {},
   "outputs": [],
   "source": [
    "single_quotes = 'Hello, World!'\n",
    "double_quotes = \"Hello, World!\""
   ]
  },
  {
   "cell_type": "markdown",
   "id": "84a2058e",
   "metadata": {},
   "source": [
    "#### To create multiline strings, use triple quotes:"
   ]
  },
  {
   "cell_type": "code",
   "execution_count": 3,
   "id": "6de4028d",
   "metadata": {},
   "outputs": [],
   "source": [
    "multiline_string = '''Line 1\n",
    "Line 2\n",
    "Line 3'''"
   ]
  },
  {
   "cell_type": "markdown",
   "id": "06187e5f",
   "metadata": {},
   "source": [
    "#### You can format strings using f-strings, the str.format() method, or the % operator:"
   ]
  },
  {
   "cell_type": "code",
   "execution_count": 4,
   "id": "0ca94b71",
   "metadata": {},
   "outputs": [],
   "source": [
    "name = \"Alice\"\n",
    "age = 30\n",
    "\n",
    "f_string = f\"My name is {name} and I am {age} years old.\"\n",
    "str_format = \"My name is {} and I am {} years old.\".format(name, age)\n",
    "percent_operator = \"My name is %s and I am %d years old.\" % (name, age)"
   ]
  },
  {
   "cell_type": "code",
   "execution_count": null,
   "id": "c39bce17",
   "metadata": {},
   "outputs": [],
   "source": []
  },
  {
   "cell_type": "markdown",
   "id": "3d986b54",
   "metadata": {},
   "source": [
    "### 3. String Concatenation and Repetition\n",
    "#### To concatenate (join) strings, use the + operator:"
   ]
  },
  {
   "cell_type": "code",
   "execution_count": 5,
   "id": "118f3f24",
   "metadata": {},
   "outputs": [],
   "source": [
    "first_name = \"John\"\n",
    "last_name = \"Doe\"\n",
    "full_name = first_name + \" \" + last_name"
   ]
  },
  {
   "cell_type": "markdown",
   "id": "70c81dc0",
   "metadata": {},
   "source": [
    "#### To repeat a string a certain number of times, use the * operator:"
   ]
  },
  {
   "cell_type": "code",
   "execution_count": 6,
   "id": "18cc460b",
   "metadata": {},
   "outputs": [],
   "source": [
    "repeat_string = \"Hello! \" * 3"
   ]
  },
  {
   "cell_type": "code",
   "execution_count": null,
   "id": "0bb7bfbe",
   "metadata": {},
   "outputs": [],
   "source": []
  },
  {
   "cell_type": "markdown",
   "id": "5a4fa194",
   "metadata": {
    "tags": []
   },
   "source": [
    "### 4. String Indexing and Slicing\n",
    "#### Strings are indexed from 0, and you can access individual characters using square brackets:"
   ]
  },
  {
   "cell_type": "code",
   "execution_count": 8,
   "id": "08b354f5",
   "metadata": {},
   "outputs": [],
   "source": [
    "greeting = \"Hello, World!\"\n",
    "first_char = greeting[0]\n",
    "last_char = greeting[-1]"
   ]
  },
  {
   "cell_type": "markdown",
   "id": "1d21d794",
   "metadata": {
    "tags": []
   },
   "source": [
    "#### To extract a substring, use slicing:"
   ]
  },
  {
   "cell_type": "code",
   "execution_count": 7,
   "id": "6ae45994",
   "metadata": {},
   "outputs": [],
   "source": [
    "greeting = \"Hello, World!\"\n",
    "hello = greeting[:5]\n",
    "world = greeting[-6:-1]"
   ]
  },
  {
   "cell_type": "code",
   "execution_count": null,
   "id": "34a91d2e",
   "metadata": {},
   "outputs": [],
   "source": []
  },
  {
   "cell_type": "markdown",
   "id": "da54d213",
   "metadata": {},
   "source": [
    "### 5. String Length and Membership\n",
    "#### To find the length of a string, use the len() function:"
   ]
  },
  {
   "cell_type": "code",
   "execution_count": 8,
   "id": "747322af",
   "metadata": {},
   "outputs": [],
   "source": [
    "greeting = \"Hello, World!\"\n",
    "length = len(greeting)"
   ]
  },
  {
   "cell_type": "markdown",
   "id": "b306c803",
   "metadata": {},
   "source": [
    "#### To check if a character or substring is in a string, use the in or not in keywords:"
   ]
  },
  {
   "cell_type": "code",
   "execution_count": 9,
   "id": "7125089e",
   "metadata": {},
   "outputs": [],
   "source": [
    "greeting = \"Hello, World!\"\n",
    "is_hello = \"Hello\" in greeting\n",
    "is_goodbye = \"Goodbye\" not in greeting"
   ]
  },
  {
   "cell_type": "code",
   "execution_count": null,
   "id": "6e998b61",
   "metadata": {},
   "outputs": [],
   "source": []
  },
  {
   "cell_type": "markdown",
   "id": "4a04fe9a",
   "metadata": {
    "tags": []
   },
   "source": [
    "### 6. String Methods<br>\n",
    "\n",
    "#### Python provides many built-in string methods for common operations:\n",
    "\n",
    "#### s.upper(): Convert s to uppercase\n",
    "#### s.lower(): Convert s to lowercase\n",
    "#### s.capitalize(): Capitalize the first character of s\n",
    "#### s.strip(): Remove leading and trailing whitespace from s\n",
    "#### s.startswith(prefix): Check if s starts with prefix\n",
    "#### s.endswith(suffix): Check if s ends with suffix\n",
    "#### s.split(sep): Split s into a list of substrings using sep as the delimiter\n",
    "#### s.join(iterable): Join the elements of iterable using s as the delimiter\n",
    "#### s.replace(old, new): Replace all occurrences of old with new in s\n",
    "#### s.find(sub): Find the first occurrence of sub in s, or -1 if not found"
   ]
  },
  {
   "cell_type": "code",
   "execution_count": 10,
   "id": "383fa907",
   "metadata": {},
   "outputs": [],
   "source": [
    "text = \"Hello, World!\"\n",
    "\n",
    "uppercase_text = text.upper()\n",
    "lowercase_text = text.lower()\n",
    "capitalized_text = text.capitalize()\n",
    "stripped_text = text.strip()\n",
    "starts_with_hello = text.startswith(\"Hello\")\n",
    "ends_with_world = text.endswith(\"World\")\n",
    "split_text = text.split(\", \")\n",
    "joined_text = \", \".join([\"Hello\", \"World\"])\n",
    "replaced_text = text.replace(\"World\", \"Universe\")\n",
    "find_hello = text.find(\"Hello\")"
   ]
  },
  {
   "cell_type": "code",
   "execution_count": null,
   "id": "ec43681f",
   "metadata": {},
   "outputs": [],
   "source": []
  },
  {
   "cell_type": "markdown",
   "id": "67e562b9",
   "metadata": {
    "tags": []
   },
   "source": [
    "### 7. Example: Using Strings in a Python Script\n",
    "#### In this example, we'll demonstrate the use of strings and their manipulation in a simple Python script."
   ]
  },
  {
   "cell_type": "code",
   "execution_count": 11,
   "id": "86947b65",
   "metadata": {},
   "outputs": [
    {
     "name": "stdout",
     "output_type": "stream",
     "text": [
      "Full name: John Doe\n",
      "Uppercase name: JOHN DOE\n",
      "True\n",
      "New full name: John Smith\n"
     ]
    }
   ],
   "source": [
    "# Variables\n",
    "first_name = \"John\"\n",
    "last_name = \"Doe\"\n",
    "\n",
    "# Concatenating strings\n",
    "full_name = first_name + \" \" + last_name\n",
    "print(\"Full name:\", full_name)\n",
    "\n",
    "# Changing case\n",
    "uppercase_name = full_name.upper()\n",
    "print(\"Uppercase name:\", uppercase_name)\n",
    "\n",
    "# Checking if a substring is in the string\n",
    "print(\"Doe\" in full_name)\n",
    "\n",
    "# Replacing part of the string\n",
    "new_full_name = full_name.replace(\"Doe\", \"Smith\")\n",
    "print(\"New full name:\", new_full_name)"
   ]
  }
 ],
 "metadata": {
  "kernelspec": {
   "display_name": "Python 3 (ipykernel)",
   "language": "python",
   "name": "python3"
  },
  "language_info": {
   "codemirror_mode": {
    "name": "ipython",
    "version": 3
   },
   "file_extension": ".py",
   "mimetype": "text/x-python",
   "name": "python",
   "nbconvert_exporter": "python",
   "pygments_lexer": "ipython3",
   "version": "3.8.13"
  }
 },
 "nbformat": 4,
 "nbformat_minor": 5
}
