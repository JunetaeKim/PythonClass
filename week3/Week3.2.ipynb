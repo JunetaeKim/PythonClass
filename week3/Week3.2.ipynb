{
 "cells": [
  {
   "cell_type": "markdown",
   "id": "1360ca20-de0b-4126-82a7-83af81fe1d39",
   "metadata": {},
   "source": [
    "### Objective: To learn and understand Python assignment and arithmetic operators and their usage <br>\n",
    "\n",
    "### Outline:\n",
    "\n",
    "#### ① Python Assignment Operators\n",
    "#### ② Python Arithmetic Operators\n",
    "#### ③ Example: Using Assignment and Arithmetic Operators in a Python Script"
   ]
  },
  {
   "cell_type": "code",
   "execution_count": null,
   "id": "68cdfb60-7f7b-4806-8707-2588079788e9",
   "metadata": {},
   "outputs": [],
   "source": []
  },
  {
   "cell_type": "markdown",
   "id": "d91a7478-156b-4660-ad95-ecb400a58bf3",
   "metadata": {
    "tags": []
   },
   "source": [
    "### 1. Python Assignment Operators <br>\n",
    "#### Assignment operators are used to assign values to variables. The basic assignment operator is =.\n",
    "#### In addition to the basic assignment operator, Python also supports compound assignment operators that perform an operation and assignment in a single step:\n",
    "\n",
    "#### +=: Add and assign\n",
    "#### -=: Subtract and assign\n",
    "#### *=: Multiply and assign\n",
    "#### /=: Divide and assign\n",
    "#### //=: Floor divide and assign\n",
    "#### %=: Modulo and assign\n",
    "#### **=: Exponentiate and assign"
   ]
  },
  {
   "cell_type": "code",
   "execution_count": 1,
   "id": "2aeaa6aa-6979-4b5d-b44c-c13477970955",
   "metadata": {},
   "outputs": [],
   "source": [
    "x = 5\n",
    "x += 3  # Equivalent to x = x + 3\n",
    "x -= 2  # Equivalent to x = x - 2\n",
    "x *= 4  # Equivalent to x = x * 4"
   ]
  },
  {
   "cell_type": "code",
   "execution_count": null,
   "id": "5c7e8781-69f0-4866-a019-5151a2558434",
   "metadata": {},
   "outputs": [],
   "source": []
  },
  {
   "cell_type": "markdown",
   "id": "0a1d7af5-a151-4310-9d15-ccab552bfd15",
   "metadata": {
    "tags": []
   },
   "source": [
    "### 2. Python Arithmetic Operators <br>\n",
    "#### Arithmetic operators are used to perform mathematical operations:\n",
    "#### +: Addition\n",
    "#### -: Subtraction\n",
    "#### *: Multiplication\n",
    "#### /: Division\n",
    "#### //: Floor division\n",
    "#### %: Modulo\n",
    "#### **: Exponentiation"
   ]
  },
  {
   "cell_type": "code",
   "execution_count": 2,
   "id": "60b5f4eb-fb81-451e-8e14-cbdf3a2fbd36",
   "metadata": {},
   "outputs": [],
   "source": [
    "a = 10\n",
    "b = 3\n",
    "addition = a + b\n",
    "subtraction = a - b\n",
    "multiplication = a * b\n",
    "division = a / b\n",
    "floor_division = a // b\n",
    "modulus = a % b\n",
    "exponentiation = a ** b"
   ]
  },
  {
   "cell_type": "code",
   "execution_count": null,
   "id": "31f80e10-11fd-4b61-a6cb-037bed1037ef",
   "metadata": {},
   "outputs": [],
   "source": []
  },
  {
   "cell_type": "markdown",
   "id": "7ba1aa6e-16f7-46e3-bdea-adf48276a9b4",
   "metadata": {
    "tags": []
   },
   "source": [
    "### 3. Example: Using Assignment and Arithmetic Operators in a Python Script\n",
    "#### In this example, we'll demonstrate the use of assignment and arithmetic operators in a simple Python script."
   ]
  },
  {
   "cell_type": "code",
   "execution_count": 3,
   "id": "3b97eaa1-b29c-4331-b128-0b873e511614",
   "metadata": {},
   "outputs": [
    {
     "name": "stdout",
     "output_type": "stream",
     "text": [
      "Final balance: 600\n",
      "Area of the triangle: 25.0\n"
     ]
    }
   ],
   "source": [
    "# Variables\n",
    "initial_balance = 500\n",
    "deposit = 200\n",
    "withdrawal = 100\n",
    "\n",
    "# Update balance using compound assignment operators\n",
    "balance = initial_balance\n",
    "balance += deposit  # Add the deposit to the balance\n",
    "balance -= withdrawal  # Subtract the withdrawal from the balance\n",
    "print(\"Final balance:\", balance)\n",
    "\n",
    "# Calculate the area of a triangle\n",
    "base = 10\n",
    "height = 5\n",
    "area = 0.5 * base * height\n",
    "print(\"Area of the triangle:\", area)"
   ]
  },
  {
   "cell_type": "code",
   "execution_count": null,
   "id": "d378c58f-290e-4ff8-979e-f8d64e679fb5",
   "metadata": {},
   "outputs": [],
   "source": []
  }
 ],
 "metadata": {
  "kernelspec": {
   "display_name": "Python 3 (ipykernel)",
   "language": "python",
   "name": "python3"
  },
  "language_info": {
   "codemirror_mode": {
    "name": "ipython",
    "version": 3
   },
   "file_extension": ".py",
   "mimetype": "text/x-python",
   "name": "python",
   "nbconvert_exporter": "python",
   "pygments_lexer": "ipython3",
   "version": "3.8.13"
  }
 },
 "nbformat": 4,
 "nbformat_minor": 5
}
