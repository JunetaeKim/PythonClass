{
 "cells": [
  {
   "cell_type": "markdown",
   "id": "563af091",
   "metadata": {},
   "source": [
    "### Objective: To learn and understand Python assignment and arithmetic operators and their usage <br>\n",
    "https://colab.research.google.com/github/JunetaeKim/PythonClass/blob/main/week3/Week3.2.ipynb\n",
    "### Outline:\n",
    "\n",
    "#### ① Python Assignment Operators\n",
    "#### ② Python Arithmetic Operators\n",
    "#### ③ Example: Using Assignment and Arithmetic Operators in a Python Script"
   ]
  },
  {
   "cell_type": "code",
   "execution_count": null,
   "id": "3bb5c9e8",
   "metadata": {},
   "outputs": [],
   "source": []
  },
  {
   "cell_type": "markdown",
   "id": "75aee962",
   "metadata": {
    "tags": []
   },
   "source": [
    "### 1. Python Arithmetic Operators <br>\n",
    "#### Arithmetic operators are used to perform mathematical operations:\n",
    "#### +: Addition\n",
    "#### -: Subtraction\n",
    "#### *: Multiplication\n",
    "#### /: Division\n",
    "#### //: Floor division\n",
    "#### %: Modulo\n",
    "#### **: Exponentiation"
   ]
  },
  {
   "cell_type": "code",
   "execution_count": 5,
   "id": "1cf82e03",
   "metadata": {},
   "outputs": [],
   "source": [
    "a = 10\n",
    "b = 3\n",
    "addition = a + b\n",
    "subtraction = a - b\n",
    "multiplication = a * b\n",
    "division = a / b\n",
    "floor_division = a // b\n",
    "modulus = a % b\n",
    "exponentiation = a ** b"
   ]
  },
  {
   "cell_type": "code",
   "execution_count": null,
   "id": "acfbc175",
   "metadata": {},
   "outputs": [],
   "source": []
  },
  {
   "cell_type": "markdown",
   "id": "c090d845",
   "metadata": {
    "tags": []
   },
   "source": [
    "### 2. Python Assignment Operators <br>\n",
    "#### Assignment operators are used to assign values to variables. The basic assignment operator is =.\n",
    "#### In addition to the basic assignment operator, Python also supports compound assignment operators that perform an operation and assignment in a single step:\n",
    "\n",
    "#### +=: Add and assign\n",
    "#### -=: Subtract and assign\n",
    "#### *=: Multiply and assign\n",
    "#### /=: Divide and assign\n",
    "#### //=: Floor divide and assign\n",
    "#### %=: Modulo and assign\n",
    "#### **=: Exponentiate and assign"
   ]
  },
  {
   "cell_type": "code",
   "execution_count": 7,
   "id": "7e91b853",
   "metadata": {},
   "outputs": [],
   "source": [
    "x = 5\n",
    "x += 3  # Equivalent to x = x + 3\n",
    "x -= 2  # Equivalent to x = x - 2\n",
    "x *= 4  # Equivalent to x = x * 4"
   ]
  },
  {
   "cell_type": "code",
   "execution_count": null,
   "id": "46b42138",
   "metadata": {},
   "outputs": [],
   "source": []
  },
  {
   "cell_type": "markdown",
   "id": "99c0f707",
   "metadata": {
    "tags": []
   },
   "source": [
    "### 3. Example: Using Assignment and Arithmetic Operators in a Python Script\n",
    "#### In this example, we'll demonstrate the use of assignment and arithmetic operators in a simple Python script."
   ]
  },
  {
   "cell_type": "code",
   "execution_count": 8,
   "id": "f059d714",
   "metadata": {},
   "outputs": [
    {
     "name": "stdout",
     "output_type": "stream",
     "text": [
      "Final balance: 600\n",
      "Area of the triangle: 25.0\n"
     ]
    }
   ],
   "source": [
    "# Variables\n",
    "initial_balance = 500\n",
    "deposit = 200\n",
    "withdrawal = 100\n",
    "\n",
    "# Update balance using compound assignment operators\n",
    "balance = initial_balance\n",
    "balance += deposit  # Add the deposit to the balance\n",
    "balance -= withdrawal  # Subtract the withdrawal from the balance\n",
    "print(\"Final balance:\", balance)\n",
    "\n",
    "# Calculate the area of a triangle\n",
    "base = 10\n",
    "height = 5\n",
    "area = 0.5 * base * height\n",
    "print(\"Area of the triangle:\", area)"
   ]
  },
  {
   "cell_type": "code",
   "execution_count": null,
   "id": "8be849e1",
   "metadata": {},
   "outputs": [],
   "source": []
  }
 ],
 "metadata": {
  "kernelspec": {
   "display_name": "Python 3 (ipykernel)",
   "language": "python",
   "name": "python3"
  },
  "language_info": {
   "codemirror_mode": {
    "name": "ipython",
    "version": 3
   },
   "file_extension": ".py",
   "mimetype": "text/x-python",
   "name": "python",
   "nbconvert_exporter": "python",
   "pygments_lexer": "ipython3",
   "version": "3.8.13"
  }
 },
 "nbformat": 4,
 "nbformat_minor": 5
}
