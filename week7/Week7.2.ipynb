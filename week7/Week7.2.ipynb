{
 "cells": [
  {
   "cell_type": "markdown",
   "metadata": {},
   "source": [
    "## Objective: Learn how to create and use classes and objects in Python <br>\n",
    "https://colab.research.google.com/github/JunetaeKim/PythonClass/blob/main/week7/Week7.2.ipynb\n",
    "### Outline:\n",
    "\n",
    "#### ① Introduction to Classes and Objects\n",
    "#### ② Creating a Class\n",
    "#### ③ Defining Methods\n",
    "#### ④ Creating Objects\n",
    "#### ⑤ Accessing Attributes and Methods\n",
    "#### ⑥ The __init__ Method\n",
    "#### ⑦ Class and Instance Variables\n",
    "#### ⑧ Inheritance\n",
    "#### ⑨ Method Overriding\n",
    "#### ⑩ Example: A Simple Bank Account Class"
   ]
  },
  {
   "cell_type": "code",
   "execution_count": null,
   "metadata": {},
   "outputs": [],
   "source": []
  },
  {
   "cell_type": "markdown",
   "metadata": {
    "tags": []
   },
   "source": [
    "### 1. Introduction to Classes and Objects\n",
    "#### Classes are the foundation of object-oriented programming in Python. \n",
    "#### They allow you to create custom data structures and define their behavior. \n",
    "#### An object is an instance of a class, and each object can have its own attributes and methods."
   ]
  },
  {
   "cell_type": "code",
   "execution_count": null,
   "metadata": {},
   "outputs": [],
   "source": []
  },
  {
   "cell_type": "markdown",
   "metadata": {},
   "source": [
    "### 2. Basic for a Class"
   ]
  },
  {
   "cell_type": "markdown",
   "metadata": {},
   "source": [
    "#### https://pynative.com/python-class-method/\n",
    "![Forloop.png](https://raw.githubusercontent.com/JunetaeKim/PythonClass/main/week7/SyntaxClass.PNG)"
   ]
  },
  {
   "cell_type": "code",
   "execution_count": null,
   "metadata": {},
   "outputs": [],
   "source": []
  },
  {
   "cell_type": "markdown",
   "metadata": {
    "tags": []
   },
   "source": [
    "### 3. Creating a Class\n",
    "#### To create a class, use the class keyword followed by the name of the class:"
   ]
  },
  {
   "cell_type": "code",
   "execution_count": 16,
   "metadata": {},
   "outputs": [],
   "source": [
    "class MyClass:\n",
    "    pass"
   ]
  },
  {
   "cell_type": "code",
   "execution_count": null,
   "metadata": {},
   "outputs": [],
   "source": []
  },
  {
   "cell_type": "markdown",
   "metadata": {},
   "source": [
    "### 4. Defining Methods\n",
    "#### Methods are functions that belong to a class. \n",
    "#### You can define methods within a class using the def keyword:"
   ]
  },
  {
   "cell_type": "code",
   "execution_count": 17,
   "metadata": {},
   "outputs": [],
   "source": [
    "class MyClass:\n",
    "    def my_method(self):\n",
    "        print(\"Hello, world!\")"
   ]
  },
  {
   "cell_type": "code",
   "execution_count": null,
   "metadata": {},
   "outputs": [],
   "source": []
  },
  {
   "cell_type": "markdown",
   "metadata": {},
   "source": [
    "### 4. Creating Objects\n",
    "#### To create an object (an instance of a class), simply call the class as if it were a function:"
   ]
  },
  {
   "cell_type": "code",
   "execution_count": 18,
   "metadata": {},
   "outputs": [],
   "source": [
    "my_object = MyClass()"
   ]
  },
  {
   "cell_type": "code",
   "execution_count": null,
   "metadata": {},
   "outputs": [],
   "source": []
  },
  {
   "cell_type": "markdown",
   "metadata": {},
   "source": [
    "### 5. Accessing Attributes and Methods\n",
    "#### To access an object's attributes and methods, use the dot notation:"
   ]
  },
  {
   "cell_type": "code",
   "execution_count": 19,
   "metadata": {},
   "outputs": [
    {
     "name": "stdout",
     "output_type": "stream",
     "text": [
      "Hello, world!\n"
     ]
    }
   ],
   "source": [
    "my_object.my_method()  # Prints \"Hello, world!\""
   ]
  },
  {
   "cell_type": "code",
   "execution_count": null,
   "metadata": {},
   "outputs": [],
   "source": []
  },
  {
   "cell_type": "markdown",
   "metadata": {},
   "source": [
    "### 6. The __init__ Method\n",
    "#### The __init__ method is a special method that is called when an object is created.\n",
    "#### It is commonly used to initialize the object's attributes:"
   ]
  },
  {
   "cell_type": "code",
   "execution_count": 20,
   "metadata": {},
   "outputs": [],
   "source": [
    "class MyClass:\n",
    "    def __init__(self, name):\n",
    "        self.name = name"
   ]
  },
  {
   "cell_type": "code",
   "execution_count": null,
   "metadata": {},
   "outputs": [],
   "source": []
  },
  {
   "cell_type": "markdown",
   "metadata": {},
   "source": [
    "### 7. Class and Instance Variables\n",
    "#### Instance variables are unique to each object, while class variables are shared among all instances of a class:"
   ]
  },
  {
   "cell_type": "code",
   "execution_count": 21,
   "metadata": {},
   "outputs": [],
   "source": [
    "class MyClass:\n",
    "    class_variable = \"I am a class variable\"\n",
    "\n",
    "    def __init__(self, name):\n",
    "        self.instance_variable = name"
   ]
  },
  {
   "cell_type": "code",
   "execution_count": null,
   "metadata": {},
   "outputs": [],
   "source": []
  },
  {
   "cell_type": "markdown",
   "metadata": {},
   "source": [
    "### 8. Inheritance\n",
    "#### Inheritance allows you to create a new class that inherits the attributes and methods of an existing class:"
   ]
  },
  {
   "cell_type": "code",
   "execution_count": null,
   "metadata": {},
   "outputs": [],
   "source": [
    "class ParentClass:\n",
    "    pass\n",
    "\n",
    "class ChildClass(ParentClass):\n",
    "    pass"
   ]
  },
  {
   "cell_type": "code",
   "execution_count": null,
   "metadata": {},
   "outputs": [],
   "source": []
  },
  {
   "cell_type": "markdown",
   "metadata": {},
   "source": [
    "### 9. Method Overriding\n",
    "#### Inheritance allows you to override a parent class's methods in a child class <br>\n",
    "#### Method overriding: a feature that allows a subclass to provide a new implementation of a method that is already defined in its parent class or superclass. \n",
    "#### This new implementation in the subclass \"overrides\" the original implementation in the parent class."
   ]
  },
  {
   "cell_type": "code",
   "execution_count": null,
   "metadata": {},
   "outputs": [],
   "source": [
    "class ParentClass:\n",
    "    def my_method(self):\n",
    "        print(\"Parent method\")\n",
    "\n",
    "class ChildClass(ParentClass):\n",
    "    def my_method(self):\n",
    "        print(\"Child method\")"
   ]
  },
  {
   "cell_type": "code",
   "execution_count": null,
   "metadata": {},
   "outputs": [],
   "source": []
  },
  {
   "cell_type": "markdown",
   "metadata": {},
   "source": [
    "### 10. Example: A Simple Bank Account Class\n",
    "#### Here's a simple example of a class representing a bank account:"
   ]
  },
  {
   "cell_type": "code",
   "execution_count": 22,
   "metadata": {},
   "outputs": [
    {
     "name": "stdout",
     "output_type": "stream",
     "text": [
      "125\n"
     ]
    }
   ],
   "source": [
    "class BankAccount:\n",
    "    def __init__(self, balance=0):\n",
    "        self.balance = balance\n",
    "\n",
    "    def deposit(self, amount):\n",
    "        self.balance += amount\n",
    "\n",
    "    def withdraw(self, amount):\n",
    "        if amount <= self.balance:\n",
    "            self.balance -= amount\n",
    "        else:\n",
    "            print(\"Insufficient funds\")\n",
    "\n",
    "    def get_balance(self):\n",
    "        return self.balance\n",
    "\n",
    "account = BankAccount(100)\n",
    "account.deposit(50)\n",
    "account.withdraw(25)\n",
    "print(account.get_balance())  # Prints 125"
   ]
  },
  {
   "cell_type": "code",
   "execution_count": null,
   "metadata": {},
   "outputs": [],
   "source": []
  },
  {
   "cell_type": "markdown",
   "metadata": {},
   "source": [
    "### 11. Method Overriding with a detail example\n",
    "#### Consider a Vehicle class with a maximum_range method that calculates the maximum range based on fuel efficiency and fuel capacity. \n",
    "#### We will create two derived classes, Car and Motorcycle, which will override the maximum_range method to compute the range considering their own fuel efficiency and fuel capacity."
   ]
  },
  {
   "cell_type": "code",
   "execution_count": 26,
   "metadata": {},
   "outputs": [
    {
     "name": "stdout",
     "output_type": "stream",
     "text": [
      "Car maximum range: 192.0 miles\n",
      "Motorcycle maximum range: 252.0 miles\n"
     ]
    }
   ],
   "source": [
    "class Vehicle:\n",
    "    def __init__(self, fuel_efficiency, fuel_capacity):\n",
    "        self.fuel_efficiency = fuel_efficiency\n",
    "        self.fuel_capacity = fuel_capacity\n",
    "\n",
    "    def maximum_range(self):\n",
    "        return self.fuel_efficiency * self.fuel_capacity\n",
    "\n",
    "\n",
    "class Car(Vehicle):\n",
    "    def __init__(self, fuel_efficiency, fuel_capacity, passengers):\n",
    "        super().__init__(fuel_efficiency, fuel_capacity)\n",
    "        self.passengers = passengers\n",
    "\n",
    "    def maximum_range(self):\n",
    "        # Car's maximum range decreases by 1% for each passenger\n",
    "        base_range = super().maximum_range()\n",
    "        return base_range * (1 - 0.01 * self.passengers)\n",
    "\n",
    "\n",
    "class Motorcycle(Vehicle):\n",
    "    def __init__(self, fuel_efficiency, fuel_capacity, has_windshield):\n",
    "        super().__init__(fuel_efficiency, fuel_capacity)\n",
    "        self.has_windshield = has_windshield\n",
    "\n",
    "    def maximum_range(self):\n",
    "        # Motorcycle's maximum range increases by 5% if it has a windshield\n",
    "        base_range = super().maximum_range()\n",
    "        if self.has_windshield:\n",
    "            return base_range * 1.05\n",
    "        return base_range\n",
    "\n",
    "\n",
    "# Create instances of Car and Motorcycle\n",
    "car = Car(20, 10, 4)  # 20 miles per gallon, 10-gallon tank, 4 passengers\n",
    "motorcycle = Motorcycle(60, 4, True)  # 60 miles per gallon, 4-gallon tank, has windshield\n",
    "\n",
    "# Use the overridden maximum_range method\n",
    "car_range = car.maximum_range()\n",
    "motorcycle_range = motorcycle.maximum_range()\n",
    "\n",
    "print(f\"Car maximum range: {car_range} miles\")        # Output: Car maximum range: 188.0 miles\n",
    "print(f\"Motorcycle maximum range: {motorcycle_range} miles\")  # Output: Motorcycle maximum range: 252.0 miles"
   ]
  },
  {
   "cell_type": "markdown",
   "metadata": {},
   "source": [
    "#### In this example, the Vehicle class defines the maximum_range method, which calculates the range based on fuel efficiency and fuel capacity. \n",
    "#### The Car and Motorcycle classes each override the maximum_range method to implement their own logic for calculating the range, considering factors such as passengers and the presence of a windshield."
   ]
  },
  {
   "cell_type": "code",
   "execution_count": null,
   "metadata": {},
   "outputs": [],
   "source": []
  },
  {
   "cell_type": "markdown",
   "metadata": {},
   "source": [
    "### 11.1. super()\n",
    "#### In Python, super() is a built-in function used to call a method from the parent class. \n",
    "#### It is commonly used in the context of inheritance, where a subclass wants to extend or override a method from its parent class. \n",
    "#### The super() function allows you to avoid hardcoding the parent class name, making your code more maintainable and less prone to errors. <br>\n",
    "\n",
    "#### The main roles of super() are:\n",
    "#### º To call a parent class's method within a subclass when that method is being overridden.\n",
    "#### º To ensure the correct initialization of the parent class when a subclass is being instantiated."
   ]
  },
  {
   "cell_type": "code",
   "execution_count": null,
   "metadata": {},
   "outputs": [],
   "source": []
  }
 ],
 "metadata": {
  "kernelspec": {
   "display_name": "Python 3",
   "language": "python",
   "name": "python3"
  },
  "language_info": {
   "codemirror_mode": {
    "name": "ipython",
    "version": 3
   },
   "file_extension": ".py",
   "mimetype": "text/x-python",
   "name": "python",
   "nbconvert_exporter": "python",
   "pygments_lexer": "ipython3",
   "version": "3.8.5"
  }
 },
 "nbformat": 4,
 "nbformat_minor": 5
}
