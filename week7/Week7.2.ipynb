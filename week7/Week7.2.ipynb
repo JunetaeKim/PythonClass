{
 "cells": [
  {
   "cell_type": "markdown",
   "id": "8e48440a",
   "metadata": {},
   "source": [
    "## Objective: Learn how to create and use classes and objects in Python <br>\n",
    "https://colab.research.google.com/github/JunetaeKim/PythonClass/blob/main/week7/Week7.2.ipynb\n",
    "### Outline:\n",
    "\n",
    "#### ① Introduction to Classes and Objects\n",
    "#### ② Creating a Class\n",
    "#### ③ Defining Methods\n",
    "#### ④ Creating Objects\n",
    "#### ⑤ Accessing Attributes and Methods\n",
    "#### ⑥ The __init__ Method\n",
    "#### ⑦ Class and Instance Variables\n",
    "#### ⑧ Inheritance\n",
    "#### ⑨ Method Overriding\n",
    "#### ⑩ Example: A Simple Bank Account Class"
   ]
  },
  {
   "cell_type": "code",
   "execution_count": null,
   "id": "a8adc6fd",
   "metadata": {},
   "outputs": [],
   "source": []
  },
  {
   "cell_type": "markdown",
   "id": "9d003ed8",
   "metadata": {
    "tags": []
   },
   "source": [
    "### 1. Introduction to Classes and Objects\n",
    "#### Classes are the foundation of object-oriented programming in Python. \n",
    "#### They allow you to create custom data structures and define their behavior. \n",
    "#### An object is an instance of a class, and each object can have its own attributes and methods."
   ]
  },
  {
   "cell_type": "markdown",
   "id": "a4801be3-9a4f-4946-a64d-4b817331084d",
   "metadata": {},
   "source": [
    "### Classes vs Instances\n",
    "#### A class is a blueprint for how something should be defined. It doesn’t actually contain any data. \n",
    "#### While the class is the blueprint, an instance is an object that is built from a class and contains real data. \n",
    "#### A class is like a form or questionnaire. An instance is like a form that has been filled out with information.\n",
    "<img src=\"https://raw.githubusercontent.com/JunetaeKim/PythonClass/main/week7/ClassVsInstance.png\" width=\"600\" height=\"300\">"
   ]
  },
  {
   "cell_type": "code",
   "execution_count": null,
   "id": "755288cb",
   "metadata": {},
   "outputs": [],
   "source": []
  },
  {
   "cell_type": "markdown",
   "id": "337dd25f",
   "metadata": {},
   "source": [
    "### 2. Basic for a Class"
   ]
  },
  {
   "cell_type": "markdown",
   "id": "b693d749",
   "metadata": {},
   "source": [
    "#### https://pynative.com/python-instance-methods/\n",
    "![Class.png](https://raw.githubusercontent.com/JunetaeKim/PythonClass/main/week7/SyntaxClass.PNG)"
   ]
  },
  {
   "cell_type": "markdown",
   "id": "51298d83-746d-4294-b8aa-a47156288e07",
   "metadata": {},
   "source": []
  },
  {
   "cell_type": "markdown",
   "id": "2ae39dcd",
   "metadata": {
    "tags": []
   },
   "source": [
    "### 3. Creating a Class\n",
    "#### To create a class, use the class keyword followed by the name of the class:"
   ]
  },
  {
   "cell_type": "code",
   "execution_count": 16,
   "id": "f46fbcdb",
   "metadata": {},
   "outputs": [],
   "source": [
    "class MyClass:\n",
    "    pass"
   ]
  },
  {
   "cell_type": "code",
   "execution_count": null,
   "id": "516a4def",
   "metadata": {},
   "outputs": [],
   "source": []
  },
  {
   "cell_type": "markdown",
   "id": "9db1cfa3",
   "metadata": {},
   "source": [
    "### 4. Defining Methods\n",
    "#### Methods are functions that belong to a class. \n",
    "#### You can define methods within a class using the def keyword:"
   ]
  },
  {
   "cell_type": "code",
   "execution_count": 17,
   "id": "bc520354",
   "metadata": {},
   "outputs": [],
   "source": [
    "class MyClass:\n",
    "    def my_method(self):\n",
    "        print(\"Hello, world!\")"
   ]
  },
  {
   "cell_type": "code",
   "execution_count": null,
   "id": "bd9af554",
   "metadata": {},
   "outputs": [],
   "source": []
  },
  {
   "cell_type": "markdown",
   "id": "7e3c8c1e",
   "metadata": {},
   "source": [
    "### 4. Creating Objects\n",
    "#### To create an object (an instance of a class), simply call the class as if it were a function:"
   ]
  },
  {
   "cell_type": "code",
   "execution_count": 18,
   "id": "1e273b00",
   "metadata": {},
   "outputs": [],
   "source": [
    "my_object = MyClass()"
   ]
  },
  {
   "cell_type": "code",
   "execution_count": null,
   "id": "6e887910",
   "metadata": {},
   "outputs": [],
   "source": []
  },
  {
   "cell_type": "markdown",
   "id": "5e9cb9cc",
   "metadata": {},
   "source": [
    "### 5. Accessing Attributes and Methods\n",
    "#### To access an object's attributes and methods, use the dot notation:"
   ]
  },
  {
   "cell_type": "code",
   "execution_count": 19,
   "id": "102fc419",
   "metadata": {},
   "outputs": [
    {
     "name": "stdout",
     "output_type": "stream",
     "text": [
      "Hello, world!\n"
     ]
    }
   ],
   "source": [
    "my_object.my_method()  # Prints \"Hello, world!\""
   ]
  },
  {
   "cell_type": "code",
   "execution_count": null,
   "id": "43b0a34f",
   "metadata": {},
   "outputs": [],
   "source": []
  },
  {
   "cell_type": "markdown",
   "id": "86bc8883",
   "metadata": {},
   "source": [
    "### 6. The __init__ Method\n",
    "#### The __init__ method is a special method that is called when an object is created.\n",
    "#### It is commonly used to initialize the object's attributes:"
   ]
  },
  {
   "cell_type": "code",
   "execution_count": 20,
   "id": "75df578a",
   "metadata": {},
   "outputs": [],
   "source": [
    "class MyClass:\n",
    "    def __init__(self, name):\n",
    "        self.name = name"
   ]
  },
  {
   "cell_type": "code",
   "execution_count": null,
   "id": "fc5a2d20",
   "metadata": {},
   "outputs": [],
   "source": []
  },
  {
   "cell_type": "markdown",
   "id": "f514609b",
   "metadata": {},
   "source": [
    "### 7. Class and Instance Variables\n",
    "#### Instance variables are unique to each object, while class variables are shared among all instances of a class:"
   ]
  },
  {
   "cell_type": "code",
   "execution_count": 21,
   "id": "5da869cd",
   "metadata": {},
   "outputs": [],
   "source": [
    "class MyClass:\n",
    "    class_variable = \"I am a class variable\"\n",
    "\n",
    "    def __init__(self, name):\n",
    "        self.instance_variable = name"
   ]
  },
  {
   "cell_type": "code",
   "execution_count": null,
   "id": "6ecaf067",
   "metadata": {},
   "outputs": [],
   "source": []
  },
  {
   "cell_type": "markdown",
   "id": "1761888f",
   "metadata": {},
   "source": [
    "### 8. Example: A Simple Bank Account Class\n",
    "#### Here's a simple example of a class representing a bank account:"
   ]
  },
  {
   "cell_type": "code",
   "execution_count": null,
   "id": "dfe60463",
   "metadata": {},
   "outputs": [],
   "source": [
    "class BankAccount:\n",
    "    def __init__(self, balance=0):\n",
    "        self.balance = balance\n",
    "\n",
    "    def deposit(self, amount):\n",
    "        self.balance += amount\n",
    "\n",
    "    def withdraw(self, amount):\n",
    "        if amount <= self.balance:\n",
    "            self.balance -= amount\n",
    "        else:\n",
    "            print(\"Insufficient funds\")\n",
    "\n",
    "    def get_balance(self):\n",
    "        return self.balance\n",
    "\n",
    "account = BankAccount(100)\n",
    "account.deposit(50)\n",
    "account.withdraw(25)\n",
    "print(account.get_balance())  # Prints 125"
   ]
  },
  {
   "cell_type": "code",
   "execution_count": null,
   "id": "0358c809",
   "metadata": {},
   "outputs": [],
   "source": []
  },
  {
   "cell_type": "markdown",
   "id": "b5f47f44",
   "metadata": {},
   "source": [
    "### 9. Inheritance\n",
    "#### Inheritance allows you to create a new class that inherits the attributes and methods of an existing class:"
   ]
  },
  {
   "cell_type": "code",
   "execution_count": 9,
   "id": "ef46470f",
   "metadata": {},
   "outputs": [
    {
     "name": "stdout",
     "output_type": "stream",
     "text": [
      "Max says something\n",
      "Molly says something\n"
     ]
    }
   ],
   "source": [
    "# Define a base class\n",
    "class Animal:\n",
    "    def __init__(self, name):\n",
    "        self.name = name\n",
    "\n",
    "    def speak(self):\n",
    "        return f\"{self.name} says something\"\n",
    "\n",
    "# Define a subclass that inherits from Animal\n",
    "class Dog(Animal):\n",
    "    pass\n",
    "\n",
    "# Define another subclass that inherits from Animal\n",
    "class Cat(Animal):\n",
    "    pass\n",
    "\n",
    "# Creating instances of Dog and Cat\n",
    "dog = Dog('Max')\n",
    "cat = Cat('Molly')\n",
    "\n",
    "# Invoking the speak method which is defined in the respective classes\n",
    "print(dog.speak())\n",
    "print(cat.speak())"
   ]
  },
  {
   "cell_type": "code",
   "execution_count": 3,
   "id": "586be596",
   "metadata": {},
   "outputs": [],
   "source": []
  },
  {
   "cell_type": "code",
   "execution_count": null,
   "id": "08c408a2-e32e-4cba-b3fa-364402784d88",
   "metadata": {},
   "outputs": [],
   "source": []
  },
  {
   "cell_type": "markdown",
   "id": "e477a003",
   "metadata": {},
   "source": [
    "### 10. Method Overriding\n",
    "#### Inheritance allows you to override a parent class's methods in a child class <br>\n",
    "#### Method overriding: a feature that allows a subclass to provide a new implementation of a method that is already defined in its parent class or superclass. \n",
    "#### This new implementation in the subclass \"overrides\" the original implementation in the parent class."
   ]
  },
  {
   "cell_type": "code",
   "execution_count": 11,
   "id": "ea52bf16",
   "metadata": {},
   "outputs": [
    {
     "name": "stdout",
     "output_type": "stream",
     "text": [
      "He makes a noise\n",
      "Max says Woof!\n",
      "Molly says Meow!\n"
     ]
    }
   ],
   "source": [
    "# Define a base class\n",
    "class Animal:\n",
    "    def __init__(self, name):\n",
    "        self.name = name\n",
    "\n",
    "    def speak(self):\n",
    "        return f\"{self.name} makes a noise\"\n",
    "\n",
    "# Define a subclass that inherits from Animal\n",
    "class Dog(Animal):\n",
    "    def speak(self):\n",
    "        return f\"{self.name} says Woof!\"\n",
    "\n",
    "# Define another subclass that inherits from Animal\n",
    "class Cat(Animal):\n",
    "    def speak(self):\n",
    "        return f\"{self.name} says Meow!\"\n",
    "\n",
    "# Creating instances of Animal, Dog and Cat\n",
    "generic_animal = Animal('He')\n",
    "dog = Dog('Max')\n",
    "cat = Cat('Molly')\n",
    "\n",
    "# Invoking the speak method which is defined in the respective classes\n",
    "print(generic_animal.speak())\n",
    "print(dog.speak())\n",
    "print(cat.speak())"
   ]
  },
  {
   "cell_type": "code",
   "execution_count": null,
   "id": "4e493875",
   "metadata": {},
   "outputs": [],
   "source": []
  },
  {
   "cell_type": "markdown",
   "id": "c652df4c",
   "metadata": {},
   "source": [
    "### 11. Method Overriding with a more detail example\n",
    "#### Consider a Vehicle class with a maximum_range method that calculates the maximum range (i.e., distance) based on fuel efficiency and fuel capacity. \n",
    "#### We will create two derived classes, Car and Motorcycle, which will override the maximum_range method to compute the range considering their own fuel efficiency and fuel capacity."
   ]
  },
  {
   "cell_type": "code",
   "execution_count": 12,
   "id": "bfe363b5",
   "metadata": {},
   "outputs": [
    {
     "name": "stdout",
     "output_type": "stream",
     "text": [
      "Car maximum range: 192.0 miles\n",
      "Motorcycle maximum range: 252.0 miles\n"
     ]
    }
   ],
   "source": [
    "class Vehicle:\n",
    "    def __init__(self, fuel_efficiency, fuel_capacity):\n",
    "        self.fuel_efficiency = fuel_efficiency\n",
    "        self.fuel_capacity = fuel_capacity\n",
    "\n",
    "    def maximum_range(self):\n",
    "        return self.fuel_efficiency * self.fuel_capacity\n",
    "\n",
    "\n",
    "class Car(Vehicle):\n",
    "    def __init__(self, fuel_efficiency, fuel_capacity, passengers):\n",
    "        super().__init__(fuel_efficiency, fuel_capacity)\n",
    "        self.passengers = passengers\n",
    "\n",
    "    def maximum_range(self):\n",
    "        # Car's maximum range decreases by 1% for each passenger\n",
    "        base_range = super().maximum_range()\n",
    "        return base_range * (1 - 0.01 * self.passengers)\n",
    "\n",
    "\n",
    "class Motorcycle(Vehicle):\n",
    "    def __init__(self, fuel_efficiency, fuel_capacity, has_windshield):\n",
    "        super().__init__(fuel_efficiency, fuel_capacity)\n",
    "        self.has_windshield = has_windshield\n",
    "\n",
    "    def maximum_range(self):\n",
    "        # Motorcycle's maximum range increases by 5% if it has a windshield\n",
    "        base_range = super().maximum_range()\n",
    "        if self.has_windshield:\n",
    "            return base_range * 1.05\n",
    "        return base_range\n",
    "\n",
    "\n",
    "# Create instances of Car and Motorcycle\n",
    "car = Car(20, 10, 4)  # 20 miles per gallon, 10-gallon tank, 4 passengers\n",
    "motorcycle = Motorcycle(60, 4, True)  # 60 miles per gallon, 4-gallon tank, has windshield\n",
    "\n",
    "# Use the overridden maximum_range method\n",
    "car_range = car.maximum_range()\n",
    "motorcycle_range = motorcycle.maximum_range()\n",
    "\n",
    "print(f\"Car maximum range: {car_range} miles\")        # Output: Car maximum range: 188.0 miles\n",
    "print(f\"Motorcycle maximum range: {motorcycle_range} miles\")  # Output: Motorcycle maximum range: 252.0 miles"
   ]
  },
  {
   "cell_type": "markdown",
   "id": "e1c47045",
   "metadata": {},
   "source": [
    "#### In this example, the Vehicle class defines the maximum_range method, which calculates the range based on fuel efficiency and fuel capacity. \n",
    "#### The Car and Motorcycle classes each override the maximum_range method to implement their own logic for calculating the range, considering factors such as passengers and the presence of a windshield."
   ]
  },
  {
   "cell_type": "code",
   "execution_count": null,
   "id": "33a909d9",
   "metadata": {},
   "outputs": [],
   "source": []
  },
  {
   "cell_type": "markdown",
   "id": "b0d9205b",
   "metadata": {},
   "source": [
    "### 11.1. super()\n",
    "#### In Python, super() is a built-in function used to call a method from the parent class. \n",
    "#### It is commonly used in the context of inheritance, where a subclass wants to extend or override a method from its parent class. \n",
    "#### The super() function allows you to avoid hardcoding the parent class name, making your code more maintainable and less prone to errors. <br>\n",
    "\n",
    "#### The main roles of super() are:\n",
    "#### º To call a parent class's method within a subclass when that method is being overridden.\n",
    "#### º To ensure the correct initialization of the parent class when a subclass is being instantiated."
   ]
  },
  {
   "cell_type": "markdown",
   "id": "3bebaf75",
   "metadata": {},
   "source": [
    "#### An example illustrating the difference with and without super():"
   ]
  },
  {
   "cell_type": "code",
   "execution_count": 7,
   "id": "106cb1b9",
   "metadata": {},
   "outputs": [
    {
     "name": "stdout",
     "output_type": "stream",
     "text": [
      "Hello, I'm a method of Parent class.\n",
      "Hello, I'm a method of ChildWithoutSuper class.\n",
      "Hello, I'm a method of Parent class. And hello, I'm a method of ChildWithSuper class.\n"
     ]
    }
   ],
   "source": [
    "class Parent:\n",
    "    def greet(self):\n",
    "        return \"Hello, I'm a method of Parent class.\"\n",
    "\n",
    "class ChildWithoutSuper(Parent):\n",
    "    def greet(self):\n",
    "        return \"Hello, I'm a method of ChildWithoutSuper class.\"\n",
    "\n",
    "class ChildWithSuper(Parent):\n",
    "    def greet(self):\n",
    "        return super().greet() + \" And hello, I'm a method of ChildWithSuper class.\"\n",
    "\n",
    "parent = Parent()\n",
    "child_without_super = ChildWithoutSuper()\n",
    "child_with_super = ChildWithSuper()\n",
    "\n",
    "print(parent.greet())  # Output: Hello, I'm a method of Parent class.\n",
    "print(child_without_super.greet())  # Output: Hello, I'm a method of ChildWithoutSuper class.\n",
    "print(child_with_super.greet())  # Output: Hello, I'm a method of Parent class. And hello, I'm a method of ChildWithSuper class."
   ]
  },
  {
   "cell_type": "markdown",
   "id": "58911afd",
   "metadata": {},
   "source": [
    "#### ChildWithoutSuper completely replaces the greet method from Parent. \n",
    "#### ChildWithSuper extends the greet method from Parent by calling super().greet() to get the Parent class's message and then adding its own message to it."
   ]
  }
 ],
 "metadata": {
  "kernelspec": {
   "display_name": "Python 3 (ipykernel)",
   "language": "python",
   "name": "python3"
  },
  "language_info": {
   "codemirror_mode": {
    "name": "ipython",
    "version": 3
   },
   "file_extension": ".py",
   "mimetype": "text/x-python",
   "name": "python",
   "nbconvert_exporter": "python",
   "pygments_lexer": "ipython3",
   "version": "3.9.18"
  }
 },
 "nbformat": 4,
 "nbformat_minor": 5
}
