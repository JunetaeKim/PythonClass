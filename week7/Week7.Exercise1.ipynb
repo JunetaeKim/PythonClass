{
 "cells": [
  {
   "cell_type": "markdown",
   "id": "4828f0b0",
   "metadata": {},
   "source": [
    "### 1. Write a Python function that calculates the total price of items in a shopping cart, including a specified sales tax percentage.\n",
    "#### Tip: Hint: Initialize a total variable, iterate through the list of items, add the price of each item to the total, and then apply the tax percentage. \n",
    "#### Finally, round the result before returning."
   ]
  },
  {
   "cell_type": "code",
   "execution_count": 1,
   "id": "8f354730",
   "metadata": {},
   "outputs": [],
   "source": [
    "def calculate_total(items, tax_percent):\n",
    "    total = 0\n",
    "    for item in items:\n",
    "        total += item[\"price\"]\n",
    "    # Apply tax_percent and round the result"
   ]
  },
  {
   "cell_type": "code",
   "execution_count": 2,
   "id": "b540e808",
   "metadata": {},
   "outputs": [
    {
     "name": "stdout",
     "output_type": "stream",
     "text": [
      "6.05\n"
     ]
    }
   ],
   "source": [
    "items = [\n",
    "    {\"name\": \"apple\", \"price\": 2.5},\n",
    "    {\"name\": \"banana\", \"price\": 1.2},\n",
    "    {\"name\": \"orange\", \"price\": 1.8}\n",
    "]\n",
    "\n",
    "total_price = calculate_total(items, tax_percent)\n",
    "print(total_price)  # Output: 5.5"
   ]
  },
  {
   "cell_type": "code",
   "execution_count": null,
   "id": "92f081fe-990d-4267-85de-f776f9ff05de",
   "metadata": {},
   "outputs": [],
   "source": []
  },
  {
   "cell_type": "markdown",
   "id": "b23a1e0b",
   "metadata": {},
   "source": [
    "### 2. Write a Python function that calculates the average temperature for a given list of daily temperatures and returns the result in Fahrenheit or Celsius based on user input.\n",
    "#### Tip: First, calculate the average temperature in Celsius. Then, if needed, convert it to Fahrenheit using the formula: F = C * 9/5 + 32"
   ]
  },
  {
   "cell_type": "code",
   "execution_count": 3,
   "id": "10da66bf",
   "metadata": {},
   "outputs": [],
   "source": [
    "def average_temperature(temps, unit):\n",
    "    avg_temp = sum(temps) / len(temps)\n",
    "    if unit.lower() == 'fahrenheit':\n",
    "        # Convert avg_temp to Fahrenheit and round the result\n",
    "    else:\n",
    "        # Round the result in Celsius"
   ]
  },
  {
   "cell_type": "code",
   "execution_count": 4,
   "id": "37b105d3",
   "metadata": {},
   "outputs": [
    {
     "name": "stdout",
     "output_type": "stream",
     "text": [
      "75.2\n"
     ]
    }
   ],
   "source": [
    "temps = [20, 22, 24, 26, 28]\n",
    "unit = 'Fahrenheit'\n",
    "\n",
    "average_temp = average_temperature(temps, unit)\n",
    "print(average_temp)  # Output: 73.4 (in Fahrenheit)"
   ]
  },
  {
   "cell_type": "code",
   "execution_count": null,
   "id": "5003b6a8-65b5-44bf-be80-ebf5b06a0b72",
   "metadata": {},
   "outputs": [],
   "source": []
  },
  {
   "cell_type": "markdown",
   "id": "bda9e36b",
   "metadata": {},
   "source": [
    "### 3. Write a Python function that finds the longest word in a given string.\n",
    "#### Tip: Split the input sentence into words using the split() method. \n",
    "#### Initialize an empty string longest_word, then iterate through the words and update longest_word if a longer word is found."
   ]
  },
  {
   "cell_type": "code",
   "execution_count": 5,
   "id": "bac881a9",
   "metadata": {},
   "outputs": [],
   "source": [
    "def find_longest_word(sentence):\n",
    "    words = sentence.split()\n",
    "    longest_word = ''\n",
    "    for word in words:\n",
    "        if len(word) > len(longest_word):\n",
    "            # Update longest_word"
   ]
  },
  {
   "cell_type": "code",
   "execution_count": 6,
   "id": "a82a6004",
   "metadata": {},
   "outputs": [
    {
     "name": "stdout",
     "output_type": "stream",
     "text": [
      "quick\n"
     ]
    }
   ],
   "source": [
    "sentence = \"The quick brown fox jumps over the lazy dog\"\n",
    "\n",
    "longest_word = find_longest_word(sentence)\n",
    "print(longest_word)  # Output: \"jumps\""
   ]
  },
  {
   "cell_type": "code",
   "execution_count": null,
   "id": "588e39c7-285b-49a4-9336-eb9420b36d85",
   "metadata": {},
   "outputs": [],
   "source": []
  },
  {
   "cell_type": "markdown",
   "id": "f20a22dd",
   "metadata": {},
   "source": [
    "### 4. Problem: Write a Python function that takes a list of numbers as input and returns the sum of all even numbers in the list.\n",
    "#### Tip: Initialize a variable even_sum, then iterate through the list of numbers. If a number is even (i.e., its remainder when divided by 2 is 0), add it to even_sum."
   ]
  },
  {
   "cell_type": "code",
   "execution_count": 7,
   "id": "11cf99e3",
   "metadata": {},
   "outputs": [],
   "source": [
    "def sum_even_numbers(numbers):\n",
    "    even_sum = 0\n",
    "    for number in numbers:\n",
    "        if number % 2 == 0:\n",
    "            # Add the even number to even_sum"
   ]
  },
  {
   "cell_type": "code",
   "execution_count": 8,
   "id": "02e12d10-523a-4f2f-b3c2-055c40473810",
   "metadata": {},
   "outputs": [
    {
     "name": "stdout",
     "output_type": "stream",
     "text": [
      "30\n"
     ]
    }
   ],
   "source": [
    "numbers = [1, 2, 3, 4, 5, 6, 7, 8, 9, 10]\n",
    "\n",
    "even_sum = sum_even_numbers(numbers)\n",
    "print(even_sum)  # Output: 30"
   ]
  },
  {
   "cell_type": "code",
   "execution_count": null,
   "id": "4b71d3cd",
   "metadata": {},
   "outputs": [],
   "source": []
  },
  {
   "cell_type": "markdown",
   "id": "a489346b",
   "metadata": {},
   "source": [
    "### 5. Write a Python function that takes a list of strings and returns a dictionary with the frequency of each unique string.\n",
    "#### Tip: Create an empty dictionary called frequency. \n",
    "#### Iterate through the input list of strings, and for each string, either initialize its count in the dictionary or increment it if it already exists."
   ]
  },
  {
   "cell_type": "code",
   "execution_count": 9,
   "id": "229e319f",
   "metadata": {},
   "outputs": [],
   "source": [
    "def count_string_frequency(strings):\n",
    "    frequency = {}\n",
    "    for string in strings:\n",
    "        if string not in frequency:\n",
    "            # Initialize the count for the string in the dictionary\n",
    "        else:\n",
    "            # Increment the count for the string in the dictionary"
   ]
  },
  {
   "cell_type": "code",
   "execution_count": 10,
   "id": "45e1714e",
   "metadata": {},
   "outputs": [
    {
     "name": "stdout",
     "output_type": "stream",
     "text": [
      "{'apple': 4, 'banana': 2, 'orange': 2}\n"
     ]
    }
   ],
   "source": [
    "strings = [\"apple\", \"banana\", \"apple\", \"orange\", \"banana\", \"apple\", \"orange\", \"apple\"]\n",
    "\n",
    "frequency = count_string_frequency(strings)\n",
    "print(frequency)  # Output: {'apple': 4, 'banana': 2, 'orange': 2}"
   ]
  }
 ],
 "metadata": {
  "kernelspec": {
   "display_name": "Python 3 (ipykernel)",
   "language": "python",
   "name": "python3"
  },
  "language_info": {
   "codemirror_mode": {
    "name": "ipython",
    "version": 3
   },
   "file_extension": ".py",
   "mimetype": "text/x-python",
   "name": "python",
   "nbconvert_exporter": "python",
   "pygments_lexer": "ipython3",
   "version": "3.8.13"
  }
 },
 "nbformat": 4,
 "nbformat_minor": 5
}
