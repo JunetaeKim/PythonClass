{
 "cells": [
  {
   "cell_type": "markdown",
   "metadata": {},
   "source": [
    "## Objective: To learn and understand the usage of functions in Python <br>\n",
    "https://colab.research.google.com/github/JunetaeKim/PythonClass/blob/main/week7/Week7.1.ipynb\n",
    "### Outline:\n",
    "\n",
    "#### ① Introduction to Functions\n",
    "#### ② Defining a Function\n",
    "#### ③ Calling a Function\n",
    "#### ④ Function Parameters\n",
    "#### &nbsp;&nbsp; a. Positional Parameters\n",
    "#### &nbsp;&nbsp; b. Default Parameter Values\n",
    "#### &nbsp;&nbsp; c. Keyword Arguments\n",
    "#### &nbsp;&nbsp; d. Arbitrary Arguments\n",
    "#### ⑤ Return Statement\n",
    "#### ⑥ Docstrings\n",
    "#### ⑦ Nested Functions\n",
    "#### ⑧ Recursion\n",
    "#### ⑨ Lambda Functions\n",
    "#### ⑩ Function Annotations\n",
    "#### ⑪ Scope of Variables\n",
    "#### ⑫ Global and Nonlocal Keywords\n",
    "#### ⑬ Example\n",
    "#### ⑭ Tips for Best Practices"
   ]
  },
  {
   "cell_type": "code",
   "execution_count": null,
   "metadata": {},
   "outputs": [],
   "source": []
  },
  {
   "cell_type": "markdown",
   "metadata": {
    "tags": []
   },
   "source": [
    "### 1. Introduction to Functions\n",
    "#### Functions are a fundamental concept in programming, used to group and organize code into reusable, modular blocks.\n",
    "#### Functions enable code reusability, easier debugging, and improved readability."
   ]
  },
  {
   "cell_type": "code",
   "execution_count": null,
   "metadata": {},
   "outputs": [],
   "source": []
  },
  {
   "cell_type": "markdown",
   "metadata": {},
   "source": [
    "### 2. Basic for a Function\n",
    "#### In Python, functions are defined using the def keyword, followed by the function name, a pair of parentheses, and a colon.\n",
    "#### The function's code block is then indented."
   ]
  },
  {
   "cell_type": "markdown",
   "metadata": {},
   "source": [
    "#### https://pynative.com/python-functions/\n",
    "![Forloop.png](https://raw.githubusercontent.com/JunetaeKim/PythonClass/main/week7/SyntaxFunction.PNG)"
   ]
  },
  {
   "cell_type": "code",
   "execution_count": null,
   "metadata": {},
   "outputs": [],
   "source": []
  },
  {
   "cell_type": "markdown",
   "metadata": {
    "tags": []
   },
   "source": [
    "### 3. Defining and calling a Function\n",
    "#### To call a function, simply write the function's name followed by a pair of parentheses."
   ]
  },
  {
   "cell_type": "code",
   "execution_count": 1,
   "metadata": {},
   "outputs": [
    {
     "name": "stdout",
     "output_type": "stream",
     "text": [
      "Hello from my_function!\n"
     ]
    }
   ],
   "source": [
    "def my_function():\n",
    "    print(\"Hello from my_function!\")\n",
    "    \n",
    "my_function()"
   ]
  },
  {
   "cell_type": "code",
   "execution_count": null,
   "metadata": {},
   "outputs": [],
   "source": []
  },
  {
   "cell_type": "markdown",
   "metadata": {},
   "source": [
    "### 4. Function Parameters\n",
    "#### Functions can take input values, called parameters. \n",
    "#### There are several types of parameters in Python:\n",
    "#### a. Positional Parameters - The order of these parameters matters."
   ]
  },
  {
   "cell_type": "code",
   "execution_count": 2,
   "metadata": {},
   "outputs": [
    {
     "name": "stdout",
     "output_type": "stream",
     "text": [
      "Hello, Alice Johnson!\n"
     ]
    }
   ],
   "source": [
    "def greet(first_name, last_name):\n",
    "    print(f\"Hello, {first_name} {last_name}!\")\n",
    "\n",
    "greet(\"Alice\", \"Johnson\")"
   ]
  },
  {
   "cell_type": "code",
   "execution_count": null,
   "metadata": {},
   "outputs": [],
   "source": []
  },
  {
   "cell_type": "markdown",
   "metadata": {},
   "source": [
    "#### b. Default Parameter Values - You can set default values for function parameters. If no value is provided for a parameter with a default value, the default value is used."
   ]
  },
  {
   "cell_type": "code",
   "execution_count": 3,
   "metadata": {},
   "outputs": [
    {
     "name": "stdout",
     "output_type": "stream",
     "text": [
      "Hello, World!\n",
      "Hello, Alice!\n"
     ]
    }
   ],
   "source": [
    "def greet(name=\"World\"):\n",
    "    print(f\"Hello, {name}!\")\n",
    "\n",
    "greet()\n",
    "greet(\"Alice\")"
   ]
  },
  {
   "cell_type": "code",
   "execution_count": null,
   "metadata": {},
   "outputs": [],
   "source": []
  },
  {
   "cell_type": "markdown",
   "metadata": {},
   "source": [
    "#### c. Keyword Arguments - When calling a function, you can use keyword arguments to pass values to the parameters in any order."
   ]
  },
  {
   "cell_type": "code",
   "execution_count": 4,
   "metadata": {},
   "outputs": [
    {
     "name": "stdout",
     "output_type": "stream",
     "text": [
      "Hello, John Doe!\n"
     ]
    }
   ],
   "source": [
    "def greet(first_name, last_name):\n",
    "    print(f\"Hello, {first_name} {last_name}!\")\n",
    "\n",
    "greet(last_name=\"Doe\", first_name=\"John\")"
   ]
  },
  {
   "cell_type": "code",
   "execution_count": null,
   "metadata": {},
   "outputs": [],
   "source": []
  },
  {
   "cell_type": "markdown",
   "metadata": {},
   "source": [
    "#### d. Arbitrary Arguments - If you don't know how many arguments a function will receive, you can use the * syntax for arbitrary arguments."
   ]
  },
  {
   "cell_type": "code",
   "execution_count": 5,
   "metadata": {},
   "outputs": [
    {
     "name": "stdout",
     "output_type": "stream",
     "text": [
      "Alice\n",
      "Bob\n",
      "Charlie\n"
     ]
    }
   ],
   "source": [
    "def print_names(*names):\n",
    "    for name in names:\n",
    "        print(name)\n",
    "\n",
    "print_names(\"Alice\", \"Bob\", \"Charlie\")"
   ]
  },
  {
   "cell_type": "code",
   "execution_count": null,
   "metadata": {},
   "outputs": [],
   "source": []
  },
  {
   "cell_type": "markdown",
   "metadata": {},
   "source": [
    "### 5. Return Statement\n",
    "#### Functions can return a value using the return statement. If no return statement is provided, the function returns None by default."
   ]
  },
  {
   "cell_type": "code",
   "execution_count": 6,
   "metadata": {},
   "outputs": [
    {
     "name": "stdout",
     "output_type": "stream",
     "text": [
      "8\n"
     ]
    }
   ],
   "source": [
    "def add(a, b):\n",
    "    return a + b\n",
    "\n",
    "result = add(3, 5)\n",
    "print(result)"
   ]
  },
  {
   "cell_type": "code",
   "execution_count": null,
   "metadata": {},
   "outputs": [],
   "source": []
  },
  {
   "cell_type": "markdown",
   "metadata": {},
   "source": [
    "### 6. Docstrings\n",
    "#### A docstring is a string that describes a function. \n",
    "#### It's placed immediately after the function definition, within triple quotes."
   ]
  },
  {
   "cell_type": "code",
   "execution_count": 8,
   "metadata": {},
   "outputs": [
    {
     "name": "stdout",
     "output_type": "stream",
     "text": [
      "Hello, Kim!\n"
     ]
    }
   ],
   "source": [
    "def greet(name):\n",
    "    \"\"\"\n",
    "    Greets the given name.\n",
    "    \"\"\"\n",
    "    print(f\"Hello, {name}!\")\n",
    "    \n",
    "greet('Kim')"
   ]
  },
  {
   "cell_type": "code",
   "execution_count": null,
   "metadata": {},
   "outputs": [],
   "source": []
  },
  {
   "cell_type": "markdown",
   "metadata": {},
   "source": [
    "### 7. Nested Functions\n",
    "#### Functions can be defined inside other functions, known as nested functions. \n",
    "#### These inner functions can only be called within the outer function."
   ]
  },
  {
   "cell_type": "code",
   "execution_count": 9,
   "metadata": {},
   "outputs": [
    {
     "name": "stdout",
     "output_type": "stream",
     "text": [
      "Hello from outer_function!\n",
      "Hello from inner_function!\n"
     ]
    }
   ],
   "source": [
    "def outer_function():\n",
    "    def inner_function():\n",
    "        print(\"Hello from inner_function!\")\n",
    "\n",
    "    print(\"Hello from outer_function!\")\n",
    "    inner_function()\n",
    "\n",
    "outer_function()"
   ]
  },
  {
   "cell_type": "code",
   "execution_count": null,
   "metadata": {},
   "outputs": [],
   "source": []
  },
  {
   "cell_type": "markdown",
   "metadata": {},
   "source": [
    "### 8. Recursion\n",
    "#### A function can call itself, a concept called recursion. Here's an example of a recursive function to calculate the factorial of a number"
   ]
  },
  {
   "cell_type": "code",
   "execution_count": 10,
   "metadata": {},
   "outputs": [
    {
     "name": "stdout",
     "output_type": "stream",
     "text": [
      "120\n"
     ]
    }
   ],
   "source": [
    "def factorial(n):\n",
    "    if n == 1:\n",
    "        return 1\n",
    "    else:\n",
    "        return n * factorial(n - 1)\n",
    "\n",
    "result = factorial(5)\n",
    "print(result)"
   ]
  },
  {
   "cell_type": "code",
   "execution_count": null,
   "metadata": {},
   "outputs": [],
   "source": []
  },
  {
   "cell_type": "markdown",
   "metadata": {},
   "source": [
    "### 9. Lambda Functions\n",
    "#### Lambda functions are small, anonymous functions that can be defined using the 'lambda' keyword. \n",
    "#### They can have any number of parameters but only one expression."
   ]
  },
  {
   "cell_type": "code",
   "execution_count": 11,
   "metadata": {},
   "outputs": [
    {
     "name": "stdout",
     "output_type": "stream",
     "text": [
      "8\n"
     ]
    }
   ],
   "source": [
    "add = (lambda x, y: x + y)(3,5)\n",
    "add"
   ]
  },
  {
   "cell_type": "code",
   "execution_count": null,
   "metadata": {},
   "outputs": [],
   "source": []
  },
  {
   "cell_type": "markdown",
   "metadata": {},
   "source": [
    "### 10. Function Annotations\n",
    "#### Function annotations provide a way to add hints about the expected data types of function parameters and return values. \n",
    "#### They don't affect the function's behavior."
   ]
  },
  {
   "cell_type": "code",
   "execution_count": 12,
   "metadata": {},
   "outputs": [
    {
     "name": "stdout",
     "output_type": "stream",
     "text": [
      "{'name': <class 'str'>, 'return': None}\n"
     ]
    }
   ],
   "source": [
    "def greet(name: str) -> None:\n",
    "    print(f\"Hello, {name}!\")\n",
    "\n",
    "print(greet.__annotations__)"
   ]
  },
  {
   "cell_type": "code",
   "execution_count": null,
   "metadata": {},
   "outputs": [],
   "source": []
  },
  {
   "cell_type": "markdown",
   "metadata": {},
   "source": [
    "### 11. Scope of Variables\n",
    "#### Variables in Python have a specific scope, which determines where they can be accessed within the code. \n",
    "#### There are two main types of variable scope: local and global."
   ]
  },
  {
   "cell_type": "code",
   "execution_count": 13,
   "metadata": {},
   "outputs": [
    {
     "name": "stdout",
     "output_type": "stream",
     "text": [
      "10\n",
      "5\n"
     ]
    }
   ],
   "source": [
    "x = 5  # Global variable\n",
    "\n",
    "def print_x():\n",
    "    x = 10  # Local variable\n",
    "    print(x)\n",
    "\n",
    "print_x()\n",
    "print(x)"
   ]
  },
  {
   "cell_type": "code",
   "execution_count": null,
   "metadata": {},
   "outputs": [],
   "source": []
  },
  {
   "cell_type": "markdown",
   "metadata": {},
   "source": [
    "### 12. Global and Nonlocal Keywords\n",
    "#### The global keyword allows you to modify a global variable from within a function. "
   ]
  },
  {
   "cell_type": "code",
   "execution_count": 14,
   "metadata": {},
   "outputs": [
    {
     "name": "stdout",
     "output_type": "stream",
     "text": [
      "10\n"
     ]
    }
   ],
   "source": [
    "x = 5\n",
    "\n",
    "def modify_x():\n",
    "    global x\n",
    "    x = 10\n",
    "\n",
    "modify_x()\n",
    "print(x)"
   ]
  },
  {
   "cell_type": "code",
   "execution_count": null,
   "metadata": {},
   "outputs": [],
   "source": []
  },
  {
   "cell_type": "markdown",
   "metadata": {},
   "source": [
    "### 13. Example\n",
    "#### Objective: Create a Python program to calculate the area of a rectangle, circle, or triangle using functions."
   ]
  },
  {
   "cell_type": "code",
   "execution_count": 15,
   "metadata": {},
   "outputs": [
    {
     "name": "stdin",
     "output_type": "stream",
     "text": [
      "Enter the shape (rectangle, circle, or triangle):  rectangle\n",
      "Enter the width:  5\n",
      "Enter the height:  4\n"
     ]
    },
    {
     "name": "stdout",
     "output_type": "stream",
     "text": [
      "The area of the rectangle is 20.00\n"
     ]
    }
   ],
   "source": [
    "def rectangle_area(width, height):\n",
    "    return width * height\n",
    "\n",
    "def circle_area(radius):\n",
    "    import math\n",
    "    return math.pi * radius**2\n",
    "\n",
    "def triangle_area(base, height):\n",
    "    return 0.5 * base * height\n",
    "\n",
    "shape = input(\"Enter the shape (rectangle, circle, or triangle): \").lower()\n",
    "\n",
    "if shape == \"rectangle\":\n",
    "    width = float(input(\"Enter the width: \"))\n",
    "    height = float(input(\"Enter the height: \"))\n",
    "    area = rectangle_area(width, height)\n",
    "    print(f\"The area of the rectangle is {area:.2f}\")\n",
    "elif shape == \"circle\":\n",
    "    radius = float(input(\"Enter the radius: \"))\n",
    "    area = circle_area(radius)\n",
    "    print(f\"The area of the circle is {area:.2f}\")\n",
    "elif shape == \"triangle\":\n",
    "    base = float(input(\"Enter the base: \"))\n",
    "    height = float(input(\"Enter the height: \"))\n",
    "    area = triangle_area(base, height)\n",
    "    print(f\"The area of the triangle is {area:.2f}\")\n",
    "else:\n",
    "    print(\"Invalid shape!\")"
   ]
  },
  {
   "cell_type": "code",
   "execution_count": null,
   "metadata": {},
   "outputs": [],
   "source": []
  },
  {
   "cell_type": "markdown",
   "metadata": {},
   "source": [
    "### 14. Tips for Best Practices\n",
    "#### When working with functions, it's essential to follow best practices to ensure code readability, reusability, and maintainability:\n",
    "#### º Use descriptive function names\n",
    "#### º Keep functions small and focused\n",
    "#### º Document functions with docstrings\n",
    "#### º Use function annotations for type hints\n",
    "#### º Follow the DRY (Don't Repeat Yourself) principle\n",
    "#### º Use appropriate parameter types and default values"
   ]
  },
  {
   "cell_type": "code",
   "execution_count": null,
   "metadata": {},
   "outputs": [],
   "source": []
  },
  {
   "cell_type": "code",
   "execution_count": null,
   "metadata": {},
   "outputs": [],
   "source": []
  },
  {
   "cell_type": "code",
   "execution_count": null,
   "metadata": {},
   "outputs": [],
   "source": []
  }
 ],
 "metadata": {
  "kernelspec": {
   "display_name": "Python 3",
   "language": "python",
   "name": "python3"
  },
  "language_info": {
   "codemirror_mode": {
    "name": "ipython",
    "version": 3
   },
   "file_extension": ".py",
   "mimetype": "text/x-python",
   "name": "python",
   "nbconvert_exporter": "python",
   "pygments_lexer": "ipython3",
   "version": "3.8.5"
  }
 },
 "nbformat": 4,
 "nbformat_minor": 5
}
