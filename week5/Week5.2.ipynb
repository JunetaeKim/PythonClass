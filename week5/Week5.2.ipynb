{
 "cells": [
  {
   "cell_type": "markdown",
   "metadata": {},
   "source": [
    "## Objective: Learn and understand advanced conditional statements and error handling in Python <br>\n",
    "\n",
    "### Outline:\n",
    "#### ① Short-circuit evaluation\n",
    "#### ② Try-Except blocks for error handling\n",
    "#### ③ Else and Finally clauses\n",
    "#### ④ Handling multiple exceptions\n",
    "#### ⑤ Assert statements"
   ]
  },
  {
   "cell_type": "code",
   "execution_count": null,
   "metadata": {},
   "outputs": [],
   "source": []
  },
  {
   "cell_type": "markdown",
   "metadata": {
    "tags": []
   },
   "source": [
    "### 1. Short-circuit evaluation\n",
    "#### Python uses short-circuit evaluation when evaluating logical expressions, meaning that it stops evaluating as soon as the result is determined."
   ]
  },
  {
   "cell_type": "code",
   "execution_count": 4,
   "metadata": {},
   "outputs": [
    {
     "name": "stdout",
     "output_type": "stream",
     "text": [
      "Short-circuit evaluation prevented a division by zero error\n"
     ]
    }
   ],
   "source": [
    "x = 5\n",
    "y = 0\n",
    "if x != 0 and y != 0:\n",
    "    print(\"Both conditions are true\")\n",
    "else:\n",
    "    print(\"Short-circuit evaluation prevented a division by zero error\")"
   ]
  },
  {
   "cell_type": "code",
   "execution_count": null,
   "metadata": {},
   "outputs": [],
   "source": []
  },
  {
   "cell_type": "markdown",
   "metadata": {},
   "source": [
    "### 2. Try-Except blocks for error handling\n",
    "#### You can use try-except blocks to catch and handle exceptions that may occur during the execution of your program."
   ]
  },
  {
   "cell_type": "code",
   "execution_count": 5,
   "metadata": {},
   "outputs": [
    {
     "name": "stdout",
     "output_type": "stream",
     "text": [
      "Cannot divide by zero\n"
     ]
    }
   ],
   "source": [
    "try:\n",
    "    x = 1 / 0\n",
    "except ZeroDivisionError:\n",
    "    print(\"Cannot divide by zero\")"
   ]
  },
  {
   "cell_type": "code",
   "execution_count": null,
   "metadata": {},
   "outputs": [],
   "source": []
  },
  {
   "cell_type": "markdown",
   "metadata": {},
   "source": [
    "### 3. Else and Finally clauses\n",
    "#### You can use the else and finally clauses with try-except blocks to execute code that should run when no exceptions are raised or after the try block completes, respectively."
   ]
  },
  {
   "cell_type": "code",
   "execution_count": 6,
   "metadata": {},
   "outputs": [
    {
     "name": "stdout",
     "output_type": "stream",
     "text": [
      "Division was successful\n",
      "This code always runs\n"
     ]
    }
   ],
   "source": [
    "try:\n",
    "    x = 1 / 2\n",
    "except ZeroDivisionError:\n",
    "    print(\"Cannot divide by zero\")\n",
    "else:\n",
    "    print(\"Division was successful\")\n",
    "finally:\n",
    "    print(\"This code always runs\")"
   ]
  },
  {
   "cell_type": "code",
   "execution_count": null,
   "metadata": {},
   "outputs": [],
   "source": []
  },
  {
   "cell_type": "markdown",
   "metadata": {},
   "source": [
    "### 4. Handling multiple exceptions\n",
    "#### You can catch and handle multiple exceptions in a single try-except block. <br>\n",
    "##### ValueError: Raised when a function receives an argument of the correct type but an inappropriate value, making it impossible to perform the intended operation.\n",
    "##### EX: int(\"abc\")  # Cannot convert the string \"abc\" to an integer <br>\n",
    "\n",
    "##### TypeError: Raised when an operation or function is applied to an object of an inappropriate type, indicating that the object is not suitable for the given operation.\n",
    "##### EX: 3 + \"abc\"  # Cannot add an integer (3) and a string (\"abc\") together"
   ]
  },
  {
   "cell_type": "code",
   "execution_count": 16,
   "metadata": {},
   "outputs": [
    {
     "name": "stdout",
     "output_type": "stream",
     "text": [
      "Invalid input\n"
     ]
    }
   ],
   "source": [
    "try:\n",
    "    x = int(\"not a number\")\n",
    "except (ValueError, TypeError):\n",
    "    print(\"Invalid input\")"
   ]
  },
  {
   "cell_type": "code",
   "execution_count": null,
   "metadata": {},
   "outputs": [],
   "source": []
  },
  {
   "cell_type": "markdown",
   "metadata": {},
   "source": [
    "### 5. Assert statements\n",
    "#### Assert statements are used to check if a condition is true, and if it's not, an AssertionError is raised. \n",
    "#### This can be useful for debugging and catching programming errors early."
   ]
  },
  {
   "cell_type": "code",
   "execution_count": 30,
   "metadata": {},
   "outputs": [
    {
     "name": "stdout",
     "output_type": "stream",
     "text": [
      "Passed\n"
     ]
    }
   ],
   "source": [
    "x = 5\n",
    "assert x > 0, \"x must be positive\"\n",
    "\n",
    "print('Passed')"
   ]
  },
  {
   "cell_type": "code",
   "execution_count": 32,
   "metadata": {},
   "outputs": [
    {
     "name": "stdout",
     "output_type": "stream",
     "text": [
      "AssertionError: x be negative\n"
     ]
    }
   ],
   "source": [
    "x = 5\n",
    "\n",
    "try:\n",
    "    assert x < 0, \"x must be negative\"\n",
    "except AssertionError as e:\n",
    "    print(f\"AssertionError: {e}\")"
   ]
  }
 ],
 "metadata": {
  "kernelspec": {
   "display_name": "Python 3",
   "language": "python",
   "name": "python3"
  },
  "language_info": {
   "codemirror_mode": {
    "name": "ipython",
    "version": 3
   },
   "file_extension": ".py",
   "mimetype": "text/x-python",
   "name": "python",
   "nbconvert_exporter": "python",
   "pygments_lexer": "ipython3",
   "version": "3.8.5"
  }
 },
 "nbformat": 4,
 "nbformat_minor": 5
}
