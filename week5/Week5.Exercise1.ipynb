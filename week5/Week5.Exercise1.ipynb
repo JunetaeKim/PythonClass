{
 "cells": [
  {
   "cell_type": "markdown",
   "id": "a3282ad1-f8df-42c5-9320-0f4d2a6c53e5",
   "metadata": {},
   "source": [
    "#### https://colab.research.google.com/github/JunetaeKim/PythonClass/blob/main/week5/Week5.Exercise1.ipynb"
   ]
  },
  {
   "cell_type": "markdown",
   "id": "73b90246",
   "metadata": {},
   "source": [
    "#### 1. Check if the given number is divisible by 5."
   ]
  },
  {
   "cell_type": "code",
   "execution_count": 1,
   "id": "8c2e6051",
   "metadata": {},
   "outputs": [],
   "source": [
    "number = 25\n"
   ]
  },
  {
   "cell_type": "code",
   "execution_count": null,
   "id": "b5fbbefa",
   "metadata": {},
   "outputs": [],
   "source": []
  },
  {
   "cell_type": "markdown",
   "id": "d44deafa",
   "metadata": {},
   "source": [
    "#### 2. Check if the given two numbers are equal."
   ]
  },
  {
   "cell_type": "code",
   "execution_count": 4,
   "id": "7b9f4c05",
   "metadata": {},
   "outputs": [],
   "source": [
    "a = 10\n",
    "b = 15"
   ]
  },
  {
   "cell_type": "code",
   "execution_count": null,
   "id": "b1d4d8f6",
   "metadata": {},
   "outputs": [],
   "source": []
  },
  {
   "cell_type": "markdown",
   "id": "7bf3f4b1",
   "metadata": {},
   "source": [
    "#### 3. Find the smallest of three given numbers."
   ]
  },
  {
   "cell_type": "code",
   "execution_count": 3,
   "id": "3b0a12aa",
   "metadata": {},
   "outputs": [],
   "source": [
    "a = 3\n",
    "b = 5\n",
    "c = 2"
   ]
  },
  {
   "cell_type": "code",
   "execution_count": null,
   "id": "d652fb21",
   "metadata": {},
   "outputs": [],
   "source": []
  },
  {
   "cell_type": "markdown",
   "id": "a25f9c71",
   "metadata": {},
   "source": [
    "#### 4. Check if the given number is between 1 and 10 (inclusive)."
   ]
  },
  {
   "cell_type": "code",
   "execution_count": 5,
   "id": "5f7d31cc",
   "metadata": {},
   "outputs": [],
   "source": [
    "number = 7"
   ]
  },
  {
   "cell_type": "code",
   "execution_count": null,
   "id": "05583d8d",
   "metadata": {},
   "outputs": [],
   "source": []
  },
  {
   "cell_type": "markdown",
   "id": "822359c1",
   "metadata": {},
   "source": [
    "#### 5. Determine the sign of the given number: positive, negative, or zero."
   ]
  },
  {
   "cell_type": "code",
   "execution_count": 6,
   "id": "11d7d657",
   "metadata": {},
   "outputs": [],
   "source": [
    "number = -3"
   ]
  },
  {
   "cell_type": "code",
   "execution_count": null,
   "id": "9e22aa93",
   "metadata": {},
   "outputs": [],
   "source": []
  },
  {
   "cell_type": "markdown",
   "id": "84953199",
   "metadata": {},
   "source": [
    "#### 6. Calculate the total cost of items with a given price and quantity, including a 10% discount if the quantity is 5 or more."
   ]
  },
  {
   "cell_type": "code",
   "execution_count": 7,
   "id": "70f581f0",
   "metadata": {},
   "outputs": [],
   "source": [
    "price = 15\n",
    "quantity = 7"
   ]
  },
  {
   "cell_type": "code",
   "execution_count": null,
   "id": "fdd178fb",
   "metadata": {},
   "outputs": [],
   "source": []
  },
  {
   "cell_type": "markdown",
   "id": "5ccaa31b",
   "metadata": {},
   "source": [
    "#### 7. Check if the given string starts with the letter 'a' or 'A'."
   ]
  },
  {
   "cell_type": "code",
   "execution_count": 8,
   "id": "f8632485",
   "metadata": {},
   "outputs": [],
   "source": [
    "text = \"Apple\""
   ]
  },
  {
   "cell_type": "code",
   "execution_count": null,
   "id": "0affc41c",
   "metadata": {},
   "outputs": [],
   "source": []
  },
  {
   "cell_type": "markdown",
   "id": "d4bc4183",
   "metadata": {},
   "source": [
    "#### 8. Check if the given two numbers have the same sign (both positive or both negative)."
   ]
  },
  {
   "cell_type": "code",
   "execution_count": 9,
   "id": "ea8ffca8",
   "metadata": {},
   "outputs": [],
   "source": [
    "a = 4\n",
    "b = 6"
   ]
  },
  {
   "cell_type": "code",
   "execution_count": null,
   "id": "6beb1b1b",
   "metadata": {},
   "outputs": [],
   "source": []
  },
  {
   "cell_type": "markdown",
   "id": "541ce83b",
   "metadata": {},
   "source": [
    "#### 9. Calculate the price after applying a 10% discount for items over $100."
   ]
  },
  {
   "cell_type": "code",
   "execution_count": 10,
   "id": "c7a89197",
   "metadata": {},
   "outputs": [],
   "source": [
    "price = 150"
   ]
  },
  {
   "cell_type": "code",
   "execution_count": null,
   "id": "2a5756fb",
   "metadata": {},
   "outputs": [],
   "source": []
  },
  {
   "cell_type": "markdown",
   "id": "7a430cfe",
   "metadata": {},
   "source": [
    "#### 10. Check if the given age qualifies for a senior citizen discount (65 years or older)."
   ]
  },
  {
   "cell_type": "code",
   "execution_count": 11,
   "id": "2889161a",
   "metadata": {},
   "outputs": [],
   "source": [
    "age = 70"
   ]
  }
 ],
 "metadata": {
  "kernelspec": {
   "display_name": "Python 3 (ipykernel)",
   "language": "python",
   "name": "python3"
  },
  "language_info": {
   "codemirror_mode": {
    "name": "ipython",
    "version": 3
   },
   "file_extension": ".py",
   "mimetype": "text/x-python",
   "name": "python",
   "nbconvert_exporter": "python",
   "pygments_lexer": "ipython3",
   "version": "3.8.13"
  }
 },
 "nbformat": 4,
 "nbformat_minor": 5
}
