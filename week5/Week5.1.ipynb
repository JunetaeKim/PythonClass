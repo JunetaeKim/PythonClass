{
 "cells": [
  {
   "cell_type": "markdown",
   "id": "a9a73ac3",
   "metadata": {},
   "source": [
    "## Objective: Learn and understand Python conditional statements \n",
    "https://colab.research.google.com/github/JunetaeKim/PythonClass/blob/main/week5/Week5.1.ipynb\n",
    "\n",
    "### Outline:\n",
    "\n",
    "#### ① Introduction to Conditional Statements\n",
    "#### ② The elif Statement\n",
    "#### ③ The else Statement\n",
    "#### ④ Nested if Statements\n",
    "#### ⑤ Multiple Conditions: The and Operator\n",
    "#### ⑥ Multiple Conditions: The or Operator\n",
    "#### ⑦ The not Operator\n",
    "#### ⑧ Ternary Operator\n",
    "#### ⑨ The pass Statement\n",
    "#### ⑩ Identity Operators: is and is not\n",
    "#### ⑪ Conditional Expressions with Lists, Tuples, and Dictionaries\n",
    "#### ⑫ Membership Operators: in and not in\n",
    "#### ⑬ Identity Operators: is and is not\n",
    "#### ⑭ Conditional Expressions in List Comprehensions\n",
    "#### ⑮ Real-World Example: A Simple Calculator"
   ]
  },
  {
   "cell_type": "code",
   "execution_count": null,
   "id": "bbb1c0e0",
   "metadata": {},
   "outputs": [],
   "source": []
  },
  {
   "cell_type": "markdown",
   "id": "1315b552",
   "metadata": {
    "tags": []
   },
   "source": [
    "### 1. Introduction to Conditional Statements\n",
    "##### Conditional statements are the foundation of decision-making in programming. They allow you to execute certain blocks of code based on specific conditions being met.\n",
    "##### In Python, the primary conditional statements are if, elif, and else."
   ]
  },
  {
   "cell_type": "code",
   "execution_count": null,
   "id": "fa8e9069",
   "metadata": {},
   "outputs": [],
   "source": []
  },
  {
   "cell_type": "markdown",
   "id": "fc69b2be",
   "metadata": {},
   "source": [
    "### 2. The if Statement\n",
    "#### The if statement checks if a condition is true and executes the following code block."
   ]
  },
  {
   "cell_type": "code",
   "execution_count": 1,
   "id": "25d231b5",
   "metadata": {},
   "outputs": [
    {
     "name": "stdout",
     "output_type": "stream",
     "text": [
      "x is positive\n"
     ]
    }
   ],
   "source": [
    "x = 5\n",
    "if x > 0:\n",
    "    print(\"x is positive\")"
   ]
  },
  {
   "cell_type": "code",
   "execution_count": null,
   "id": "e34684b0",
   "metadata": {},
   "outputs": [],
   "source": []
  },
  {
   "cell_type": "markdown",
   "id": "380f7a75",
   "metadata": {
    "tags": []
   },
   "source": [
    "### 3. The elif Statement\n",
    "#### The elif statement checks for additional conditions after the initial if statement. \n",
    "#### It is used when there are multiple conditions to check."
   ]
  },
  {
   "cell_type": "code",
   "execution_count": 2,
   "id": "603bf85f",
   "metadata": {},
   "outputs": [],
   "source": [
    "x = 0\n",
    "if x > 0:\n",
    "    print(\"x is positive\")\n",
    "elif x < 0:\n",
    "    print(\"x is negative\")"
   ]
  },
  {
   "cell_type": "code",
   "execution_count": null,
   "id": "a8b8b13b",
   "metadata": {},
   "outputs": [],
   "source": []
  },
  {
   "cell_type": "markdown",
   "id": "fcc50e59",
   "metadata": {},
   "source": [
    "### 4. The else Statement\n",
    "#### The else statement is used when none of the previous conditions are met. It provides a default code block to execute."
   ]
  },
  {
   "cell_type": "code",
   "execution_count": 3,
   "id": "2e0585fe",
   "metadata": {},
   "outputs": [
    {
     "name": "stdout",
     "output_type": "stream",
     "text": [
      "x is zero\n"
     ]
    }
   ],
   "source": [
    "x = 0\n",
    "if x > 0:\n",
    "    print(\"x is positive\")\n",
    "elif x < 0:\n",
    "    print(\"x is negative\")\n",
    "else:\n",
    "    print(\"x is zero\")"
   ]
  },
  {
   "cell_type": "code",
   "execution_count": null,
   "id": "d8c09cc5",
   "metadata": {},
   "outputs": [],
   "source": []
  },
  {
   "cell_type": "markdown",
   "id": "10e97d08",
   "metadata": {},
   "source": [
    "### 5. Nested if Statements\n",
    "#### You can use nested if statements to check for multiple conditions within a single if statement. "
   ]
  },
  {
   "cell_type": "code",
   "execution_count": 4,
   "id": "a4be0dd4",
   "metadata": {},
   "outputs": [
    {
     "name": "stdout",
     "output_type": "stream",
     "text": [
      "x is a positive even number\n"
     ]
    }
   ],
   "source": [
    "x = 10\n",
    "if x > 0:\n",
    "    if x % 2 == 0:\n",
    "        print(\"x is a positive even number\")\n",
    "    else:\n",
    "        print(\"x is a positive odd number\")"
   ]
  },
  {
   "cell_type": "code",
   "execution_count": null,
   "id": "1b9d6cef",
   "metadata": {},
   "outputs": [],
   "source": []
  },
  {
   "cell_type": "markdown",
   "id": "49653c6a",
   "metadata": {},
   "source": [
    "### 6. Multiple Conditions: The and Operator\n",
    "#### The and operator is used to check if multiple conditions are true."
   ]
  },
  {
   "cell_type": "code",
   "execution_count": 5,
   "id": "46a8dc5c",
   "metadata": {},
   "outputs": [
    {
     "name": "stdout",
     "output_type": "stream",
     "text": [
      "Both x and y are positive\n"
     ]
    }
   ],
   "source": [
    "x = 5\n",
    "y = 10\n",
    "if x > 0 and y > 0:\n",
    "    print(\"Both x and y are positive\")"
   ]
  },
  {
   "cell_type": "code",
   "execution_count": null,
   "id": "49dd3cf0",
   "metadata": {},
   "outputs": [],
   "source": []
  },
  {
   "cell_type": "markdown",
   "id": "96795aa9",
   "metadata": {},
   "source": [
    "### 7. Multiple Conditions: The or Operator\n",
    "#### The or operator is used to check if at least one of the conditions is true."
   ]
  },
  {
   "cell_type": "code",
   "execution_count": null,
   "id": "c3a3e073",
   "metadata": {},
   "outputs": [],
   "source": [
    "x = -5\n",
    "y = 10\n",
    "if x > 0 or y > 0:\n",
    "    print(\"At least one of x or y is positive\")"
   ]
  },
  {
   "cell_type": "code",
   "execution_count": null,
   "id": "a646db83",
   "metadata": {},
   "outputs": [],
   "source": []
  },
  {
   "cell_type": "markdown",
   "id": "26e8e1be",
   "metadata": {},
   "source": [
    "### 8. The not Operator\n",
    "#### The not operator is used to negate a condition."
   ]
  },
  {
   "cell_type": "code",
   "execution_count": 6,
   "id": "ea665c41",
   "metadata": {},
   "outputs": [
    {
     "name": "stdout",
     "output_type": "stream",
     "text": [
      "x is not negative\n"
     ]
    }
   ],
   "source": [
    "x = 5\n",
    "if not x < 0:\n",
    "    print(\"x is not negative\")"
   ]
  },
  {
   "cell_type": "code",
   "execution_count": null,
   "id": "db5e1cf9",
   "metadata": {},
   "outputs": [],
   "source": []
  },
  {
   "cell_type": "markdown",
   "id": "2930cf14",
   "metadata": {},
   "source": [
    "### 9. Ternary Operator\n",
    "#### The ternary operator is a shorter way of writing an if-else statement. \n",
    "#### It evaluates an expression based on a condition."
   ]
  },
  {
   "cell_type": "code",
   "execution_count": 7,
   "id": "1c4990b3",
   "metadata": {},
   "outputs": [
    {
     "name": "stdout",
     "output_type": "stream",
     "text": [
      "positive\n"
     ]
    }
   ],
   "source": [
    "x = 5\n",
    "result = \"positive\" if x > 0 else \"non-positive\"\n",
    "print(result)"
   ]
  },
  {
   "cell_type": "code",
   "execution_count": null,
   "id": "f811d3d1",
   "metadata": {},
   "outputs": [],
   "source": []
  },
  {
   "cell_type": "markdown",
   "id": "c1bfac01",
   "metadata": {},
   "source": [
    "### 10. The pass Statement\n",
    "#### The pass statement is a placeholder that does nothing when executed. It can be used when a statement is required syntactically but no action is necessary."
   ]
  },
  {
   "cell_type": "code",
   "execution_count": 8,
   "id": "84f17209",
   "metadata": {},
   "outputs": [],
   "source": [
    "x = 5\n",
    "if x > 0:\n",
    "    pass  # No action is taken when x is positive\n"
   ]
  },
  {
   "cell_type": "code",
   "execution_count": null,
   "id": "e9e9a253",
   "metadata": {},
   "outputs": [],
   "source": []
  },
  {
   "cell_type": "markdown",
   "id": "a7fbaa04",
   "metadata": {},
   "source": [
    "### 11. Membership Operators: in and not in\n",
    "#### The in and not in operators are used to check if a value is a member of a sequence (like strings, lists, or tuples)."
   ]
  },
  {
   "cell_type": "code",
   "execution_count": 9,
   "id": "ff4a3d84",
   "metadata": {},
   "outputs": [
    {
     "name": "stdout",
     "output_type": "stream",
     "text": [
      "Apple is in the list\n",
      "Orange is not in the list\n"
     ]
    }
   ],
   "source": [
    "fruits = [\"apple\", \"banana\", \"cherry\"]\n",
    "if \"apple\" in fruits:\n",
    "    print(\"Apple is in the list\")\n",
    "\n",
    "if \"orange\" not in fruits:\n",
    "    print(\"Orange is not in the list\")"
   ]
  },
  {
   "cell_type": "code",
   "execution_count": null,
   "id": "433e70f6",
   "metadata": {},
   "outputs": [],
   "source": []
  },
  {
   "cell_type": "markdown",
   "id": "d3685629",
   "metadata": {},
   "source": [
    "### 12. Identity Operators: is and is not\n",
    "#### The is and is not operators are used to compare if two variables refer to the same object in memory."
   ]
  },
  {
   "cell_type": "code",
   "execution_count": 10,
   "id": "af1d3684",
   "metadata": {},
   "outputs": [
    {
     "name": "stdout",
     "output_type": "stream",
     "text": [
      "x and z refer to the same object\n",
      "x and y do not refer to the same object\n"
     ]
    }
   ],
   "source": [
    "x = [1, 2, 3]\n",
    "y = [1, 2, 3]\n",
    "z = x\n",
    "\n",
    "if x is z:\n",
    "    print(\"x and z refer to the same object\")\n",
    "\n",
    "if x is not y:\n",
    "    print(\"x and y do not refer to the same object\")"
   ]
  },
  {
   "cell_type": "code",
   "execution_count": null,
   "id": "e62e557f",
   "metadata": {},
   "outputs": [],
   "source": []
  },
  {
   "cell_type": "markdown",
   "id": "524c4060",
   "metadata": {},
   "source": [
    "### 13. Conditional Expressions in List Comprehensions\n",
    "#### List comprehensions can include conditional expressions to create new lists based on certain conditions."
   ]
  },
  {
   "cell_type": "code",
   "execution_count": 11,
   "id": "f9ce95d0",
   "metadata": {},
   "outputs": [
    {
     "name": "stdout",
     "output_type": "stream",
     "text": [
      "[2, 4]\n"
     ]
    }
   ],
   "source": [
    "numbers = [1, 2, 3, 4, 5]\n",
    "even_numbers = [x for x in numbers if x % 2 == 0]\n",
    "print(even_numbers)"
   ]
  },
  {
   "cell_type": "code",
   "execution_count": null,
   "id": "7bbea067",
   "metadata": {},
   "outputs": [],
   "source": []
  },
  {
   "cell_type": "markdown",
   "id": "b47789e8",
   "metadata": {},
   "source": [
    "### 14. Real-World Example: A Simple Calculator\n",
    "#### In this example, we'll create a simple calculator that performs addition, subtraction, multiplication, and division based on user input."
   ]
  },
  {
   "cell_type": "code",
   "execution_count": 12,
   "id": "c29ad23e",
   "metadata": {},
   "outputs": [
    {
     "name": "stdin",
     "output_type": "stream",
     "text": [
      "Enter the first number:  1\n",
      "Enter the second number:  5\n",
      "Enter the operation (+, -, *, /):  +\n"
     ]
    },
    {
     "name": "stdout",
     "output_type": "stream",
     "text": [
      "The result is 6.0\n"
     ]
    }
   ],
   "source": [
    "num1 = float(input(\"Enter the first number: \"))\n",
    "num2 = float(input(\"Enter the second number: \"))\n",
    "operation = input(\"Enter the operation (+, -, *, /): \")\n",
    "\n",
    "if operation == \"+\":\n",
    "    result = num1 + num2\n",
    "elif operation == \"-\":\n",
    "    result = num1 - num2\n",
    "elif operation == \"*\":\n",
    "    result = num1 * num2\n",
    "elif operation == \"/\":\n",
    "    if num2 == 0:\n",
    "        print(\"Error: Division by zero\")\n",
    "    else:\n",
    "        result = num1 / num2\n",
    "else:\n",
    "    print(\"Invalid operation\")\n",
    "\n",
    "if operation in [\"+\", \"-\", \"*\", \"/\"] and (operation != \"/\" or num2 != 0):\n",
    "    print(f\"The result is {result}\")"
   ]
  },
  {
   "cell_type": "code",
   "execution_count": null,
   "id": "9ed4b7e4",
   "metadata": {},
   "outputs": [],
   "source": []
  },
  {
   "cell_type": "code",
   "execution_count": null,
   "id": "a9cb0281",
   "metadata": {},
   "outputs": [],
   "source": []
  }
 ],
 "metadata": {
  "kernelspec": {
   "display_name": "Python 3 (ipykernel)",
   "language": "python",
   "name": "python3"
  },
  "language_info": {
   "codemirror_mode": {
    "name": "ipython",
    "version": 3
   },
   "file_extension": ".py",
   "mimetype": "text/x-python",
   "name": "python",
   "nbconvert_exporter": "python",
   "pygments_lexer": "ipython3",
   "version": "3.8.13"
  }
 },
 "nbformat": 4,
 "nbformat_minor": 5
}
