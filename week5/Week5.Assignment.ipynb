{
 "cells": [
  {
   "cell_type": "markdown",
   "metadata": {},
   "source": [
    "### Goal: write to code for Rock-Paper-Scissors game that takes user input and plays against the computer, handling invalid input using an exception:\n",
    "https://colab.research.google.com/github/JunetaeKim/PythonClass/blob/main/week5/Week5.Assignment.ipynb\n",
    "#### Tips\n",
    "#### 1. Use the random.choice() function to generate the computer's choice from a list of valid options.\n",
    "#### 2. Convert user input to lowercase and check if it's valid using a list of acceptable choices; raise a ValueError for invalid input.\n",
    "#### 3. Compare the user's choice with the computer's choice using conditional statements to determine the game result (win, lose, or tie)."
   ]
  },
  {
   "cell_type": "code",
   "execution_count": null,
   "metadata": {},
   "outputs": [],
   "source": [
    "import random\n",
    "\n",
    "# A list of valid choices\n",
    "choices = [\"rock\", \"paper\", \"scissors\"]\n",
    "\n",
    "print(\"Welcome to Rock, Paper, Scissors!\")\n",
    "user_choice = input(\"Enter your choice (rock, paper, or scissors): \").lower()\n",
    "\n",
    "try:\n",
    "    if user_choice not in choices:\n",
    "        raise ValueError(\"Invalid input\")\n",
    "    \n",
    "    computer_choice = random.choice(choices)\n",
    "    print(f\"Computer's choice: {computer_choice}\")\n",
    "\n",
    "    if user_choice == computer_choice:\n",
    "        print(\"It's a tie!\")\n",
    "    elif (user_choice == \"rock\" and computer_choice == \"scissors\") or \\\n",
    "         (user_choice == \"paper\" and computer_choice == \"rock\") or \\\n",
    "         (user_choice == \"scissors\" and computer_choice == \"paper\"):\n",
    "        print(\"You win!\")\n",
    "    else:\n",
    "        print(\"You lose!\")\n",
    "\n",
    "except ValueError as e:\n",
    "    print(e)"
   ]
  },
  {
   "cell_type": "code",
   "execution_count": null,
   "metadata": {},
   "outputs": [],
   "source": []
  }
 ],
 "metadata": {
  "kernelspec": {
   "display_name": "Python 3 (ipykernel)",
   "language": "python",
   "name": "python3"
  },
  "language_info": {
   "codemirror_mode": {
    "name": "ipython",
    "version": 3
   },
   "file_extension": ".py",
   "mimetype": "text/x-python",
   "name": "python",
   "nbconvert_exporter": "python",
   "pygments_lexer": "ipython3",
   "version": "3.8.13"
  }
 },
 "nbformat": 4,
 "nbformat_minor": 4
}
