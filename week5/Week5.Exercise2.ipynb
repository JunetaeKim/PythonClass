{
 "cells": [
  {
   "cell_type": "markdown",
   "id": "d40fce9f-b7b6-4d64-90f0-a1852d8cdda2",
   "metadata": {},
   "source": [
    "#### https://colab.research.google.com/github/JunetaeKim/PythonClass/blob/main/week5/Week5.Exercise2.ipynb"
   ]
  },
  {
   "cell_type": "markdown",
   "id": "b3578e08",
   "metadata": {},
   "source": [
    "#### 1. Handle a division by zero exception. 'ZeroDivisionError'"
   ]
  },
  {
   "cell_type": "code",
   "execution_count": 4,
   "id": "2771376b",
   "metadata": {},
   "outputs": [],
   "source": [
    "a = 10\n",
    "b = 0"
   ]
  },
  {
   "cell_type": "code",
   "execution_count": null,
   "id": "22d6c29a",
   "metadata": {},
   "outputs": [],
   "source": []
  },
  {
   "cell_type": "markdown",
   "id": "96e999ae",
   "metadata": {},
   "source": [
    "#### 2. Handle an exception when trying to access a non-existent key in a dictionary. 'KeyError'"
   ]
  },
  {
   "cell_type": "code",
   "execution_count": 5,
   "id": "5106fae4",
   "metadata": {},
   "outputs": [],
   "source": [
    "d = {'name': 'Alice', 'age': 25}\n",
    "key = 'city'"
   ]
  },
  {
   "cell_type": "code",
   "execution_count": null,
   "id": "c6ac0fe1",
   "metadata": {},
   "outputs": [],
   "source": []
  },
  {
   "cell_type": "markdown",
   "id": "c4d51be0",
   "metadata": {},
   "source": [
    "#### 3. Handle an exception when trying to convert a non-numeric string to an integer. 'ValueError'"
   ]
  },
  {
   "cell_type": "code",
   "execution_count": 6,
   "id": "ebbdd393",
   "metadata": {},
   "outputs": [],
   "source": [
    "s = \"not_a_number\""
   ]
  },
  {
   "cell_type": "code",
   "execution_count": null,
   "id": "da21b6fa",
   "metadata": {},
   "outputs": [],
   "source": []
  },
  {
   "cell_type": "markdown",
   "id": "fcc37f7b",
   "metadata": {},
   "source": [
    "#### 4. Handle an exception when trying to access an out-of-range index in a list. 'IndexError'"
   ]
  },
  {
   "cell_type": "code",
   "execution_count": 7,
   "id": "73f5f390",
   "metadata": {},
   "outputs": [],
   "source": [
    "my_list = [1, 2, 3]\n",
    "index = 5"
   ]
  },
  {
   "cell_type": "code",
   "execution_count": null,
   "id": "1546eb0a",
   "metadata": {},
   "outputs": [],
   "source": []
  },
  {
   "cell_type": "markdown",
   "id": "a31a0287",
   "metadata": {},
   "source": [
    "#### 5. Handle an exception when trying to open a non-existent file. 'FileNotFoundError'"
   ]
  },
  {
   "cell_type": "code",
   "execution_count": 9,
   "id": "9851b6b7",
   "metadata": {},
   "outputs": [],
   "source": [
    "filename = \"non_existent_file.txt\""
   ]
  },
  {
   "cell_type": "code",
   "execution_count": null,
   "id": "03e8faff",
   "metadata": {},
   "outputs": [],
   "source": []
  },
  {
   "cell_type": "markdown",
   "id": "7100da80",
   "metadata": {},
   "source": [
    "#### 6. Handle a TypeError when trying to concatenate a string and an integer. 'TypeError'"
   ]
  },
  {
   "cell_type": "code",
   "execution_count": 10,
   "id": "35c9d1f3",
   "metadata": {},
   "outputs": [],
   "source": [
    "a = \"hello\"\n",
    "b = 42\n"
   ]
  },
  {
   "cell_type": "code",
   "execution_count": null,
   "id": "09aca3cf",
   "metadata": {},
   "outputs": [],
   "source": []
  },
  {
   "cell_type": "markdown",
   "id": "28c90296",
   "metadata": {},
   "source": [
    "#### 7. Handle an exception when trying to import a non-existent module. 'ImportError'"
   ]
  },
  {
   "cell_type": "code",
   "execution_count": 11,
   "id": "6edcaeb6",
   "metadata": {},
   "outputs": [],
   "source": [
    "module_name = \"non_existent_module\"\n"
   ]
  },
  {
   "cell_type": "code",
   "execution_count": null,
   "id": "2f07eb4d",
   "metadata": {},
   "outputs": [],
   "source": []
  },
  {
   "cell_type": "markdown",
   "id": "31272b71",
   "metadata": {},
   "source": [
    "#### 8. Handle an exception when trying to call an undefined function. 'NameError'"
   ]
  },
  {
   "cell_type": "code",
   "execution_count": 12,
   "id": "066a9e7c",
   "metadata": {},
   "outputs": [],
   "source": [
    "function_name = \"undefined_function\"\n"
   ]
  },
  {
   "cell_type": "code",
   "execution_count": null,
   "id": "b2d3b053",
   "metadata": {},
   "outputs": [],
   "source": []
  },
  {
   "cell_type": "markdown",
   "id": "e3d3d897",
   "metadata": {},
   "source": [
    "#### 9. Handle multiple exceptions when trying to convert user input to an integer and divide by it. 'ValueError' , 'ZeroDivisionError'"
   ]
  },
  {
   "cell_type": "code",
   "execution_count": 13,
   "id": "a6502ab8",
   "metadata": {},
   "outputs": [
    {
     "name": "stdin",
     "output_type": "stream",
     "text": [
      " 10\n"
     ]
    }
   ],
   "source": [
    "user_input = input()\n",
    "dividend = 10"
   ]
  },
  {
   "cell_type": "code",
   "execution_count": null,
   "id": "6f4ab442",
   "metadata": {},
   "outputs": [],
   "source": []
  }
 ],
 "metadata": {
  "kernelspec": {
   "display_name": "Python 3 (ipykernel)",
   "language": "python",
   "name": "python3"
  },
  "language_info": {
   "codemirror_mode": {
    "name": "ipython",
    "version": 3
   },
   "file_extension": ".py",
   "mimetype": "text/x-python",
   "name": "python",
   "nbconvert_exporter": "python",
   "pygments_lexer": "ipython3",
   "version": "3.8.13"
  }
 },
 "nbformat": 4,
 "nbformat_minor": 5
}
