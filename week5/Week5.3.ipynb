{
 "cells": [
  {
   "cell_type": "markdown",
   "id": "51eefa88",
   "metadata": {},
   "source": [
    "## Objective: To learn and understand the usage of try-except blocks and 10 common exceptions in Python.\n",
    "https://colab.research.google.com/github/JunetaeKim/PythonClass/blob/main/week5/Week5.3.ipynb\n",
    "### Outline:\n",
    "#### ① ImportError\n",
    "#### ② IndexError\n",
    "#### ③ KeyError\n",
    "#### ④ NameError\n",
    "#### ⑤ FileNotFoundError\n",
    "#### ⑥ TypeError\n",
    "#### ⑦ ValueError\n",
    "#### ⑧ ZeroDivisionError\n",
    "#### ⑨ AttributeError\n",
    "#### ⑩ SyntaxError\n",
    "#### ⑪ Without sepcific error type \n",
    "#### ⑫ Examples: Handling Common Exceptions"
   ]
  },
  {
   "cell_type": "code",
   "execution_count": null,
   "id": "c0a06bfd",
   "metadata": {},
   "outputs": [],
   "source": []
  },
  {
   "cell_type": "markdown",
   "id": "6acdb64b",
   "metadata": {
    "tags": []
   },
   "source": [
    "### 1. ImportError\n",
    "#### Raised when an import statement fails to find the module or cannot load it."
   ]
  },
  {
   "cell_type": "code",
   "execution_count": 3,
   "id": "2f3f57f9",
   "metadata": {},
   "outputs": [
    {
     "name": "stdout",
     "output_type": "stream",
     "text": [
      "Module not found\n"
     ]
    }
   ],
   "source": [
    "try:\n",
    "    import nonexistent_module\n",
    "except ImportError:\n",
    "    print(\"Module not found\")"
   ]
  },
  {
   "cell_type": "code",
   "execution_count": null,
   "id": "5b05d257",
   "metadata": {},
   "outputs": [],
   "source": []
  },
  {
   "cell_type": "markdown",
   "id": "fa551607",
   "metadata": {},
   "source": [
    "### 2. IndexError\n",
    "#### Raised when a sequence is indexed with an out-of-range index."
   ]
  },
  {
   "cell_type": "code",
   "execution_count": 4,
   "id": "ae78ef7d",
   "metadata": {},
   "outputs": [
    {
     "name": "stdout",
     "output_type": "stream",
     "text": [
      "Index out of range\n"
     ]
    }
   ],
   "source": [
    "my_list = [1, 2, 3]\n",
    "try:\n",
    "    print(my_list[3])\n",
    "except IndexError:\n",
    "    print(\"Index out of range\")"
   ]
  },
  {
   "cell_type": "code",
   "execution_count": null,
   "id": "69d8568a",
   "metadata": {},
   "outputs": [],
   "source": []
  },
  {
   "cell_type": "markdown",
   "id": "3eda9635",
   "metadata": {},
   "source": [
    "### 3. KeyError\n",
    "#### Raised when a dictionary is accessed with a non-existent key."
   ]
  },
  {
   "cell_type": "code",
   "execution_count": 5,
   "id": "d442bc25",
   "metadata": {},
   "outputs": [
    {
     "name": "stdout",
     "output_type": "stream",
     "text": [
      "Key not found\n"
     ]
    }
   ],
   "source": [
    "my_dict = {\"a\": 1, \"b\": 2}\n",
    "try:\n",
    "    print(my_dict[\"c\"])\n",
    "except KeyError:\n",
    "    print(\"Key not found\")"
   ]
  },
  {
   "cell_type": "code",
   "execution_count": null,
   "id": "b25f1aa9",
   "metadata": {},
   "outputs": [],
   "source": []
  },
  {
   "cell_type": "markdown",
   "id": "36953ba4",
   "metadata": {},
   "source": [
    "### 4. NameError\n",
    "#### Raised when a local or global name is not found."
   ]
  },
  {
   "cell_type": "code",
   "execution_count": 6,
   "id": "13c17856",
   "metadata": {},
   "outputs": [
    {
     "name": "stdout",
     "output_type": "stream",
     "text": [
      "Variable not defined\n"
     ]
    }
   ],
   "source": [
    "try:\n",
    "    print(nonexistent_variable)\n",
    "except NameError:\n",
    "    print(\"Variable not defined\")"
   ]
  },
  {
   "cell_type": "code",
   "execution_count": null,
   "id": "7a6c914d",
   "metadata": {},
   "outputs": [],
   "source": []
  },
  {
   "cell_type": "markdown",
   "id": "b8b0688a",
   "metadata": {},
   "source": [
    "### 5. FileNotFoundError\n",
    "#### Raised when trying to open a non-existent file."
   ]
  },
  {
   "cell_type": "markdown",
   "id": "8bfff016-0f89-4690-8780-de842a42245f",
   "metadata": {},
   "source": [
    "#### Create a file for the experiment."
   ]
  },
  {
   "cell_type": "code",
   "execution_count": 1,
   "id": "f287da8d-8654-47f3-a273-49644ce180e1",
   "metadata": {},
   "outputs": [],
   "source": [
    "with open('existent_file.txt', 'w') as file:\n",
    "    file.write(\"I am with you\")"
   ]
  },
  {
   "cell_type": "code",
   "execution_count": 2,
   "id": "d3d4558d-d381-440d-a0e7-812ea21d2213",
   "metadata": {},
   "outputs": [
    {
     "name": "stdout",
     "output_type": "stream",
     "text": [
      "I am with you\n"
     ]
    }
   ],
   "source": [
    "with open(\"existent_file.txt\", \"r\") as file:\n",
    "    print(file.readline())"
   ]
  },
  {
   "cell_type": "code",
   "execution_count": 4,
   "id": "d53f34d8",
   "metadata": {},
   "outputs": [
    {
     "name": "stdout",
     "output_type": "stream",
     "text": [
      "File not found\n"
     ]
    }
   ],
   "source": [
    "try:\n",
    "    with open(\"nonexistent_file.txt\", \"r\") as file:\n",
    "        pass\n",
    "except FileNotFoundError:\n",
    "    print(\"File not found\")"
   ]
  },
  {
   "cell_type": "code",
   "execution_count": null,
   "id": "dc0f7a06",
   "metadata": {},
   "outputs": [],
   "source": []
  },
  {
   "cell_type": "markdown",
   "id": "820cbfbc",
   "metadata": {},
   "source": [
    "### 6. TypeError\n",
    "#### Raised when an operation or function is applied to an object of inappropriate type."
   ]
  },
  {
   "cell_type": "code",
   "execution_count": 13,
   "id": "32dc57f1",
   "metadata": {},
   "outputs": [
    {
     "name": "stdout",
     "output_type": "stream",
     "text": [
      "Incompatible types\n"
     ]
    }
   ],
   "source": [
    "try:\n",
    "    result = 5 + \"a\"\n",
    "except TypeError:\n",
    "    print(\"Incompatible types\")"
   ]
  },
  {
   "cell_type": "code",
   "execution_count": null,
   "id": "f716f2ed",
   "metadata": {},
   "outputs": [],
   "source": []
  },
  {
   "cell_type": "markdown",
   "id": "353723eb",
   "metadata": {},
   "source": [
    "### 7. ValueError\n",
    "#### Raised when a function receives an argument of the correct type but an inappropriate value."
   ]
  },
  {
   "cell_type": "code",
   "execution_count": 9,
   "id": "d5b07853",
   "metadata": {},
   "outputs": [
    {
     "name": "stdout",
     "output_type": "stream",
     "text": [
      "Invalid value\n"
     ]
    }
   ],
   "source": [
    "try:\n",
    "    number = int(\"a\")\n",
    "except ValueError:\n",
    "    print(\"Invalid value\")"
   ]
  },
  {
   "cell_type": "code",
   "execution_count": null,
   "id": "03a1c120",
   "metadata": {},
   "outputs": [],
   "source": []
  },
  {
   "cell_type": "markdown",
   "id": "f01f4a9c",
   "metadata": {},
   "source": [
    "### 8. ZeroDivisionError\n",
    "#### Raised when the second argument of a division or modulo operation is zero."
   ]
  },
  {
   "cell_type": "code",
   "execution_count": 10,
   "id": "b87dfc8d",
   "metadata": {},
   "outputs": [
    {
     "name": "stdout",
     "output_type": "stream",
     "text": [
      "Division by zero\n"
     ]
    }
   ],
   "source": [
    "try:\n",
    "    result = 5 / 0\n",
    "except ZeroDivisionError:\n",
    "    print(\"Division by zero\")"
   ]
  },
  {
   "cell_type": "code",
   "execution_count": null,
   "id": "2216ffa3",
   "metadata": {},
   "outputs": [],
   "source": []
  },
  {
   "cell_type": "markdown",
   "id": "7d9fe3bc",
   "metadata": {},
   "source": [
    "### 9. AttributeError\n",
    "#### Raised when an attribute reference or assignment fails."
   ]
  },
  {
   "cell_type": "code",
   "execution_count": 17,
   "id": "ae39effb",
   "metadata": {},
   "outputs": [
    {
     "name": "stdout",
     "output_type": "stream",
     "text": [
      "Attribute not found\n"
     ]
    }
   ],
   "source": [
    "class MyClass:\n",
    "    One = '1'\n",
    "    pass\n",
    "\n",
    "try:\n",
    "    obj = MyClass()\n",
    "    obj.nonexistent_attribute\n",
    "except AttributeError:\n",
    "    print(\"Attribute not found\")"
   ]
  },
  {
   "cell_type": "code",
   "execution_count": null,
   "id": "009e0f75",
   "metadata": {},
   "outputs": [],
   "source": []
  },
  {
   "cell_type": "markdown",
   "id": "e524af2e",
   "metadata": {},
   "source": [
    "### 10. SyntaxError\n",
    "#### Raised when there is an error in Python syntax."
   ]
  },
  {
   "cell_type": "code",
   "execution_count": 18,
   "id": "2454181f",
   "metadata": {},
   "outputs": [
    {
     "name": "stdout",
     "output_type": "stream",
     "text": [
      "Syntax error\n"
     ]
    }
   ],
   "source": [
    "try:\n",
    "    eval(\"5+)\")\n",
    "except SyntaxError:\n",
    "    print(\"Syntax error\")"
   ]
  },
  {
   "cell_type": "code",
   "execution_count": null,
   "id": "5f5c2a57",
   "metadata": {},
   "outputs": [],
   "source": []
  },
  {
   "cell_type": "markdown",
   "id": "0d1ca0a5",
   "metadata": {},
   "source": [
    "### 11. Without sepcific error type\n",
    "#### If you don't know the specific error type, you can catch a general Exception in your try-except block."
   ]
  },
  {
   "cell_type": "code",
   "execution_count": 19,
   "id": "9b85a075",
   "metadata": {},
   "outputs": [
    {
     "name": "stdout",
     "output_type": "stream",
     "text": [
      "An error occurred: division by zero\n"
     ]
    }
   ],
   "source": [
    "try:\n",
    "    # Your code that may raise an exception\n",
    "    result = 5 / 0\n",
    "except Exception as e:\n",
    "    print(f\"An error occurred: {e}\")"
   ]
  },
  {
   "cell_type": "code",
   "execution_count": null,
   "id": "4081bb95",
   "metadata": {},
   "outputs": [],
   "source": []
  },
  {
   "cell_type": "markdown",
   "id": "14742600",
   "metadata": {},
   "source": [
    "### 12. Real-World Example\n",
    "#### We prompt the user for input once. The program then tries to convert the input to an integer and calculate its square. \n",
    "#### If a ValueError occurs, the program will print an error message stating that the input is not a valid integer. \n",
    "#### If any other exception occurs, it will print an error message with the details of the exception. \n",
    "#### After the execution, the finally block will execute, printing \"Execution completed\"."
   ]
  },
  {
   "cell_type": "code",
   "execution_count": 20,
   "id": "aff999c1",
   "metadata": {},
   "outputs": [
    {
     "name": "stdin",
     "output_type": "stream",
     "text": [
      "Enter an integer:  512\n"
     ]
    },
    {
     "name": "stdout",
     "output_type": "stream",
     "text": [
      "Squared value: 262144\n",
      "Execution completed\n"
     ]
    }
   ],
   "source": [
    "user_input = input(\"Enter an integer: \")\n",
    "\n",
    "try:\n",
    "    value = int(user_input)\n",
    "    print(f\"Squared value: {value ** 2}\")\n",
    "except ValueError:\n",
    "    print(\"An exception occurred: input is not a valid integer\")\n",
    "except Exception as e:\n",
    "    print(f\"An unexpected error occurred: {e}\")\n",
    "finally:\n",
    "    print(\"Execution completed\")"
   ]
  },
  {
   "cell_type": "code",
   "execution_count": null,
   "id": "1033ba10",
   "metadata": {},
   "outputs": [],
   "source": []
  }
 ],
 "metadata": {
  "kernelspec": {
   "display_name": "Python 3 (ipykernel)",
   "language": "python",
   "name": "python3"
  },
  "language_info": {
   "codemirror_mode": {
    "name": "ipython",
    "version": 3
   },
   "file_extension": ".py",
   "mimetype": "text/x-python",
   "name": "python",
   "nbconvert_exporter": "python",
   "pygments_lexer": "ipython3",
   "version": "3.8.13"
  }
 },
 "nbformat": 4,
 "nbformat_minor": 5
}
