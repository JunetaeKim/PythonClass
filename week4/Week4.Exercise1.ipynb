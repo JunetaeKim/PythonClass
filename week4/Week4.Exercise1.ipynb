{
 "cells": [
  {
   "cell_type": "markdown",
   "id": "1720409c",
   "metadata": {},
   "source": [
    "#### https://colab.research.google.com/github/JunetaeKim/PythonClass/blob/main/week4/Week4.Exercise1.ipynb"
   ]
  },
  {
   "cell_type": "markdown",
   "id": "7eded212",
   "metadata": {},
   "source": [
    "#### 1. Convert the given list to a tuple."
   ]
  },
  {
   "cell_type": "code",
   "execution_count": 1,
   "id": "c08d4481",
   "metadata": {},
   "outputs": [],
   "source": [
    "fruits = [\"apple\", \"banana\", \"cherry\"]"
   ]
  },
  {
   "cell_type": "code",
   "execution_count": null,
   "id": "49749eaf",
   "metadata": {},
   "outputs": [],
   "source": []
  },
  {
   "cell_type": "markdown",
   "id": "b81062d9",
   "metadata": {},
   "source": [
    "#### 2. Convert the given tuple to a list."
   ]
  },
  {
   "cell_type": "code",
   "execution_count": 2,
   "id": "6fdaea0b",
   "metadata": {},
   "outputs": [],
   "source": [
    "fruits_tuple = (\"apple\", \"banana\", \"cherry\")"
   ]
  },
  {
   "cell_type": "code",
   "execution_count": null,
   "id": "4e3533d9",
   "metadata": {},
   "outputs": [],
   "source": []
  },
  {
   "cell_type": "markdown",
   "id": "7aaffd8c",
   "metadata": {},
   "source": [
    "#### 3. Convert the given list to a set."
   ]
  },
  {
   "cell_type": "code",
   "execution_count": 3,
   "id": "a7446142",
   "metadata": {},
   "outputs": [],
   "source": [
    "fruits = [\"apple\", \"banana\", \"cherry\", \"apple\", \"banana\"]"
   ]
  },
  {
   "cell_type": "code",
   "execution_count": null,
   "id": "c5cf42fc",
   "metadata": {},
   "outputs": [],
   "source": []
  },
  {
   "cell_type": "markdown",
   "id": "242ea4c4",
   "metadata": {},
   "source": [
    "#### 4. Find the intersection of two given sets."
   ]
  },
  {
   "cell_type": "code",
   "execution_count": 4,
   "id": "b9bbeed2",
   "metadata": {},
   "outputs": [],
   "source": [
    "set1 = {1, 2, 3, 4, 5}\n",
    "set2 = {4, 5, 6, 7, 8}"
   ]
  },
  {
   "cell_type": "code",
   "execution_count": null,
   "id": "ce2e1eb0",
   "metadata": {},
   "outputs": [],
   "source": []
  },
  {
   "cell_type": "markdown",
   "id": "fac36217",
   "metadata": {},
   "source": [
    "#### 5. Find the union of two given sets."
   ]
  },
  {
   "cell_type": "code",
   "execution_count": 5,
   "id": "01690986",
   "metadata": {},
   "outputs": [],
   "source": [
    "set1 = {1, 2, 3, 4, 5}\n",
    "set2 = {4, 5, 6, 7, 8}"
   ]
  },
  {
   "cell_type": "code",
   "execution_count": null,
   "id": "ffeadb4d",
   "metadata": {},
   "outputs": [],
   "source": []
  },
  {
   "cell_type": "markdown",
   "id": "ebe2d371",
   "metadata": {},
   "source": [
    "#### 6. Find the difference between two given sets."
   ]
  },
  {
   "cell_type": "code",
   "execution_count": 6,
   "id": "0e088eba",
   "metadata": {},
   "outputs": [],
   "source": [
    "set1 = {1, 2, 3, 4, 5}\n",
    "set2 = {4, 5, 6, 7, 8}"
   ]
  },
  {
   "cell_type": "code",
   "execution_count": null,
   "id": "d1fa7057",
   "metadata": {},
   "outputs": [],
   "source": []
  },
  {
   "cell_type": "markdown",
   "id": "5fde0a5a",
   "metadata": {},
   "source": [
    "#### 7. Check if the given element exists in the tuple."
   ]
  },
  {
   "cell_type": "code",
   "execution_count": 7,
   "id": "e986c987",
   "metadata": {},
   "outputs": [],
   "source": [
    "fruits_tuple = (\"apple\", \"banana\", \"cherry\")\n",
    "element = \"apple\""
   ]
  },
  {
   "cell_type": "code",
   "execution_count": null,
   "id": "26a3ef42",
   "metadata": {},
   "outputs": [],
   "source": []
  },
  {
   "cell_type": "markdown",
   "id": "95e0eaba",
   "metadata": {},
   "source": [
    "#### 8. Add an element to the given set."
   ]
  },
  {
   "cell_type": "code",
   "execution_count": 9,
   "id": "8bfe3a9d",
   "metadata": {},
   "outputs": [],
   "source": [
    "fruits_set = {\"apple\", \"banana\", \"cherry\"}\n",
    "element = \"orange\""
   ]
  },
  {
   "cell_type": "code",
   "execution_count": null,
   "id": "62a2478e",
   "metadata": {},
   "outputs": [],
   "source": []
  },
  {
   "cell_type": "markdown",
   "id": "4ba947b6",
   "metadata": {},
   "source": [
    "#### 9. Remove an element from the given set."
   ]
  },
  {
   "cell_type": "code",
   "execution_count": 10,
   "id": "fd6ce904",
   "metadata": {},
   "outputs": [],
   "source": [
    "fruits_set = {\"apple\", \"banana\", \"cherry\"}\n",
    "element = \"banana\""
   ]
  },
  {
   "cell_type": "code",
   "execution_count": null,
   "id": "a4921606",
   "metadata": {},
   "outputs": [],
   "source": []
  },
  {
   "cell_type": "markdown",
   "id": "a725e44f",
   "metadata": {},
   "source": [
    "#### 10. Find the length of the given tuple."
   ]
  },
  {
   "cell_type": "code",
   "execution_count": 11,
   "id": "0d841ea0",
   "metadata": {},
   "outputs": [],
   "source": [
    "fruits_tuple = (\"apple\", \"banana\", \"cherry\")"
   ]
  },
  {
   "cell_type": "code",
   "execution_count": null,
   "id": "1d91e6df",
   "metadata": {},
   "outputs": [],
   "source": []
  },
  {
   "cell_type": "markdown",
   "id": "44af1d20",
   "metadata": {},
   "source": [
    "#### 11. Find the index of the given element in the tuple."
   ]
  },
  {
   "cell_type": "code",
   "execution_count": 12,
   "id": "708ce0db",
   "metadata": {},
   "outputs": [],
   "source": [
    "fruits_tuple = (\"apple\", \"banana\", \"cherry\")\n",
    "element = \"banana\""
   ]
  },
  {
   "cell_type": "code",
   "execution_count": null,
   "id": "1a74309e",
   "metadata": {},
   "outputs": [],
   "source": []
  },
  {
   "cell_type": "markdown",
   "id": "d9b857e5",
   "metadata": {},
   "source": [
    "#### 12. Find the count of the given element in the tuple."
   ]
  },
  {
   "cell_type": "code",
   "execution_count": 13,
   "id": "366221d0",
   "metadata": {},
   "outputs": [],
   "source": [
    "fruits_tuple = (\"apple\", \"banana\", \"cherry\", \"banana\")\n",
    "element = \"banana\""
   ]
  }
 ],
 "metadata": {
  "kernelspec": {
   "display_name": "Python 3 (ipykernel)",
   "language": "python",
   "name": "python3"
  },
  "language_info": {
   "codemirror_mode": {
    "name": "ipython",
    "version": 3
   },
   "file_extension": ".py",
   "mimetype": "text/x-python",
   "name": "python",
   "nbconvert_exporter": "python",
   "pygments_lexer": "ipython3",
   "version": "3.8.13"
  }
 },
 "nbformat": 4,
 "nbformat_minor": 5
}
