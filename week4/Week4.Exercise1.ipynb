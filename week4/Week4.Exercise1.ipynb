{
 "cells": [
  {
   "cell_type": "markdown",
   "id": "0ef965d9-4073-4391-b5dd-92bd7eadc719",
   "metadata": {},
   "source": [
    "#### 1. Convert the given list to a tuple."
   ]
  },
  {
   "cell_type": "code",
   "execution_count": 1,
   "id": "64cca006-4333-403f-a584-64dc2fcef75e",
   "metadata": {},
   "outputs": [],
   "source": [
    "fruits = [\"apple\", \"banana\", \"cherry\"]"
   ]
  },
  {
   "cell_type": "code",
   "execution_count": null,
   "id": "2c3a1480-64cf-41db-aeb0-f1da7fa28703",
   "metadata": {},
   "outputs": [],
   "source": []
  },
  {
   "cell_type": "markdown",
   "id": "834dca7e-20b3-4e8f-8f1c-6449f9d69b5c",
   "metadata": {},
   "source": [
    "#### 2. Convert the given tuple to a list."
   ]
  },
  {
   "cell_type": "code",
   "execution_count": 2,
   "id": "24b0f313-8326-4093-8f80-efe0528e3316",
   "metadata": {},
   "outputs": [],
   "source": [
    "fruits_tuple = (\"apple\", \"banana\", \"cherry\")"
   ]
  },
  {
   "cell_type": "code",
   "execution_count": null,
   "id": "a5476fa1-9e73-40cb-aa6b-0ac1c8dd181e",
   "metadata": {},
   "outputs": [],
   "source": []
  },
  {
   "cell_type": "markdown",
   "id": "eac3d296-01c8-47be-9e2f-a4cfdcb30547",
   "metadata": {},
   "source": [
    "#### 3. Convert the given list to a set."
   ]
  },
  {
   "cell_type": "code",
   "execution_count": 3,
   "id": "ab5ee664-b4fa-46bd-b4c8-072aa70e52a9",
   "metadata": {},
   "outputs": [],
   "source": [
    "fruits = [\"apple\", \"banana\", \"cherry\", \"apple\", \"banana\"]"
   ]
  },
  {
   "cell_type": "code",
   "execution_count": null,
   "id": "0dfb7aac-a72a-4784-96e0-f1be04a3fe03",
   "metadata": {},
   "outputs": [],
   "source": []
  },
  {
   "cell_type": "markdown",
   "id": "d4b6bf73-726c-43dd-bd31-bba5bc9373e4",
   "metadata": {},
   "source": [
    "#### 4. Find the intersection of two given sets."
   ]
  },
  {
   "cell_type": "code",
   "execution_count": 4,
   "id": "c25dca91-365e-493f-b7c0-7bc6ddb8cfae",
   "metadata": {},
   "outputs": [],
   "source": [
    "set1 = {1, 2, 3, 4, 5}\n",
    "set2 = {4, 5, 6, 7, 8}"
   ]
  },
  {
   "cell_type": "code",
   "execution_count": null,
   "id": "2bc80d71-7c8e-4eb1-9b67-22c3f7debf42",
   "metadata": {},
   "outputs": [],
   "source": []
  },
  {
   "cell_type": "markdown",
   "id": "ce5c7dd9-898a-4010-836a-2c1b20984899",
   "metadata": {},
   "source": [
    "#### 5. Find the union of two given sets."
   ]
  },
  {
   "cell_type": "code",
   "execution_count": 5,
   "id": "6960a57f-01ff-4e5f-925c-d4aaff8be183",
   "metadata": {},
   "outputs": [],
   "source": [
    "set1 = {1, 2, 3, 4, 5}\n",
    "set2 = {4, 5, 6, 7, 8}"
   ]
  },
  {
   "cell_type": "code",
   "execution_count": null,
   "id": "6519ff83-b9f3-4c6b-9cb1-a442440d8d36",
   "metadata": {},
   "outputs": [],
   "source": []
  },
  {
   "cell_type": "markdown",
   "id": "329d3dca-b6df-4ab0-a81b-4339a6aa6dfb",
   "metadata": {},
   "source": [
    "#### 6. Find the difference between two given sets."
   ]
  },
  {
   "cell_type": "code",
   "execution_count": 6,
   "id": "17a35512-392b-478c-8fc6-524c6f1a3242",
   "metadata": {},
   "outputs": [],
   "source": [
    "set1 = {1, 2, 3, 4, 5}\n",
    "set2 = {4, 5, 6, 7, 8}"
   ]
  },
  {
   "cell_type": "code",
   "execution_count": null,
   "id": "f69d863d-496d-4c09-93b8-269b0058d9cb",
   "metadata": {},
   "outputs": [],
   "source": []
  },
  {
   "cell_type": "markdown",
   "id": "bac1d74b-20b4-4bf3-a59e-d1a5a4173c49",
   "metadata": {},
   "source": [
    "#### 7. Check if the given element exists in the tuple."
   ]
  },
  {
   "cell_type": "code",
   "execution_count": 7,
   "id": "e091c070-3618-47db-810a-27e57ea3385d",
   "metadata": {},
   "outputs": [],
   "source": [
    "fruits_tuple = (\"apple\", \"banana\", \"cherry\")\n",
    "element = \"apple\""
   ]
  },
  {
   "cell_type": "code",
   "execution_count": null,
   "id": "cb25e977-ef01-4204-922c-2c6a4e67cf59",
   "metadata": {},
   "outputs": [],
   "source": []
  },
  {
   "cell_type": "markdown",
   "id": "7e0499cd-8f8c-4ce1-9cb6-4a078b1c738b",
   "metadata": {},
   "source": [
    "#### 8. Add an element to the given set."
   ]
  },
  {
   "cell_type": "code",
   "execution_count": 9,
   "id": "b69ae816-3b5f-48a4-8e07-6548340a3b5a",
   "metadata": {},
   "outputs": [],
   "source": [
    "fruits_set = {\"apple\", \"banana\", \"cherry\"}\n",
    "element = \"orange\""
   ]
  },
  {
   "cell_type": "code",
   "execution_count": null,
   "id": "d3add007-2554-4a4f-8585-18a759377ca7",
   "metadata": {},
   "outputs": [],
   "source": []
  },
  {
   "cell_type": "markdown",
   "id": "8c10a02e-5d39-4eeb-be96-21cee6d476f8",
   "metadata": {},
   "source": [
    "#### 9. Remove an element from the given set."
   ]
  },
  {
   "cell_type": "code",
   "execution_count": 10,
   "id": "658742fa-224f-4ed8-94e5-c908c030cf44",
   "metadata": {},
   "outputs": [],
   "source": [
    "fruits_set = {\"apple\", \"banana\", \"cherry\"}\n",
    "element = \"banana\""
   ]
  },
  {
   "cell_type": "code",
   "execution_count": null,
   "id": "afa12284-0814-4982-9507-9e81c99ff184",
   "metadata": {},
   "outputs": [],
   "source": []
  },
  {
   "cell_type": "markdown",
   "id": "d0e7e848-9bda-46d5-94f8-667eb57db35b",
   "metadata": {},
   "source": [
    "#### 10. Find the length of the given tuple."
   ]
  },
  {
   "cell_type": "code",
   "execution_count": 11,
   "id": "fbfafef3-9511-4901-b71d-9a989a2a2622",
   "metadata": {},
   "outputs": [],
   "source": [
    "fruits_tuple = (\"apple\", \"banana\", \"cherry\")"
   ]
  },
  {
   "cell_type": "code",
   "execution_count": null,
   "id": "db5e3e2c-f9c9-4656-8dd4-12e4af932593",
   "metadata": {},
   "outputs": [],
   "source": []
  },
  {
   "cell_type": "markdown",
   "id": "0f0bd48c-e28e-47b5-865d-482573c8a8a5",
   "metadata": {},
   "source": [
    "#### 11. Find the index of the given element in the tuple."
   ]
  },
  {
   "cell_type": "code",
   "execution_count": 12,
   "id": "76386a6f-d720-48ca-8d19-790e0bcd3615",
   "metadata": {},
   "outputs": [],
   "source": [
    "fruits_tuple = (\"apple\", \"banana\", \"cherry\")\n",
    "element = \"banana\""
   ]
  },
  {
   "cell_type": "code",
   "execution_count": null,
   "id": "5d1ada20-ae50-4c62-bf45-2024814b1300",
   "metadata": {},
   "outputs": [],
   "source": []
  },
  {
   "cell_type": "markdown",
   "id": "5bf5aaf8-e536-4cf5-aa57-989fa5ed9d17",
   "metadata": {},
   "source": [
    "#### 12. Find the count of the given element in the tuple."
   ]
  },
  {
   "cell_type": "code",
   "execution_count": 13,
   "id": "49b316ec-0d19-470c-9699-c9f95c56cc11",
   "metadata": {},
   "outputs": [],
   "source": [
    "fruits_tuple = (\"apple\", \"banana\", \"cherry\", \"banana\")\n",
    "element = \"banana\""
   ]
  }
 ],
 "metadata": {
  "kernelspec": {
   "display_name": "Python 3 (ipykernel)",
   "language": "python",
   "name": "python3"
  },
  "language_info": {
   "codemirror_mode": {
    "name": "ipython",
    "version": 3
   },
   "file_extension": ".py",
   "mimetype": "text/x-python",
   "name": "python",
   "nbconvert_exporter": "python",
   "pygments_lexer": "ipython3",
   "version": "3.8.13"
  }
 },
 "nbformat": 4,
 "nbformat_minor": 5
}
