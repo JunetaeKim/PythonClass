{
 "cells": [
  {
   "cell_type": "markdown",
   "id": "0ef965d9-4073-4391-b5dd-92bd7eadc719",
   "metadata": {},
   "source": [
    "#### 1. Create a list with the following elements: \"apple\", \"banana\", \"cherry\"."
   ]
  },
  {
   "cell_type": "code",
   "execution_count": null,
   "id": "04bd7f16-1889-40fc-96d3-807325db7dc7",
   "metadata": {},
   "outputs": [],
   "source": []
  },
  {
   "cell_type": "markdown",
   "id": "e4748960-b655-4136-8ebf-1d1e1ac6d9fd",
   "metadata": {},
   "source": [
    "#### 2. Create a set with the following elements: \"apple\", \"banana\", \"cherry\"."
   ]
  },
  {
   "cell_type": "code",
   "execution_count": null,
   "id": "8786b1e9-ec24-40ce-951f-b6a7075a1688",
   "metadata": {},
   "outputs": [],
   "source": []
  },
  {
   "cell_type": "markdown",
   "id": "b86cb8e8-243f-4315-9bb9-90ae961f2760",
   "metadata": {},
   "source": [
    "#### 3. Create a dictionary with the following keys and values: \"apple\" - 3, \"banana\" - 5, \"cherry\" - 2."
   ]
  },
  {
   "cell_type": "code",
   "execution_count": null,
   "id": "9155d83b-488e-4d5d-b4c1-9ab6502caf1f",
   "metadata": {},
   "outputs": [],
   "source": []
  },
  {
   "cell_type": "markdown",
   "id": "6b7dc48c-313e-404f-babd-a8bff810fce0",
   "metadata": {},
   "source": [
    "#### 4. Create a tuple with the following elements: \"apple\", \"banana\", \"cherry\"."
   ]
  },
  {
   "cell_type": "code",
   "execution_count": null,
   "id": "8b22448b-4857-4f0a-a215-6dc9e7574829",
   "metadata": {},
   "outputs": [],
   "source": []
  },
  {
   "cell_type": "markdown",
   "id": "cefd920c-7cdd-4856-8976-4e4c34377c5f",
   "metadata": {},
   "source": [
    "#### 5. Access the value for the key \"apple\" in the given dictionary."
   ]
  },
  {
   "cell_type": "code",
   "execution_count": 2,
   "id": "a8b20ae9-a11b-4de0-a6e1-e40d8fe65617",
   "metadata": {},
   "outputs": [],
   "source": [
    "fruits_dict = {\"apple\": 3, \"banana\": 5, \"cherry\": 2}"
   ]
  },
  {
   "cell_type": "code",
   "execution_count": null,
   "id": "b159eae0-7d40-431e-af99-b25a09b1b71a",
   "metadata": {},
   "outputs": [],
   "source": []
  },
  {
   "cell_type": "markdown",
   "id": "0e88064f-5115-4adf-97f9-6550fcb90ad1",
   "metadata": {},
   "source": [
    "#### 6. Update the value for the key \"banana\" in the given dictionary to 10."
   ]
  },
  {
   "cell_type": "code",
   "execution_count": 3,
   "id": "9b382c3a-048e-4c75-bc27-9702d34df6fa",
   "metadata": {},
   "outputs": [],
   "source": [
    "fruits_dict = {\"apple\": 3, \"banana\": 5, \"cherry\": 2}"
   ]
  },
  {
   "cell_type": "code",
   "execution_count": null,
   "id": "acb2e344-b910-46d7-b450-d19d87d5247b",
   "metadata": {},
   "outputs": [],
   "source": []
  },
  {
   "cell_type": "markdown",
   "id": "0c97c534-1456-48c2-9ed8-320ec2c5e99b",
   "metadata": {},
   "source": [
    "#### 7. Remove the \"cherry\" key-value pair from the given dictionary."
   ]
  },
  {
   "cell_type": "code",
   "execution_count": 4,
   "id": "8d79b50b-9f2a-411c-8d29-97fe99d95e5f",
   "metadata": {},
   "outputs": [],
   "source": [
    "fruits_dict = {\"apple\": 3, \"banana\": 5, \"cherry\": 2}"
   ]
  },
  {
   "cell_type": "code",
   "execution_count": null,
   "id": "4750c526-7eb4-41dc-96a8-a69fb70ae0ba",
   "metadata": {},
   "outputs": [],
   "source": []
  },
  {
   "cell_type": "markdown",
   "id": "a3cb007d-268c-4bca-98cb-ab7420348ca4",
   "metadata": {},
   "source": [
    "#### 8. Check if the given element exists in the list."
   ]
  },
  {
   "cell_type": "code",
   "execution_count": 5,
   "id": "10d276c4-f126-480a-aab6-a1fc2acec5f2",
   "metadata": {},
   "outputs": [],
   "source": [
    "fruits_list = [\"apple\", \"banana\", \"cherry\"]\n",
    "element = \"banana\""
   ]
  },
  {
   "cell_type": "code",
   "execution_count": null,
   "id": "f20f6652-cec4-44e8-9980-5112134baa52",
   "metadata": {},
   "outputs": [],
   "source": []
  },
  {
   "cell_type": "markdown",
   "id": "563e76ee-88a4-471e-9f77-627319f97a79",
   "metadata": {},
   "source": [
    "#### 9. Add an element to the given list."
   ]
  },
  {
   "cell_type": "code",
   "execution_count": 6,
   "id": "ed13d14e-182d-40b0-ae4f-a67c3c556b53",
   "metadata": {},
   "outputs": [],
   "source": [
    "fruits_list = [\"apple\", \"banana\", \"cherry\"]\n",
    "element = \"orange\""
   ]
  },
  {
   "cell_type": "code",
   "execution_count": null,
   "id": "54ebb1cd-7f9b-4344-b40e-b140e93df3ff",
   "metadata": {},
   "outputs": [],
   "source": []
  },
  {
   "cell_type": "markdown",
   "id": "34d2b9db-e558-4172-b507-9e9ccce778ef",
   "metadata": {},
   "source": [
    "#### 10.Remove the given element from the list."
   ]
  },
  {
   "cell_type": "code",
   "execution_count": 7,
   "id": "27c0bfeb-8dce-4a61-8011-9d7864120497",
   "metadata": {},
   "outputs": [],
   "source": [
    "fruits_list = [\"apple\", \"banana\", \"cherry\"]\n",
    "element = \"banana\""
   ]
  }
 ],
 "metadata": {
  "kernelspec": {
   "display_name": "Python 3 (ipykernel)",
   "language": "python",
   "name": "python3"
  },
  "language_info": {
   "codemirror_mode": {
    "name": "ipython",
    "version": 3
   },
   "file_extension": ".py",
   "mimetype": "text/x-python",
   "name": "python",
   "nbconvert_exporter": "python",
   "pygments_lexer": "ipython3",
   "version": "3.8.13"
  }
 },
 "nbformat": 4,
 "nbformat_minor": 5
}
