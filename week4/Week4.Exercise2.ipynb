{
 "cells": [
  {
   "cell_type": "markdown",
   "id": "ab55dad6",
   "metadata": {},
   "source": [
    "#### https://colab.research.google.com/github/JunetaeKim/PythonClass/blob/main/week4/Week4.Exercise2.ipynb"
   ]
  },
  {
   "cell_type": "markdown",
   "id": "05346da9",
   "metadata": {},
   "source": [
    "#### 1. Create a list with the following elements: \"apple\", \"banana\", \"cherry\"."
   ]
  },
  {
   "cell_type": "code",
   "execution_count": null,
   "id": "85c86eb1",
   "metadata": {},
   "outputs": [],
   "source": []
  },
  {
   "cell_type": "markdown",
   "id": "187665df",
   "metadata": {},
   "source": [
    "#### 2. Create a set with the following elements: \"apple\", \"banana\", \"cherry\"."
   ]
  },
  {
   "cell_type": "code",
   "execution_count": null,
   "id": "144b9c69",
   "metadata": {},
   "outputs": [],
   "source": []
  },
  {
   "cell_type": "markdown",
   "id": "99a7e4ec",
   "metadata": {},
   "source": [
    "#### 3. Create a dictionary with the following keys and values: \"apple\" - 3, \"banana\" - 5, \"cherry\" - 2."
   ]
  },
  {
   "cell_type": "code",
   "execution_count": null,
   "id": "4f98d30a",
   "metadata": {},
   "outputs": [],
   "source": []
  },
  {
   "cell_type": "markdown",
   "id": "3f6d481a",
   "metadata": {},
   "source": [
    "#### 4. Create a tuple with the following elements: \"apple\", \"banana\", \"cherry\"."
   ]
  },
  {
   "cell_type": "code",
   "execution_count": null,
   "id": "3972a82c",
   "metadata": {},
   "outputs": [],
   "source": []
  },
  {
   "cell_type": "markdown",
   "id": "db371e8f",
   "metadata": {},
   "source": [
    "#### 5. Access the value for the key \"apple\" in the given dictionary."
   ]
  },
  {
   "cell_type": "code",
   "execution_count": 2,
   "id": "1ee6f56b",
   "metadata": {},
   "outputs": [],
   "source": [
    "fruits_dict = {\"apple\": 3, \"banana\": 5, \"cherry\": 2}"
   ]
  },
  {
   "cell_type": "code",
   "execution_count": null,
   "id": "cab6a913",
   "metadata": {},
   "outputs": [],
   "source": []
  },
  {
   "cell_type": "markdown",
   "id": "f6f2efa3",
   "metadata": {},
   "source": [
    "#### 6. Update the value for the key \"banana\" in the given dictionary to 10."
   ]
  },
  {
   "cell_type": "code",
   "execution_count": 3,
   "id": "1528e0aa",
   "metadata": {},
   "outputs": [],
   "source": [
    "fruits_dict = {\"apple\": 3, \"banana\": 5, \"cherry\": 2}"
   ]
  },
  {
   "cell_type": "code",
   "execution_count": null,
   "id": "d4d88ec3",
   "metadata": {},
   "outputs": [],
   "source": []
  },
  {
   "cell_type": "markdown",
   "id": "b9bdeeb5",
   "metadata": {},
   "source": [
    "#### 7. Remove the \"cherry\" key-value pair from the given dictionary."
   ]
  },
  {
   "cell_type": "code",
   "execution_count": 4,
   "id": "d86c8213",
   "metadata": {},
   "outputs": [],
   "source": [
    "fruits_dict = {\"apple\": 3, \"banana\": 5, \"cherry\": 2}"
   ]
  },
  {
   "cell_type": "code",
   "execution_count": null,
   "id": "aa1e5b64",
   "metadata": {},
   "outputs": [],
   "source": []
  },
  {
   "cell_type": "markdown",
   "id": "11e06547",
   "metadata": {},
   "source": [
    "#### 8. Check if the given element exists in the list."
   ]
  },
  {
   "cell_type": "code",
   "execution_count": 5,
   "id": "13e879e3",
   "metadata": {},
   "outputs": [],
   "source": [
    "fruits_list = [\"apple\", \"banana\", \"cherry\"]\n",
    "element = \"banana\""
   ]
  },
  {
   "cell_type": "code",
   "execution_count": null,
   "id": "2ace025d",
   "metadata": {},
   "outputs": [],
   "source": []
  },
  {
   "cell_type": "markdown",
   "id": "90db96f2",
   "metadata": {},
   "source": [
    "#### 9. Add an element to the given list."
   ]
  },
  {
   "cell_type": "code",
   "execution_count": 6,
   "id": "58ba0122",
   "metadata": {},
   "outputs": [],
   "source": [
    "fruits_list = [\"apple\", \"banana\", \"cherry\"]\n",
    "element = \"orange\""
   ]
  },
  {
   "cell_type": "code",
   "execution_count": null,
   "id": "a726628d",
   "metadata": {},
   "outputs": [],
   "source": []
  },
  {
   "cell_type": "markdown",
   "id": "79eefce2",
   "metadata": {},
   "source": [
    "#### 10.Remove the given element from the list."
   ]
  },
  {
   "cell_type": "code",
   "execution_count": 7,
   "id": "39b51bce",
   "metadata": {},
   "outputs": [],
   "source": [
    "fruits_list = [\"apple\", \"banana\", \"cherry\"]\n",
    "element = \"banana\""
   ]
  }
 ],
 "metadata": {
  "kernelspec": {
   "display_name": "Python 3 (ipykernel)",
   "language": "python",
   "name": "python3"
  },
  "language_info": {
   "codemirror_mode": {
    "name": "ipython",
    "version": 3
   },
   "file_extension": ".py",
   "mimetype": "text/x-python",
   "name": "python",
   "nbconvert_exporter": "python",
   "pygments_lexer": "ipython3",
   "version": "3.8.13"
  }
 },
 "nbformat": 4,
 "nbformat_minor": 5
}
