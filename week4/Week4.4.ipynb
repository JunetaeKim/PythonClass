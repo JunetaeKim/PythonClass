{
 "cells": [
  {
   "cell_type": "markdown",
   "id": "5645766f",
   "metadata": {
    "tags": []
   },
   "source": [
    "## Objective: Understand the differences between Python's list, set, dictionary, and tuple data structures, and when to use each <br>\n",
    "https://colab.research.google.com/github/JunetaeKim/PythonClass/blob/main/week4/Week4.4.ipynb\n",
    "### Outline:\n",
    "\n",
    "#### ① Lists\n",
    "#### ② Tuples\n",
    "#### ③ Sets\n",
    "#### ④ Dictionaries\n",
    "#### ⑤ Comparing Python Data Structures\n",
    "#### ⑥ Example: Working with Different Data Structures"
   ]
  },
  {
   "cell_type": "code",
   "execution_count": null,
   "id": "78fdd9d6",
   "metadata": {},
   "outputs": [],
   "source": []
  },
  {
   "cell_type": "markdown",
   "id": "55dadb64",
   "metadata": {
    "tags": []
   },
   "source": [
    "### 1. Lists\n",
    "#### Lists are ordered collections of elements, which can be of different data types.\n",
    "#### Elements in a list can be modified (mutable).\n",
    "#### Lists allow duplicate elements.\n",
    "#### Lists are created using square brackets []."
   ]
  },
  {
   "cell_type": "code",
   "execution_count": 1,
   "id": "80a38d00",
   "metadata": {},
   "outputs": [],
   "source": [
    "fruits = [\"apple\", \"banana\", \"orange\", \"apple\"]\n",
    "fruits.append(\"grape\")\n",
    "fruits[0] = \"mango\""
   ]
  },
  {
   "cell_type": "code",
   "execution_count": null,
   "id": "b4d6e286",
   "metadata": {},
   "outputs": [],
   "source": []
  },
  {
   "cell_type": "markdown",
   "id": "888f1d6c",
   "metadata": {
    "tags": []
   },
   "source": [
    "### 2. Tuples\n",
    "#### Tuples are ordered collections of elements, which can be of different data types.\n",
    "#### Elements in a tuple cannot be modified (immutable).\n",
    "#### Tuples allow duplicate elements.\n",
    "#### Tuples are created using parentheses () or the tuple() constructor."
   ]
  },
  {
   "cell_type": "code",
   "execution_count": 1,
   "id": "632f6c43",
   "metadata": {},
   "outputs": [],
   "source": [
    "colors = (\"red\", \"green\", \"blue\", \"red\")\n",
    "# colors[0] = \"yellow\"  # This would raise an error"
   ]
  },
  {
   "cell_type": "code",
   "execution_count": null,
   "id": "77355c65",
   "metadata": {},
   "outputs": [],
   "source": []
  },
  {
   "cell_type": "markdown",
   "id": "dedfe7bd",
   "metadata": {},
   "source": [
    "### 3. Sets\n",
    "#### Sets are unordered collections of unique elements.\n",
    "#### Elements in a set cannot be modified (mutable).\n",
    "#### Sets do not allow duplicate elements.\n",
    "#### Sets are created using curly braces {} or the set() constructor."
   ]
  },
  {
   "cell_type": "code",
   "execution_count": 2,
   "id": "76a92814",
   "metadata": {},
   "outputs": [],
   "source": [
    "unique_numbers = {1, 2, 3, 4, 2, 3}\n",
    "unique_numbers.add(5)\n",
    "unique_numbers.remove(1)"
   ]
  },
  {
   "cell_type": "code",
   "execution_count": null,
   "id": "be83bb7e",
   "metadata": {},
   "outputs": [],
   "source": []
  },
  {
   "cell_type": "markdown",
   "id": "4f6edc32",
   "metadata": {},
   "source": [
    "### 4. Dictionaries\n",
    "#### Dictionaries are collections of key-value pairs, where each key is unique.\n",
    "#### Elements in a dictionary can be modified (mutable).\n",
    "#### Dictionaries are created using curly braces {} with keys and values separated by colons, or the dict() constructor."
   ]
  },
  {
   "cell_type": "code",
   "execution_count": 4,
   "id": "ed6004c5",
   "metadata": {},
   "outputs": [],
   "source": [
    "person = {\"name\": \"John\", \"age\": 30, \"city\": \"New York\"}\n",
    "person[\"country\"] = \"USA\"\n",
    "person[\"age\"] = 31"
   ]
  },
  {
   "cell_type": "code",
   "execution_count": null,
   "id": "8f94fd7e",
   "metadata": {},
   "outputs": [],
   "source": []
  },
  {
   "cell_type": "markdown",
   "id": "d78f663b",
   "metadata": {},
   "source": [
    "### 5. Comparing Python Data Structures\n",
    "#### Lists and tuples are both ordered and allow duplicates, but lists are mutable while tuples are immutable.\n",
    "#### Sets are unordered and do not allow duplicates, while dictionaries store key-value pairs with unique keys.\n",
    "#### Choose a data structure based on your requirements, such as whether you need to modify the elements, have unique elements, or store key-value pairs."
   ]
  },
  {
   "cell_type": "code",
   "execution_count": 5,
   "id": "e9b15037",
   "metadata": {},
   "outputs": [
    {
     "name": "stdout",
     "output_type": "stream",
     "text": [
      "Original List:  [1, 2, 2, 3, 4]\n",
      "Modified List:  [5, 2, 2, 3, 4]\n"
     ]
    }
   ],
   "source": [
    "# Lists are mutable and can contain duplicates\n",
    "list_example = [1, 2, 2, 3, 4]\n",
    "print(\"Original List: \", list_example)\n",
    "\n",
    "# Modify an element\n",
    "list_example[0] = 5\n",
    "print(\"Modified List: \", list_example)"
   ]
  },
  {
   "cell_type": "code",
   "execution_count": 6,
   "id": "365f6acf-aba1-4439-a545-c4fe55df1a48",
   "metadata": {},
   "outputs": [
    {
     "name": "stdout",
     "output_type": "stream",
     "text": [
      "Original Tuple:  (1, 2, 2, 3, 4)\n",
      "Cannot modify a tuple!\n"
     ]
    }
   ],
   "source": [
    "tuple_example = (1, 2, 2, 3, 4)\n",
    "print(\"Original Tuple: \", tuple_example)\n",
    "\n",
    "# Trying to modify an element raises an error\n",
    "try:\n",
    "    tuple_example[0] = 5\n",
    "except TypeError:\n",
    "    print(\"Cannot modify a tuple!\")"
   ]
  },
  {
   "cell_type": "code",
   "execution_count": 7,
   "id": "984ccacf-147f-4be5-a0f3-55c9b0d127f2",
   "metadata": {},
   "outputs": [
    {
     "name": "stdout",
     "output_type": "stream",
     "text": [
      "Set:  {1, 2, 3, 4}\n",
      "Set after adding a duplicate:  {1, 2, 3, 4}\n"
     ]
    }
   ],
   "source": [
    "# Sets are unordered and do not allow duplicates\n",
    "set_example = {1, 2, 2, 3, 4}\n",
    "print(\"Set: \", set_example)\n",
    "\n",
    "# Adding a duplicate item has no effect\n",
    "set_example.add(2)\n",
    "print(\"Set after adding a duplicate: \", set_example)"
   ]
  },
  {
   "cell_type": "code",
   "execution_count": 9,
   "id": "a928a44d-8b18-4ac4-809f-b6498a90c947",
   "metadata": {},
   "outputs": [
    {
     "name": "stdout",
     "output_type": "stream",
     "text": [
      "Original Dictionary:  {'apple': 1, 'banana': 2, 'cherry': 3}\n",
      "Modified Dictionary:  {'apple': 5, 'banana': 2, 'cherry': 3}\n",
      "Key not found in dictionary!\n"
     ]
    }
   ],
   "source": [
    "# Dictionaries store key-value pairs with unique keys\n",
    "dict_example = {\"apple\": 1, \"banana\": 2, \"cherry\": 3}\n",
    "print(\"Original Dictionary: \", dict_example)\n",
    "\n",
    "# Modify the value of a key\n",
    "dict_example[\"apple\"] = 5\n",
    "print(\"Modified Dictionary: \", dict_example)\n",
    "\n",
    "# Trying to access a non-existent key raises an error\n",
    "try:\n",
    "    print(dict_example[\"orange\"])\n",
    "except KeyError:\n",
    "    print(\"Key not found in dictionary!\")"
   ]
  },
  {
   "cell_type": "code",
   "execution_count": null,
   "id": "58bcdefa-ee85-4cab-9a98-45ef23fc7eb9",
   "metadata": {},
   "outputs": [],
   "source": []
  },
  {
   "cell_type": "markdown",
   "id": "b3f153a5",
   "metadata": {},
   "source": [
    "### To summarize:\n",
    "#### Use lists when you need an ordered, mutable collection that allows duplicates.\n",
    "#### Use tuples when you need an ordered, immutable collection that allows duplicates.\n",
    "#### Use sets when you need an unordered collection of unique elements.\n",
    "#### Use dictionaries when you need a collection of unique keys and their associated values.\n",
    "#### By understanding the differences between these data structures, you can make informed decisions about which one to use in your Python programs, improving their efficiency and readability."
   ]
  },
  {
   "cell_type": "code",
   "execution_count": null,
   "id": "1bbc78ef",
   "metadata": {},
   "outputs": [],
   "source": []
  }
 ],
 "metadata": {
  "kernelspec": {
   "display_name": "Python 3 (ipykernel)",
   "language": "python",
   "name": "python3"
  },
  "language_info": {
   "codemirror_mode": {
    "name": "ipython",
    "version": 3
   },
   "file_extension": ".py",
   "mimetype": "text/x-python",
   "name": "python",
   "nbconvert_exporter": "python",
   "pygments_lexer": "ipython3",
   "version": "3.8.5"
  }
 },
 "nbformat": 4,
 "nbformat_minor": 5
}
