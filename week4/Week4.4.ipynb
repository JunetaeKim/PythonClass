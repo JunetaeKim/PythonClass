{
 "cells": [
  {
   "cell_type": "markdown",
   "id": "1360ca20-de0b-4126-82a7-83af81fe1d39",
   "metadata": {
    "tags": []
   },
   "source": [
    "## Objective: Objective: Understand the differences between Python's list, set, dictionary, and tuple data structures, and when to use each <br>\n",
    "\n",
    "### Outline:\n",
    "\n",
    "#### ① Lists\n",
    "#### ② Tuples\n",
    "#### ③ Sets\n",
    "#### ④ Dictionaries\n",
    "#### ⑤ Comparing Python Data Structures\n",
    "#### ⑥ Example: Working with Different Data Structures"
   ]
  },
  {
   "cell_type": "code",
   "execution_count": null,
   "id": "eeb26c6a-9d7e-430d-ba69-5eb1a0993b57",
   "metadata": {},
   "outputs": [],
   "source": []
  },
  {
   "cell_type": "markdown",
   "id": "ded11eb9-aca1-430e-9c44-8ca9d5e4a72e",
   "metadata": {
    "tags": []
   },
   "source": [
    "### 1. Lists\n",
    "#### Lists are ordered collections of elements, which can be of different data types.\n",
    "#### Elements in a list can be modified (mutable).\n",
    "#### Lists allow duplicate elements.\n",
    "#### Lists are created using square brackets []."
   ]
  },
  {
   "cell_type": "code",
   "execution_count": 1,
   "id": "87fdba98-36dd-4ccf-bd8a-ed3d7dc83d9a",
   "metadata": {},
   "outputs": [],
   "source": [
    "fruits = [\"apple\", \"banana\", \"orange\", \"apple\"]\n",
    "fruits.append(\"grape\")\n",
    "fruits[0] = \"mango\""
   ]
  },
  {
   "cell_type": "code",
   "execution_count": null,
   "id": "e5660a93-9bb2-47c0-aabd-1632f8876454",
   "metadata": {},
   "outputs": [],
   "source": []
  },
  {
   "cell_type": "markdown",
   "id": "b0a6f1d5-0e30-4fe5-beb0-0b1a86241c6f",
   "metadata": {
    "tags": []
   },
   "source": [
    "### 2. Tuples\n",
    "#### Tuples are ordered collections of elements, which can be of different data types.\n",
    "#### Elements in a tuple cannot be modified (immutable).\n",
    "#### Tuples allow duplicate elements.\n",
    "#### Tuples are created using parentheses () or the tuple() constructor."
   ]
  },
  {
   "cell_type": "code",
   "execution_count": 2,
   "id": "20fb33ed-40fd-4b59-920b-7389c94811ec",
   "metadata": {},
   "outputs": [],
   "source": [
    "colors = (\"red\", \"green\", \"blue\", \"red\")\n",
    "# colors[0] = \"yellow\"  # This would raise an error"
   ]
  },
  {
   "cell_type": "code",
   "execution_count": null,
   "id": "15c0b478-6f23-4c53-9b0b-0daacd56e303",
   "metadata": {},
   "outputs": [],
   "source": []
  },
  {
   "cell_type": "markdown",
   "id": "44a0d9dd-0acd-4a94-bf7f-aba84b90ae60",
   "metadata": {},
   "source": [
    "### 3. Sets\n",
    "#### Sets are unordered collections of unique elements.\n",
    "#### Elements in a set can be modified (mutable).\n",
    "#### Sets do not allow duplicate elements.\n",
    "#### Sets are created using curly braces {} or the set() constructor."
   ]
  },
  {
   "cell_type": "code",
   "execution_count": 3,
   "id": "ed292dad-afd7-41ac-a599-9f1ce1819b87",
   "metadata": {},
   "outputs": [],
   "source": [
    "unique_numbers = {1, 2, 3, 4, 2, 3}\n",
    "unique_numbers.add(5)\n",
    "unique_numbers.remove(1)"
   ]
  },
  {
   "cell_type": "code",
   "execution_count": null,
   "id": "fe378391-c13a-4446-9bcb-f31487bc2f5a",
   "metadata": {},
   "outputs": [],
   "source": []
  },
  {
   "cell_type": "markdown",
   "id": "844c935f-5cde-4abf-9046-87f379a20b97",
   "metadata": {},
   "source": [
    "### 4. Dictionaries\n",
    "#### Dictionaries are collections of key-value pairs, where each key is unique.\n",
    "#### Elements in a dictionary can be modified (mutable).\n",
    "#### Dictionaries are created using curly braces {} with keys and values separated by colons, or the dict() constructor."
   ]
  },
  {
   "cell_type": "code",
   "execution_count": 4,
   "id": "8f976e1c-ac63-4cfd-87fa-859cb36b2256",
   "metadata": {},
   "outputs": [],
   "source": [
    "person = {\"name\": \"John\", \"age\": 30, \"city\": \"New York\"}\n",
    "person[\"country\"] = \"USA\"\n",
    "person[\"age\"] = 31"
   ]
  },
  {
   "cell_type": "code",
   "execution_count": null,
   "id": "d29dded1-b84a-45c5-84ac-be6592488f0f",
   "metadata": {},
   "outputs": [],
   "source": []
  },
  {
   "cell_type": "markdown",
   "id": "cf5609b8-ab38-425e-9908-76ded692c5b3",
   "metadata": {},
   "source": [
    "### 6. Comparing Python Data Structures\n",
    "#### Lists and tuples are both ordered and allow duplicates, but lists are mutable while tuples are immutable.\n",
    "#### Sets are unordered and do not allow duplicates, while dictionaries store key-value pairs with unique keys.\n",
    "#### Choose a data structure based on your requirements, such as whether you need to modify the elements, have unique elements, or store key-value pairs."
   ]
  },
  {
   "cell_type": "code",
   "execution_count": null,
   "id": "03d5a5ff-3c27-4e26-bc5f-0f663107d383",
   "metadata": {},
   "outputs": [],
   "source": []
  },
  {
   "cell_type": "markdown",
   "id": "1d2fd2b7-faeb-422e-9d66-6991a4965963",
   "metadata": {},
   "source": [
    "### 7. Example: Working with Different Data Structures"
   ]
  },
  {
   "cell_type": "code",
   "execution_count": 5,
   "id": "cc195eec-c250-45d7-9b7b-9d6f941774de",
   "metadata": {},
   "outputs": [
    {
     "name": "stdout",
     "output_type": "stream",
     "text": [
      "['Alice', 'Bob', 'Charlie', 'Alice', 'Eve']\n",
      "{'Charlie', 'Bob', 'Alice', 'Eve'}\n",
      "{'Alice': 26, 'Bob': 30, 'Charlie': 22}\n"
     ]
    }
   ],
   "source": [
    "# List\n",
    "names = [\"Alice\", \"Bob\", \"Charlie\", \"Alice\"]\n",
    "names.append(\"Eve\")\n",
    "print(names)  # Output: ['Alice', 'Bob', 'Charlie', 'Alice', 'Eve']\n",
    "\n",
    "# Tuple\n",
    "point = (3, 4)\n",
    "# point[0] = 5  # This would raise an error\n",
    "\n",
    "# Set\n",
    "unique_names = {\"Alice\", \"Bob\", \"Charlie\", \"Alice\"}\n",
    "unique_names.add(\"Eve\")\n",
    "print(unique_names)  # Output: {'Alice', 'Eve', 'Charlie', 'Bob'}\n",
    "\n",
    "# Dictionary\n",
    "ages = {\"Alice\": 25, \"Bob\": 30, \"Charlie\": 22}\n",
    "ages[\"Alice\"] = 26\n",
    "print(ages)  # Output: {'Alice': 26, 'Bob': 30, 'Charlie': 22}"
   ]
  },
  {
   "cell_type": "markdown",
   "id": "9dd35f49-aa59-454a-9c29-a7b8083518c3",
   "metadata": {},
   "source": [
    "#### In this example, we've shown how to work with different Python data structures. \n",
    "#### By understanding the characteristics of lists, tuples, sets, and dictionaries, you can choose the appropriate data structure for your specific needs. <BR>\n",
    "\n",
    "#### To summarize:\n",
    "#### Use lists when you need an ordered, mutable collection that allows duplicates.\n",
    "#### Use tuples when you need an ordered, immutable collection that allows duplicates.\n",
    "#### Use sets when you need an unordered collection of unique elements.\n",
    "#### Use dictionaries when you need a collection of unique keys and their associated values.\n",
    "#### By understanding the differences between these data structures, you can make informed decisions about which one to use in your Python programs, improving their efficiency and readability."
   ]
  },
  {
   "cell_type": "code",
   "execution_count": null,
   "id": "ec1d8c26-64b2-4935-8267-d1a778ea2d57",
   "metadata": {},
   "outputs": [],
   "source": []
  }
 ],
 "metadata": {
  "kernelspec": {
   "display_name": "Python 3 (ipykernel)",
   "language": "python",
   "name": "python3"
  },
  "language_info": {
   "codemirror_mode": {
    "name": "ipython",
    "version": 3
   },
   "file_extension": ".py",
   "mimetype": "text/x-python",
   "name": "python",
   "nbconvert_exporter": "python",
   "pygments_lexer": "ipython3",
   "version": "3.8.13"
  }
 },
 "nbformat": 4,
 "nbformat_minor": 5
}
