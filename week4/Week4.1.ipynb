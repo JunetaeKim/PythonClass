{
 "cells": [
  {
   "cell_type": "markdown",
   "id": "32ba45de",
   "metadata": {},
   "source": [
    "## Objective: Learn to create and manipulate Python tuples <br>\n",
    "https://colab.research.google.com/github/JunetaeKim/PythonClass/blob/main/week4/Week4.1.ipynb\n",
    "\n",
    "### Outline:\n",
    "#### ① Creating a Tuple\n",
    "#### ② Accessing Tuple Elements\n",
    "#### ③ Negative Indexing\n",
    "#### ④ Slicing Tuples\n",
    "#### ⑤ Tuple Immutability\n",
    "#### ⑥ Concatenating Tuples\n",
    "#### ⑦ Finding the Length of a Tuple\n",
    "#### ⑧ Example: Working with Tuples"
   ]
  },
  {
   "cell_type": "code",
   "execution_count": null,
   "id": "e8fe0df3",
   "metadata": {},
   "outputs": [],
   "source": []
  },
  {
   "cell_type": "markdown",
   "id": "d76b7584",
   "metadata": {
    "tags": []
   },
   "source": [
    "### 1. Creating a Tuple\n",
    "#### To create a tuple, use parentheses () and separate the elements with commas. \n",
    "#### Tuples can contain different data types, including strings, integers, and floats."
   ]
  },
  {
   "cell_type": "code",
   "execution_count": 1,
   "id": "25674cf0",
   "metadata": {},
   "outputs": [],
   "source": [
    "fruits = (\"apple\", \"banana\", \"cherry\")\n",
    "numbers = (1, 2, 3, 4, 5)\n",
    "mixed_tuple = (\"apple\", 1, 2.5)"
   ]
  },
  {
   "cell_type": "code",
   "execution_count": null,
   "id": "5277fc56",
   "metadata": {},
   "outputs": [],
   "source": []
  },
  {
   "cell_type": "markdown",
   "id": "20ab05f6",
   "metadata": {
    "tags": []
   },
   "source": [
    "### 2. Accessing Tuple Elements\n",
    "#### You can access tuple elements using their index. Indexing starts at 0."
   ]
  },
  {
   "cell_type": "code",
   "execution_count": 2,
   "id": "0c840a74",
   "metadata": {},
   "outputs": [
    {
     "name": "stdout",
     "output_type": "stream",
     "text": [
      "apple\n",
      "banana\n"
     ]
    }
   ],
   "source": [
    "fruits = (\"apple\", \"banana\", \"cherry\")\n",
    "print(fruits[0])  # Output: apple\n",
    "print(fruits[1])  # Output: banana\n"
   ]
  },
  {
   "cell_type": "code",
   "execution_count": null,
   "id": "6974dd85",
   "metadata": {},
   "outputs": [],
   "source": []
  },
  {
   "cell_type": "markdown",
   "id": "14b8445e",
   "metadata": {
    "tags": []
   },
   "source": [
    "### 3. Negative Indexing\n",
    "#### Negative indexing allows you to access elements from the end of the tuple."
   ]
  },
  {
   "cell_type": "code",
   "execution_count": 4,
   "id": "6745adda",
   "metadata": {},
   "outputs": [
    {
     "name": "stdout",
     "output_type": "stream",
     "text": [
      "cherry\n",
      "banana\n"
     ]
    }
   ],
   "source": [
    "fruits = (\"apple\", \"banana\", \"cherry\")\n",
    "print(fruits[-1])  # Output: cherry\n",
    "print(fruits[-2])  # Output: banana"
   ]
  },
  {
   "cell_type": "code",
   "execution_count": null,
   "id": "cd840f99",
   "metadata": {},
   "outputs": [],
   "source": []
  },
  {
   "cell_type": "markdown",
   "id": "6137f298",
   "metadata": {},
   "source": [
    "### 4. Slicing Tuples\n",
    "#### Slicing allows you to get a portion of a tuple. Use the colon : to indicate the start and end index."
   ]
  },
  {
   "cell_type": "code",
   "execution_count": 5,
   "id": "af78e539",
   "metadata": {},
   "outputs": [],
   "source": [
    "fruits = (\"apple\", \"banana\", \"cherry\", \"orange\", \"grape\")\n",
    "subtuple = fruits[1:4]  # Output: ('banana', 'cherry', 'orange')"
   ]
  },
  {
   "cell_type": "code",
   "execution_count": null,
   "id": "690ab68e",
   "metadata": {},
   "outputs": [],
   "source": []
  },
  {
   "cell_type": "markdown",
   "id": "0bc5caf1",
   "metadata": {},
   "source": [
    "### 5. Tuple Immutability\n",
    "#### Tuples are immutable, which means their elements cannot be modified. \n",
    "#### Attempting to change an element in a tuple will result in an error.ㅡ"
   ]
  },
  {
   "cell_type": "code",
   "execution_count": 6,
   "id": "89a7ede0",
   "metadata": {},
   "outputs": [
    {
     "ename": "TypeError",
     "evalue": "'tuple' object does not support item assignment",
     "output_type": "error",
     "traceback": [
      "\u001b[1;31m---------------------------------------------------------------------------\u001b[0m",
      "\u001b[1;31mTypeError\u001b[0m                                 Traceback (most recent call last)",
      "Input \u001b[1;32mIn [6]\u001b[0m, in \u001b[0;36m<cell line: 2>\u001b[1;34m()\u001b[0m\n\u001b[0;32m      1\u001b[0m fruits \u001b[38;5;241m=\u001b[39m (\u001b[38;5;124m\"\u001b[39m\u001b[38;5;124mapple\u001b[39m\u001b[38;5;124m\"\u001b[39m, \u001b[38;5;124m\"\u001b[39m\u001b[38;5;124mbanana\u001b[39m\u001b[38;5;124m\"\u001b[39m, \u001b[38;5;124m\"\u001b[39m\u001b[38;5;124mcherry\u001b[39m\u001b[38;5;124m\"\u001b[39m)\n\u001b[1;32m----> 2\u001b[0m \u001b[43mfruits\u001b[49m\u001b[43m[\u001b[49m\u001b[38;5;241;43m1\u001b[39;49m\u001b[43m]\u001b[49m \u001b[38;5;241m=\u001b[39m \u001b[38;5;124m\"\u001b[39m\u001b[38;5;124mblueberry\u001b[39m\u001b[38;5;124m\"\u001b[39m\n",
      "\u001b[1;31mTypeError\u001b[0m: 'tuple' object does not support item assignment"
     ]
    }
   ],
   "source": [
    "fruits = (\"apple\", \"banana\", \"cherry\")\n",
    "fruits[1] = \"blueberry\"  # TypeError: 'tuple' object does not support item assignment"
   ]
  },
  {
   "cell_type": "code",
   "execution_count": null,
   "id": "b073c3a4",
   "metadata": {},
   "outputs": [],
   "source": []
  },
  {
   "cell_type": "markdown",
   "id": "943f4075",
   "metadata": {
    "tags": []
   },
   "source": [
    "### 6.Concatenating Tuples\n",
    "#### Use the + operator to combine two tuples."
   ]
  },
  {
   "cell_type": "code",
   "execution_count": 7,
   "id": "c8774ccb",
   "metadata": {},
   "outputs": [
    {
     "name": "stdout",
     "output_type": "stream",
     "text": [
      "(1, 2, 3, 4, 5, 6)\n"
     ]
    }
   ],
   "source": [
    "tuple1 = (1, 2, 3)\n",
    "tuple2 = (4, 5, 6)\n",
    "combined_tuple = tuple1 + tuple2\n",
    "print(combined_tuple)  # Output: (1, 2, 3, 4, 5, 6)"
   ]
  },
  {
   "cell_type": "code",
   "execution_count": null,
   "id": "e982e00d",
   "metadata": {},
   "outputs": [],
   "source": []
  },
  {
   "cell_type": "markdown",
   "id": "6d879082",
   "metadata": {
    "tags": []
   },
   "source": [
    "### 7. Finding the Length of a Tuple\n",
    "#### Use the len() function to find the length of a tuple."
   ]
  },
  {
   "cell_type": "code",
   "execution_count": null,
   "id": "3fe73d28",
   "metadata": {},
   "outputs": [],
   "source": [
    "fruits = (\"apple\", \"banana\", \"cherry\", \"orange\")\n",
    "tuple_length = len(fruits)\n",
    "print(tuple_length)  # Output: 4"
   ]
  },
  {
   "cell_type": "code",
   "execution_count": null,
   "id": "5f9f9026",
   "metadata": {},
   "outputs": [],
   "source": []
  },
  {
   "cell_type": "markdown",
   "id": "f34e7530",
   "metadata": {
    "tags": []
   },
   "source": [
    "### 8. Example: Working with Tuples\n",
    "#### In this example, we'll demonstrate a simple use case of tuples without using functions, for loops, or if statements."
   ]
  },
  {
   "cell_type": "code",
   "execution_count": 8,
   "id": "cc35f98b",
   "metadata": {},
   "outputs": [
    {
     "name": "stdout",
     "output_type": "stream",
     "text": [
      "The first number is 5 and the last number is 7\n",
      "The middle three numbers are (2, 9, 4)\n"
     ]
    }
   ],
   "source": [
    "# Create a tuple of numbers\n",
    "numbers = (5, 2, 9, 4, 7)\n",
    "\n",
    "# Access and print the first and last elements of the tuple\n",
    "first_number = numbers[0]\n",
    "last_number = numbers[-1]\n",
    "\n",
    "print(f\"The first number is {first_number} and the last number is {last_number}\")\n",
    "\n",
    "# Slice the tuple to get a subtuple of the middle three elements\n",
    "middle_three = numbers[1:4]\n",
    "print(f\"The middle three numbers are {middle_three}\")\n",
    "\n",
    "# Attempting to modify the second element of the tuple will result in an error\n",
    "# numbers[1] = 3  # Uncommenting this"
   ]
  },
  {
   "cell_type": "code",
   "execution_count": null,
   "id": "d7d83fe2",
   "metadata": {},
   "outputs": [],
   "source": []
  }
 ],
 "metadata": {
  "kernelspec": {
   "display_name": "Python 3 (ipykernel)",
   "language": "python",
   "name": "python3"
  },
  "language_info": {
   "codemirror_mode": {
    "name": "ipython",
    "version": 3
   },
   "file_extension": ".py",
   "mimetype": "text/x-python",
   "name": "python",
   "nbconvert_exporter": "python",
   "pygments_lexer": "ipython3",
   "version": "3.8.15"
  }
 },
 "nbformat": 4,
 "nbformat_minor": 5
}
