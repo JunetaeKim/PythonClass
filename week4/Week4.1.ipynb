{
 "cells": [
  {
   "cell_type": "markdown",
   "id": "1360ca20-de0b-4126-82a7-83af81fe1d39",
   "metadata": {},
   "source": [
    "## Objective: Learn to create and manipulate Python tuples <br>\n",
    "\n",
    "### Outline:\n",
    "#### ① Creating a Tuple\n",
    "#### ② Accessing Tuple Elements\n",
    "#### ③ Negative Indexing\n",
    "#### ④ Slicing Tuples\n",
    "#### ⑤ Tuple Immutability\n",
    "#### ⑥ Concatenating Tuples\n",
    "#### ⑦ Finding the Length of a Tuple\n",
    "#### ⑧ Example: Working with Tuples"
   ]
  },
  {
   "cell_type": "code",
   "execution_count": null,
   "id": "68cdfb60-7f7b-4806-8707-2588079788e9",
   "metadata": {},
   "outputs": [],
   "source": []
  },
  {
   "cell_type": "markdown",
   "id": "d91a7478-156b-4660-ad95-ecb400a58bf3",
   "metadata": {
    "tags": []
   },
   "source": [
    "### 1. Creating a Tuple\n",
    "#### To create a tuple, use parentheses () and separate the elements with commas. \n",
    "#### Tuples can contain different data types, including strings, integers, and floats."
   ]
  },
  {
   "cell_type": "code",
   "execution_count": 1,
   "id": "2aeaa6aa-6979-4b5d-b44c-c13477970955",
   "metadata": {},
   "outputs": [],
   "source": [
    "fruits = (\"apple\", \"banana\", \"cherry\")\n",
    "numbers = (1, 2, 3, 4, 5)\n",
    "mixed_tuple = (\"apple\", 1, 2.5)"
   ]
  },
  {
   "cell_type": "code",
   "execution_count": null,
   "id": "c429cb3f-5d6e-4fd6-ad0d-c6683343ccc1",
   "metadata": {},
   "outputs": [],
   "source": []
  },
  {
   "cell_type": "markdown",
   "id": "ac5fa30a-19fb-4eb0-aff0-842e8578f425",
   "metadata": {
    "tags": []
   },
   "source": [
    "### 2. Accessing Tuple Elements\n",
    "#### You can access tuple elements using their index. Indexing starts at 0."
   ]
  },
  {
   "cell_type": "code",
   "execution_count": 2,
   "id": "f12dc3de-02b8-47bd-8689-6199ce9a77b8",
   "metadata": {},
   "outputs": [
    {
     "name": "stdout",
     "output_type": "stream",
     "text": [
      "apple\n",
      "banana\n"
     ]
    }
   ],
   "source": [
    "fruits = (\"apple\", \"banana\", \"cherry\")\n",
    "print(fruits[0])  # Output: apple\n",
    "print(fruits[1])  # Output: banana\n"
   ]
  },
  {
   "cell_type": "code",
   "execution_count": 3,
   "id": "50fa222e-d115-47ed-9e7f-6410bdef1bcf",
   "metadata": {},
   "outputs": [],
   "source": [
    "name = \"Alice\"\n",
    "age = 30\n",
    "\n",
    "f_string = f\"My name is {name} and I am {age} years old.\"\n",
    "str_format = \"My name is {} and I am {} years old.\".format(name, age)\n",
    "percent_operator = \"My name is %s and I am %d years old.\" % (name, age)"
   ]
  },
  {
   "cell_type": "code",
   "execution_count": null,
   "id": "d378c58f-290e-4ff8-979e-f8d64e679fb5",
   "metadata": {},
   "outputs": [],
   "source": []
  },
  {
   "cell_type": "markdown",
   "id": "6f72e600-7c23-4c7a-b412-f1430dd04e50",
   "metadata": {
    "tags": []
   },
   "source": [
    "### 3. Negative Indexing\n",
    "#### Negative indexing allows you to access elements from the end of the tuple."
   ]
  },
  {
   "cell_type": "code",
   "execution_count": 4,
   "id": "da954a03-48e7-4544-9727-565430b47ee2",
   "metadata": {},
   "outputs": [
    {
     "name": "stdout",
     "output_type": "stream",
     "text": [
      "cherry\n",
      "banana\n"
     ]
    }
   ],
   "source": [
    "fruits = (\"apple\", \"banana\", \"cherry\")\n",
    "print(fruits[-1])  # Output: cherry\n",
    "print(fruits[-2])  # Output: banana"
   ]
  },
  {
   "cell_type": "code",
   "execution_count": null,
   "id": "0d5fc5c1-13c2-42a5-95f9-1484a6afbcd5",
   "metadata": {},
   "outputs": [],
   "source": []
  },
  {
   "cell_type": "markdown",
   "id": "8d0d0094-bd2e-470a-89bb-e9cf8fa8d2d9",
   "metadata": {},
   "source": [
    "### 4. Slicing Tuples\n",
    "#### Slicing allows you to get a portion of a tuple. Use the colon : to indicate the start and end index."
   ]
  },
  {
   "cell_type": "code",
   "execution_count": 5,
   "id": "447a30f0-fa26-4a3d-bfd7-78aaa22ae876",
   "metadata": {},
   "outputs": [],
   "source": [
    "fruits = (\"apple\", \"banana\", \"cherry\", \"orange\", \"grape\")\n",
    "subtuple = fruits[1:4]  # Output: ('banana', 'cherry', 'orange')"
   ]
  },
  {
   "cell_type": "code",
   "execution_count": null,
   "id": "b8d5cd2a-ed87-4a95-a72b-c883cea89a73",
   "metadata": {},
   "outputs": [],
   "source": []
  },
  {
   "cell_type": "markdown",
   "id": "1778c588-be65-421d-aea6-02927a68a8e2",
   "metadata": {},
   "source": [
    "### 5. Tuple Immutability\n",
    "#### Tuples are immutable, which means their elements cannot be modified. \n",
    "#### Attempting to change an element in a tuple will result in an error.ㅡ"
   ]
  },
  {
   "cell_type": "code",
   "execution_count": 6,
   "id": "1386cac9-6c52-41a5-958c-0c6e34433e67",
   "metadata": {},
   "outputs": [
    {
     "ename": "TypeError",
     "evalue": "'tuple' object does not support item assignment",
     "output_type": "error",
     "traceback": [
      "\u001b[1;31m---------------------------------------------------------------------------\u001b[0m",
      "\u001b[1;31mTypeError\u001b[0m                                 Traceback (most recent call last)",
      "Input \u001b[1;32mIn [6]\u001b[0m, in \u001b[0;36m<cell line: 2>\u001b[1;34m()\u001b[0m\n\u001b[0;32m      1\u001b[0m fruits \u001b[38;5;241m=\u001b[39m (\u001b[38;5;124m\"\u001b[39m\u001b[38;5;124mapple\u001b[39m\u001b[38;5;124m\"\u001b[39m, \u001b[38;5;124m\"\u001b[39m\u001b[38;5;124mbanana\u001b[39m\u001b[38;5;124m\"\u001b[39m, \u001b[38;5;124m\"\u001b[39m\u001b[38;5;124mcherry\u001b[39m\u001b[38;5;124m\"\u001b[39m)\n\u001b[1;32m----> 2\u001b[0m \u001b[43mfruits\u001b[49m\u001b[43m[\u001b[49m\u001b[38;5;241;43m1\u001b[39;49m\u001b[43m]\u001b[49m \u001b[38;5;241m=\u001b[39m \u001b[38;5;124m\"\u001b[39m\u001b[38;5;124mblueberry\u001b[39m\u001b[38;5;124m\"\u001b[39m\n",
      "\u001b[1;31mTypeError\u001b[0m: 'tuple' object does not support item assignment"
     ]
    }
   ],
   "source": [
    "fruits = (\"apple\", \"banana\", \"cherry\")\n",
    "fruits[1] = \"blueberry\"  # TypeError: 'tuple' object does not support item assignment"
   ]
  },
  {
   "cell_type": "code",
   "execution_count": null,
   "id": "23996a82-0d40-45d6-a9c2-96999a0168ec",
   "metadata": {},
   "outputs": [],
   "source": []
  },
  {
   "cell_type": "markdown",
   "id": "42ec0b4a-7aa8-4747-9efe-adc2329f1409",
   "metadata": {
    "tags": []
   },
   "source": [
    "### 6.Concatenating Tuples\n",
    "#### Use the + operator to combine two tuples."
   ]
  },
  {
   "cell_type": "code",
   "execution_count": 7,
   "id": "63ae4bcd-4ffd-4d9c-85ac-4f1f28578f69",
   "metadata": {},
   "outputs": [
    {
     "name": "stdout",
     "output_type": "stream",
     "text": [
      "(1, 2, 3, 4, 5, 6)\n"
     ]
    }
   ],
   "source": [
    "tuple1 = (1, 2, 3)\n",
    "tuple2 = (4, 5, 6)\n",
    "combined_tuple = tuple1 + tuple2\n",
    "print(combined_tuple)  # Output: (1, 2, 3, 4, 5, 6)"
   ]
  },
  {
   "cell_type": "code",
   "execution_count": null,
   "id": "eed6ec95-532b-4474-896e-0752ca0e141b",
   "metadata": {},
   "outputs": [],
   "source": []
  },
  {
   "cell_type": "markdown",
   "id": "c2cfa0f2-17b7-4531-bdfc-f40aa31f0a0d",
   "metadata": {
    "tags": []
   },
   "source": [
    "### 7. Finding the Length of a Tuple\n",
    "#### Use the len() function to find the length of a tuple."
   ]
  },
  {
   "cell_type": "code",
   "execution_count": null,
   "id": "8b4b66d1-8067-4658-aca4-be70b2b9fb60",
   "metadata": {},
   "outputs": [],
   "source": [
    "fruits = (\"apple\", \"banana\", \"cherry\", \"orange\")\n",
    "tuple_length = len(fruits)\n",
    "print(tuple_length)  # Output: 4"
   ]
  },
  {
   "cell_type": "code",
   "execution_count": null,
   "id": "64072e63-e69d-42b2-8a89-108cb864f426",
   "metadata": {},
   "outputs": [],
   "source": []
  },
  {
   "cell_type": "markdown",
   "id": "e3bd7bc6-2d04-46ae-b906-c3ec4a69098a",
   "metadata": {
    "tags": []
   },
   "source": [
    "### 8. Example: Working with Tuples\n",
    "#### In this example, we'll demonstrate a simple use case of tuples without using functions, for loops, or if statements."
   ]
  },
  {
   "cell_type": "code",
   "execution_count": 8,
   "id": "d07a5f06-5ba2-43b3-b0b9-9f5386f85fce",
   "metadata": {},
   "outputs": [
    {
     "name": "stdout",
     "output_type": "stream",
     "text": [
      "The first number is 5 and the last number is 7\n",
      "The middle three numbers are (2, 9, 4)\n"
     ]
    }
   ],
   "source": [
    "# Create a tuple of numbers\n",
    "numbers = (5, 2, 9, 4, 7)\n",
    "\n",
    "# Access and print the first and last elements of the tuple\n",
    "first_number = numbers[0]\n",
    "last_number = numbers[-1]\n",
    "\n",
    "print(f\"The first number is {first_number} and the last number is {last_number}\")\n",
    "\n",
    "# Slice the tuple to get a subtuple of the middle three elements\n",
    "middle_three = numbers[1:4]\n",
    "print(f\"The middle three numbers are {middle_three}\")\n",
    "\n",
    "# Attempting to modify the second element of the tuple will result in an error\n",
    "# numbers[1] = 3  # Uncommenting this"
   ]
  },
  {
   "cell_type": "code",
   "execution_count": null,
   "id": "c746a97d-4569-4ea6-b825-265495ae6c8e",
   "metadata": {},
   "outputs": [],
   "source": []
  }
 ],
 "metadata": {
  "kernelspec": {
   "display_name": "Python 3 (ipykernel)",
   "language": "python",
   "name": "python3"
  },
  "language_info": {
   "codemirror_mode": {
    "name": "ipython",
    "version": 3
   },
   "file_extension": ".py",
   "mimetype": "text/x-python",
   "name": "python",
   "nbconvert_exporter": "python",
   "pygments_lexer": "ipython3",
   "version": "3.8.13"
  }
 },
 "nbformat": 4,
 "nbformat_minor": 5
}
