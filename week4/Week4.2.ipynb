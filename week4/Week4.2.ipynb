{
 "cells": [
  {
   "cell_type": "markdown",
   "id": "1360ca20-de0b-4126-82a7-83af81fe1d39",
   "metadata": {},
   "source": [
    "## Objective: Learn to create and manipulate Python sets <br>\n",
    "\n",
    "### Outline:\n",
    "#### ① Creating a Set\n",
    "#### ② Accessing Set Elements\n",
    "#### ③ Adding Elements to a Set\n",
    "#### ④ Removing Elements from a Set\n",
    "#### ⑤ Set Operations {Union, Intersection, Difference, Symmetric Difference}\n",
    "#### ⑥ Example: Working with Sets"
   ]
  },
  {
   "cell_type": "code",
   "execution_count": null,
   "id": "68cdfb60-7f7b-4806-8707-2588079788e9",
   "metadata": {},
   "outputs": [],
   "source": []
  },
  {
   "cell_type": "markdown",
   "id": "05fea4fa-e20a-4493-915a-a0df9b86b68b",
   "metadata": {
    "tags": []
   },
   "source": [
    "### 1. Creating a Set\n",
    "#### To create a set, use curly braces {} and separate the elements with commas. \n",
    "#### Alternatively, you can use the set() constructor. Sets do not allow duplicate elements and are unordered."
   ]
  },
  {
   "cell_type": "code",
   "execution_count": 1,
   "id": "0a473acd-b67e-4643-ad13-522d84b44fa0",
   "metadata": {},
   "outputs": [],
   "source": [
    "fruits = {\"apple\", \"banana\", \"cherry\"}\n",
    "numbers = set([1, 2, 3, 4, 5])"
   ]
  },
  {
   "cell_type": "code",
   "execution_count": null,
   "id": "97fc0a34-a06b-4298-ab67-f53f5ec146fa",
   "metadata": {},
   "outputs": [],
   "source": []
  },
  {
   "cell_type": "markdown",
   "id": "361be640-1a76-4bf4-a6aa-188954376b86",
   "metadata": {},
   "source": [
    "### 2. Accessing Set Elements\n",
    "#### Since sets are unordered, you cannot access elements using an index.\n",
    "#### However, you can use a for loop to iterate through the elements, or check if an element is present using the in keyword."
   ]
  },
  {
   "cell_type": "code",
   "execution_count": 2,
   "id": "0b7570b0-3f11-4f2b-8bb8-6458fcdb5b25",
   "metadata": {},
   "outputs": [
    {
     "name": "stdout",
     "output_type": "stream",
     "text": [
      "apple\n",
      "cherry\n",
      "banana\n",
      "True\n"
     ]
    }
   ],
   "source": [
    "fruits = {\"apple\", \"banana\", \"cherry\"}\n",
    "\n",
    "# Iterate through the set elements\n",
    "for fruit in fruits:\n",
    "    print(fruit)\n",
    "\n",
    "# Check if an element is in the set\n",
    "print(\"banana\" in fruits)  # Output: True"
   ]
  },
  {
   "cell_type": "code",
   "execution_count": null,
   "id": "629c5ce1-d2f8-492a-9e52-798482aeed4b",
   "metadata": {},
   "outputs": [],
   "source": []
  },
  {
   "cell_type": "markdown",
   "id": "71b7c088-b544-4be6-90da-ed454b2724a8",
   "metadata": {},
   "source": [
    "### 3. Adding Elements to a Set\n",
    "#### Use the add() method to add a single element, and the update() method to add multiple elements from another set or iterable."
   ]
  },
  {
   "cell_type": "code",
   "execution_count": 3,
   "id": "be466f8c-5cbd-4a06-a764-1f98a4d8f338",
   "metadata": {},
   "outputs": [
    {
     "name": "stdout",
     "output_type": "stream",
     "text": [
      "{'apple', 'cherry', 'orange', 'banana'}\n",
      "{'cherry', 'grape', 'orange', 'banana', 'apple', 'kiwi'}\n"
     ]
    }
   ],
   "source": [
    "fruits = {\"apple\", \"banana\", \"cherry\"}\n",
    "fruits.add(\"orange\")\n",
    "print(fruits)  # Output: {'apple', 'banana', 'cherry', 'orange'}\n",
    "\n",
    "fruits.update([\"grape\", \"kiwi\"])\n",
    "print(fruits)  # Output: {'apple', 'banana', 'cherry', 'orange', 'grape', 'kiwi'}"
   ]
  },
  {
   "cell_type": "code",
   "execution_count": null,
   "id": "582dd6d4-b07a-47ba-869b-86be313dbd0a",
   "metadata": {},
   "outputs": [],
   "source": []
  },
  {
   "cell_type": "markdown",
   "id": "80065d77-6ad4-446e-b3e9-e76116dfa763",
   "metadata": {},
   "source": [
    "### 4. Removing Elements from a Set\n",
    "#### Use the remove() method to remove a specific element. \n",
    "#### If the element is not found, a KeyError will be raised. \n",
    "#### Alternatively, use the discard() method, which will not raise an error if the element is not found."
   ]
  },
  {
   "cell_type": "code",
   "execution_count": 4,
   "id": "7149126c-e8dc-43cb-b586-03d3ed114696",
   "metadata": {},
   "outputs": [
    {
     "name": "stdout",
     "output_type": "stream",
     "text": [
      "{'apple', 'cherry'}\n",
      "{'apple', 'cherry'}\n"
     ]
    }
   ],
   "source": [
    "fruits = {\"apple\", \"banana\", \"cherry\"}\n",
    "fruits.remove(\"banana\")\n",
    "print(fruits)  # Output: {'apple', 'cherry'}\n",
    "\n",
    "fruits.discard(\"banana\")\n",
    "print(fruits)  # Output: {'apple', 'cherry'}"
   ]
  },
  {
   "cell_type": "code",
   "execution_count": null,
   "id": "a581dc34-559c-46b8-9f02-41dc115695f3",
   "metadata": {},
   "outputs": [],
   "source": []
  },
  {
   "cell_type": "markdown",
   "id": "ab8a157d-0f10-4257-97f0-f620128215e3",
   "metadata": {
    "tags": []
   },
   "source": [
    "### 5. Set Operations\n",
    "#### Sets support various operations such as union, intersection, difference, and symmetric difference."
   ]
  },
  {
   "cell_type": "code",
   "execution_count": 5,
   "id": "ba7068b6-d8ad-4484-b0f4-e745ab95c636",
   "metadata": {},
   "outputs": [
    {
     "name": "stdout",
     "output_type": "stream",
     "text": [
      "{1, 2, 3, 4, 5, 6}\n",
      "{3, 4}\n",
      "{1, 2}\n",
      "{1, 2, 5, 6}\n"
     ]
    }
   ],
   "source": [
    "A = {1, 2, 3, 4}\n",
    "B = {3, 4, 5, 6}\n",
    "\n",
    "# Union\n",
    "union = A.union(B)\n",
    "print(union)  # Output: {1, 2, 3, 4, 5, 6}\n",
    "\n",
    "# Intersection\n",
    "intersection = A.intersection(B)\n",
    "print(intersection)  # Output: {3, 4}\n",
    "\n",
    "# Difference\n",
    "difference = A.difference(B)\n",
    "print(difference)  # Output: {1, 2}\n",
    "\n",
    "# Symmetric Difference\n",
    "symmetric_difference = A.symmetric_difference(B)\n",
    "print(symmetric_difference)  # Output: {1, 2, 5, 6}"
   ]
  },
  {
   "cell_type": "code",
   "execution_count": null,
   "id": "606f1470-b2b1-4f49-b609-f16025492610",
   "metadata": {},
   "outputs": [],
   "source": []
  },
  {
   "cell_type": "markdown",
   "id": "ca7e71e6-4d70-4296-9e5e-e49cd378d3fe",
   "metadata": {},
   "source": [
    "### 6. Example: Working with Sets\n",
    "#### In this example, we'll demonstrate a simple use case of sets.\n",
    "#### Sets are useful when you need to store a collection of unique, unordered elements and perform operations like union, intersection, or difference."
   ]
  },
  {
   "cell_type": "code",
   "execution_count": null,
   "id": "55d82b5c-2fce-4171-afbf-22fbe802e7d5",
   "metadata": {},
   "outputs": [],
   "source": [
    "# Create a set of numbers\n",
    "numbers = {5, 2, 9, 4, 7}\n",
    "\n",
    "# Add a new number to the set\n",
    "numbers.add(10)\n",
    "print(f\"Set after adding a new number: {numbers}\")\n",
    "\n",
    "# Remove an element from the set\n",
    "numbers.discard(7)\n",
    "print(f\"Set after removing an element: {numbers}\")\n",
    "\n",
    "\n",
    "# Find the union of two sets\n",
    "even_numbers = {2, 4, 6, 8, 10}\n",
    "odd_numbers = {1, 3, 5, 7, 9}\n",
    "all_numbers = even_numbers.union(odd_numbers)\n",
    "print(f\"Union of even and odd numbers: {all_numbers}\")\n",
    "\n",
    "# Find the intersection of two sets\n",
    "common_numbers = even_numbers.intersection(numbers)\n",
    "print(f\"Intersection of even_numbers and numbers: {common_numbers}\")"
   ]
  }
 ],
 "metadata": {
  "kernelspec": {
   "display_name": "Python 3 (ipykernel)",
   "language": "python",
   "name": "python3"
  },
  "language_info": {
   "codemirror_mode": {
    "name": "ipython",
    "version": 3
   },
   "file_extension": ".py",
   "mimetype": "text/x-python",
   "name": "python",
   "nbconvert_exporter": "python",
   "pygments_lexer": "ipython3",
   "version": "3.8.13"
  }
 },
 "nbformat": 4,
 "nbformat_minor": 5
}
