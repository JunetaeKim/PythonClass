{
 "cells": [
  {
   "cell_type": "markdown",
   "id": "291d2b4c",
   "metadata": {},
   "source": [
    "## Objective: Learn to create and manipulate Python dictionaries <br>\n",
    "https://colab.research.google.com/github/JunetaeKim/PythonClass/blob/main/week4/Week4.3.ipynb\n",
    "### Outline:\n",
    "\n",
    "#### ① Creating a Dictionary\n",
    "#### ② Accessing Dictionary Elements\n",
    "#### ③ Adding and Updating Elements\n",
    "#### ④ Removing Elements\n",
    "#### ⑤ Looping Through a Dictionary\n",
    "#### ⑥ Dictionary Methods\n",
    "#### ⑦ Example: Working with Dictionaries"
   ]
  },
  {
   "cell_type": "code",
   "execution_count": null,
   "id": "260f49c1",
   "metadata": {},
   "outputs": [],
   "source": []
  },
  {
   "cell_type": "markdown",
   "id": "6e9b4241",
   "metadata": {
    "tags": []
   },
   "source": [
    "### 1. Creating a Dictionary\n",
    "#### A dictionary is a collection of key-value pairs, where each key is unique. \n",
    "#### To create a dictionary, use curly braces {} and separate the keys and values with colons, and the key-value pairs with commas. \n",
    "#### You can also use the dict() constructor."
   ]
  },
  {
   "cell_type": "code",
   "execution_count": 1,
   "id": "342f0e92",
   "metadata": {},
   "outputs": [],
   "source": [
    "person = {\n",
    "    \"name\": \"John\",\n",
    "    \"age\": 30,\n",
    "    \"city\": \"New York\"\n",
    "}\n",
    "scores = dict(math=95, physics=90, chemistry=85)"
   ]
  },
  {
   "cell_type": "code",
   "execution_count": null,
   "id": "00f3e150",
   "metadata": {},
   "outputs": [],
   "source": []
  },
  {
   "cell_type": "markdown",
   "id": "613dea16",
   "metadata": {
    "tags": []
   },
   "source": [
    "### 2. Accessing Dictionary Elements\n",
    "#### Use the key inside square brackets [] to access the value associated with that key. \n",
    "#### You can also use the get() method, which returns a default value if the key is not found."
   ]
  },
  {
   "cell_type": "code",
   "execution_count": 2,
   "id": "6ac08c20",
   "metadata": {},
   "outputs": [
    {
     "name": "stdout",
     "output_type": "stream",
     "text": [
      "John\n",
      "30\n",
      "Not found\n"
     ]
    }
   ],
   "source": [
    "person = {\"name\": \"John\", \"age\": 30, \"city\": \"New York\"}\n",
    "\n",
    "print(person[\"name\"])  # Output: John\n",
    "print(person.get(\"age\", \"Not found\"))  # Output: 30\n",
    "print(person.get(\"country\", \"Not found\"))  # Output: Not found"
   ]
  },
  {
   "cell_type": "code",
   "execution_count": null,
   "id": "5c662bd0",
   "metadata": {},
   "outputs": [],
   "source": []
  },
  {
   "cell_type": "markdown",
   "id": "a8a94afe",
   "metadata": {},
   "source": [
    "### 3. Adding and Updating Elements\n",
    "#### To add a new key-value pair or update the value of an existing key, use the assignment operator = with the key inside square brackets []."
   ]
  },
  {
   "cell_type": "code",
   "execution_count": 2,
   "id": "d0d89c03",
   "metadata": {},
   "outputs": [
    {
     "name": "stdout",
     "output_type": "stream",
     "text": [
      "{'name': 'John', 'age': 31, 'city': 'New York', 'country': 'USA'}\n"
     ]
    }
   ],
   "source": [
    "person = {\"name\": \"John\", \"age\": 30, \"city\": \"New York\"}\n",
    "\n",
    "person[\"country\"] = \"USA\"  # Adds a new key-value pair\n",
    "person[\"age\"] = 31  # Updates the value of an existing key\n",
    "print(person)"
   ]
  },
  {
   "cell_type": "code",
   "execution_count": null,
   "id": "2c519fe0",
   "metadata": {},
   "outputs": [],
   "source": []
  },
  {
   "cell_type": "markdown",
   "id": "3e898a17",
   "metadata": {},
   "source": [
    "### 4. Removing Elements\n",
    "#### Use the pop() method to remove a key-value pair by its key, and the popitem() method to remove the last key-value pair. \n",
    "#### To remove all items, use the clear() method."
   ]
  },
  {
   "cell_type": "code",
   "execution_count": 4,
   "id": "52c3f181",
   "metadata": {},
   "outputs": [
    {
     "name": "stdout",
     "output_type": "stream",
     "text": [
      "{'name': 'John', 'city': 'New York'}\n",
      "{'name': 'John'}\n",
      "{}\n"
     ]
    }
   ],
   "source": [
    "person = {\"name\": \"John\", \"age\": 30, \"city\": \"New York\"}\n",
    "\n",
    "person.pop(\"age\")\n",
    "print(person)  # Output: {'name': 'John', 'city': 'New York'}\n",
    "\n",
    "person.popitem() # Remove the last item\n",
    "print(person)  # Output: {'name': 'John'}\n",
    "\n",
    "person.clear()\n",
    "print(person)  # Output: {}"
   ]
  },
  {
   "cell_type": "code",
   "execution_count": 4,
   "id": "3aae7424",
   "metadata": {},
   "outputs": [
    {
     "data": {
      "text/plain": [
       "{'name': 'John'}"
      ]
     },
     "execution_count": 4,
     "metadata": {},
     "output_type": "execute_result"
    }
   ],
   "source": []
  },
  {
   "cell_type": "markdown",
   "id": "cac63968",
   "metadata": {},
   "source": [
    "### 5. Looping Through a Dictionary\n",
    "#### Use a for loop to iterate through the keys, values, or both."
   ]
  },
  {
   "cell_type": "code",
   "execution_count": 5,
   "id": "c924abfd",
   "metadata": {},
   "outputs": [
    {
     "name": "stdout",
     "output_type": "stream",
     "text": [
      "name\n",
      "age\n",
      "city\n",
      "John\n",
      "30\n",
      "New York\n",
      "name: John\n",
      "age: 30\n",
      "city: New York\n"
     ]
    }
   ],
   "source": [
    "person = {\"name\": \"John\", \"age\": 30, \"city\": \"New York\"}\n",
    "\n",
    "for key in person:\n",
    "    print(key)\n",
    "\n",
    "for value in person.values():\n",
    "    print(value)\n",
    "\n",
    "for key, value in person.items():\n",
    "    print(f\"{key}: {value}\")"
   ]
  },
  {
   "cell_type": "code",
   "execution_count": null,
   "id": "2a6b00ca",
   "metadata": {},
   "outputs": [],
   "source": []
  },
  {
   "cell_type": "markdown",
   "id": "70fab57d",
   "metadata": {},
   "source": [
    "### 6. Dictionary Methods\n",
    "#### Some common dictionary methods include keys(), values(), items(), copy(), and update()."
   ]
  },
  {
   "cell_type": "code",
   "execution_count": 7,
   "id": "fe46749a",
   "metadata": {},
   "outputs": [],
   "source": [
    "person = {\"name\": \"John\", \"age\": 30, \"city\": \"New York\"}\n",
    "\n",
    "keys = person.keys()\n",
    "values = person.values()\n",
    "items = person.items()\n",
    "person_copy = person.copy()\n",
    "\n",
    "person.update({\"country\": \"USA\", \"city\": \"Los Angeles\"})"
   ]
  },
  {
   "cell_type": "code",
   "execution_count": null,
   "id": "4361e5c8",
   "metadata": {},
   "outputs": [],
   "source": []
  },
  {
   "cell_type": "markdown",
   "id": "c799c8b0",
   "metadata": {},
   "source": [
    "### 7. Example: Working with Dictionaries\n",
    "#### In this example, we'll demonstrate a simple use case of dictionaries."
   ]
  },
  {
   "cell_type": "code",
   "execution_count": 7,
   "id": "7c15fda7",
   "metadata": {},
   "outputs": [
    {
     "name": "stdout",
     "output_type": "stream",
     "text": [
      "{'John': 85, 'Emily': 95, 'Lucy': 88, 'Michael': 90}\n",
      "{'John': 85, 'Emily': 95, 'Michael': 90}\n",
      "Average grade: 90.0\n",
      "Highest grade: 95\n"
     ]
    }
   ],
   "source": [
    "# Create a dictionary of student grades\n",
    "grades = {\"John\": 85, \"Emily\": 92, \"Lucy\": 88}\n",
    "\n",
    "# Add a new student's grade\n",
    "grades[\"Michael\"] = 90\n",
    "\n",
    "# Update a student's grade\n",
    "grades[\"Emily\"] = 95\n",
    "print(grades)  # Output: {'John': 85, 'Emily': 95, 'Lucy': 88, 'Michael': 90}\n",
    "\n",
    "# Remove a student's grade\n",
    "grades.pop(\"Lucy\")\n",
    "print(grades)  # Output: {'John': 85, 'Emily': 95, 'Michael': 90}\n",
    "\n",
    "# Calculate the average grade\n",
    "average = sum(grades.values()) / len(grades)\n",
    "print(f\"Average grade: {average}\")\n",
    "\n",
    "# Find the highest grade\n",
    "highest_grade = max(grades.values())\n",
    "print(f\"Highest grade: {highest_grade}\")\n"
   ]
  }
 ],
 "metadata": {
  "kernelspec": {
   "display_name": "Python 3 (ipykernel)",
   "language": "python",
   "name": "python3"
  },
  "language_info": {
   "codemirror_mode": {
    "name": "ipython",
    "version": 3
   },
   "file_extension": ".py",
   "mimetype": "text/x-python",
   "name": "python",
   "nbconvert_exporter": "python",
   "pygments_lexer": "ipython3",
   "version": "3.8.13"
  }
 },
 "nbformat": 4,
 "nbformat_minor": 5
}
