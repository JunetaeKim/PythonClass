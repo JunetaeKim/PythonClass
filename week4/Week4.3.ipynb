{
 "cells": [
  {
   "cell_type": "markdown",
   "id": "1360ca20-de0b-4126-82a7-83af81fe1d39",
   "metadata": {},
   "source": [
    "## Objective: Learn to create and manipulate Python dictionaries <br>\n",
    "\n",
    "### Outline:\n",
    "\n",
    "#### ① Creating a Dictionary\n",
    "#### ② Accessing Dictionary Elements\n",
    "#### ③ Adding and Updating Elements\n",
    "#### ④ Removing Elements\n",
    "#### ⑤ Looping Through a Dictionary\n",
    "#### ⑥ Dictionary Methods\n",
    "#### ⑦ Example: Working with Dictionaries"
   ]
  },
  {
   "cell_type": "code",
   "execution_count": null,
   "id": "24688855-b042-4554-aacc-337e6789aff6",
   "metadata": {},
   "outputs": [],
   "source": []
  },
  {
   "cell_type": "markdown",
   "id": "fb85c20b-15b3-48b0-9ac1-7e9862b04976",
   "metadata": {
    "tags": []
   },
   "source": [
    "### 1. Creating a Dictionary\n",
    "#### A dictionary is a collection of key-value pairs, where each key is unique. \n",
    "#### To create a dictionary, use curly braces {} and separate the keys and values with colons, and the key-value pairs with commas. \n",
    "#### You can also use the dict() constructor."
   ]
  },
  {
   "cell_type": "code",
   "execution_count": 1,
   "id": "18115754-8e47-47a1-b07a-b1686e22f180",
   "metadata": {},
   "outputs": [],
   "source": [
    "person = {\n",
    "    \"name\": \"John\",\n",
    "    \"age\": 30,\n",
    "    \"city\": \"New York\"\n",
    "}\n",
    "scores = dict(math=95, physics=90, chemistry=85)"
   ]
  },
  {
   "cell_type": "code",
   "execution_count": null,
   "id": "6659e00c-2192-4f24-a29d-b4a075585afe",
   "metadata": {},
   "outputs": [],
   "source": []
  },
  {
   "cell_type": "markdown",
   "id": "a39efafa-203f-4c4b-963b-10b8402a78b0",
   "metadata": {
    "tags": []
   },
   "source": [
    "### 2. Accessing Dictionary Elements\n",
    "#### Use the key inside square brackets [] to access the value associated with that key. \n",
    "#### You can also use the get() method, which returns a default value if the key is not found."
   ]
  },
  {
   "cell_type": "code",
   "execution_count": 2,
   "id": "c02e9b01-077b-443d-99eb-65b4403dff18",
   "metadata": {},
   "outputs": [
    {
     "name": "stdout",
     "output_type": "stream",
     "text": [
      "John\n",
      "30\n",
      "Not found\n"
     ]
    }
   ],
   "source": [
    "person = {\"name\": \"John\", \"age\": 30, \"city\": \"New York\"}\n",
    "\n",
    "print(person[\"name\"])  # Output: John\n",
    "print(person.get(\"age\", \"Not found\"))  # Output: 30\n",
    "print(person.get(\"country\", \"Not found\"))  # Output: Not found"
   ]
  },
  {
   "cell_type": "code",
   "execution_count": null,
   "id": "b9c169c0-1aa6-4203-886d-1c06151fb1a7",
   "metadata": {},
   "outputs": [],
   "source": []
  },
  {
   "cell_type": "markdown",
   "id": "7011daf3-a720-435f-ac3d-65b48e2adc2c",
   "metadata": {},
   "source": [
    "### 3. Adding and Updating Elements\n",
    "#### To add a new key-value pair or update the value of an existing key, use the assignment operator = with the key inside square brackets []."
   ]
  },
  {
   "cell_type": "code",
   "execution_count": 3,
   "id": "3984f3c2-cd2c-418e-8874-b612c49cf6f0",
   "metadata": {},
   "outputs": [
    {
     "name": "stdout",
     "output_type": "stream",
     "text": [
      "{'name': 'John', 'age': 31, 'city': 'New York', 'country': 'USA'}\n"
     ]
    }
   ],
   "source": [
    "person = {\"name\": \"John\", \"age\": 30, \"city\": \"New York\"}\n",
    "\n",
    "person[\"country\"] = \"USA\"  # Adds a new key-value pair\n",
    "person[\"age\"] = 31  # Updates the value of an existing key\n",
    "print(person)"
   ]
  },
  {
   "cell_type": "code",
   "execution_count": null,
   "id": "2c9f8582-9f3a-41a2-b103-ecb288cef76d",
   "metadata": {},
   "outputs": [],
   "source": []
  },
  {
   "cell_type": "markdown",
   "id": "44bf996c-018a-47e2-bc20-db68e309b6b9",
   "metadata": {},
   "source": [
    "### 4. Removing Elements\n",
    "#### Use the pop() method to remove a key-value pair by its key, and the popitem() method to remove the last key-value pair. \n",
    "#### To remove all items, use the clear() method."
   ]
  },
  {
   "cell_type": "code",
   "execution_count": 4,
   "id": "14b69eea-f408-45da-b57e-08e0cf7d8f99",
   "metadata": {},
   "outputs": [
    {
     "name": "stdout",
     "output_type": "stream",
     "text": [
      "{'name': 'John', 'city': 'New York'}\n",
      "{'name': 'John'}\n",
      "{}\n"
     ]
    }
   ],
   "source": [
    "person = {\"name\": \"John\", \"age\": 30, \"city\": \"New York\"}\n",
    "\n",
    "person.pop(\"age\")\n",
    "print(person)  # Output: {'name': 'John', 'city': 'New York'}\n",
    "\n",
    "person.popitem()\n",
    "print(person)  # Output: {'name': 'John'}\n",
    "\n",
    "person.clear()\n",
    "print(person)  # Output: {}"
   ]
  },
  {
   "cell_type": "code",
   "execution_count": null,
   "id": "c11ef014-3b1e-4a96-9784-fd4be353efbc",
   "metadata": {},
   "outputs": [],
   "source": []
  },
  {
   "cell_type": "markdown",
   "id": "43154830-02a7-4b4e-a070-2a18bb934e8a",
   "metadata": {},
   "source": [
    "### 5. Looping Through a Dictionary\n",
    "#### Use a for loop to iterate through the keys, values, or both."
   ]
  },
  {
   "cell_type": "code",
   "execution_count": 5,
   "id": "63cdc154-9ed3-4b8c-9388-dd53d27edc70",
   "metadata": {},
   "outputs": [
    {
     "name": "stdout",
     "output_type": "stream",
     "text": [
      "name\n",
      "age\n",
      "city\n",
      "John\n",
      "30\n",
      "New York\n",
      "name: John\n",
      "age: 30\n",
      "city: New York\n"
     ]
    }
   ],
   "source": [
    "person = {\"name\": \"John\", \"age\": 30, \"city\": \"New York\"}\n",
    "\n",
    "for key in person:\n",
    "    print(key)\n",
    "\n",
    "for value in person.values():\n",
    "    print(value)\n",
    "\n",
    "for key, value in person.items():\n",
    "    print(f\"{key}: {value}\")"
   ]
  },
  {
   "cell_type": "code",
   "execution_count": null,
   "id": "50f3192f-767f-44df-8532-413ca0f35a3b",
   "metadata": {},
   "outputs": [],
   "source": []
  },
  {
   "cell_type": "markdown",
   "id": "6e78d164-a2d8-4d0c-aa2a-e6dde8387073",
   "metadata": {},
   "source": [
    "### 6. Dictionary Methods\n",
    "#### Some common dictionary methods include keys(), values(), items(), copy(), and update()."
   ]
  },
  {
   "cell_type": "code",
   "execution_count": 6,
   "id": "adade2a6-6dee-4165-a97b-bc316631e245",
   "metadata": {},
   "outputs": [],
   "source": [
    "person = {\"name\": \"John\", \"age\": 30, \"city\": \"New York\"}\n",
    "\n",
    "keys = person.keys()\n",
    "values = person.values()\n",
    "items = person.items()\n",
    "person_copy = person.copy()\n",
    "\n",
    "person.update({\"country\": \"USA\", \"city\": \"Los Angeles\"})"
   ]
  },
  {
   "cell_type": "code",
   "execution_count": null,
   "id": "e6300b9f-01cf-41a9-903a-a5e4655f10c6",
   "metadata": {},
   "outputs": [],
   "source": []
  },
  {
   "cell_type": "markdown",
   "id": "a6993df2-2e82-40c6-967e-600796c7c8b7",
   "metadata": {},
   "source": [
    "### 7. Example: Working with Dictionaries\n",
    "#### In this example, we'll demonstrate a simple use case of dictionaries."
   ]
  },
  {
   "cell_type": "code",
   "execution_count": 7,
   "id": "beaeaa5b-c2ed-4a44-baae-688faa70da30",
   "metadata": {},
   "outputs": [
    {
     "name": "stdout",
     "output_type": "stream",
     "text": [
      "{'John': 85, 'Emily': 95, 'Lucy': 88, 'Michael': 90}\n",
      "{'John': 85, 'Emily': 95, 'Michael': 90}\n",
      "Average grade: 90.0\n",
      "Highest grade: 95\n"
     ]
    }
   ],
   "source": [
    "# Create a dictionary of student grades\n",
    "grades = {\"John\": 85, \"Emily\": 92, \"Lucy\": 88}\n",
    "\n",
    "# Add a new student's grade\n",
    "grades[\"Michael\"] = 90\n",
    "\n",
    "# Update a student's grade\n",
    "grades[\"Emily\"] = 95\n",
    "print(grades)  # Output: {'John': 85, 'Emily': 95, 'Lucy': 88, 'Michael': 90}\n",
    "\n",
    "# Remove a student's grade\n",
    "grades.pop(\"Lucy\")\n",
    "print(grades)  # Output: {'John': 85, 'Emily': 95, 'Michael': 90}\n",
    "\n",
    "# Calculate the average grade\n",
    "average = sum(grades.values()) / len(grades)\n",
    "print(f\"Average grade: {average}\")\n",
    "\n",
    "# Find the highest grade\n",
    "highest_grade = max(grades.values())\n",
    "print(f\"Highest grade: {highest_grade}\")\n"
   ]
  }
 ],
 "metadata": {
  "kernelspec": {
   "display_name": "Python 3 (ipykernel)",
   "language": "python",
   "name": "python3"
  },
  "language_info": {
   "codemirror_mode": {
    "name": "ipython",
    "version": 3
   },
   "file_extension": ".py",
   "mimetype": "text/x-python",
   "name": "python",
   "nbconvert_exporter": "python",
   "pygments_lexer": "ipython3",
   "version": "3.8.13"
  }
 },
 "nbformat": 4,
 "nbformat_minor": 5
}
